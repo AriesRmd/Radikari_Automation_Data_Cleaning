{
  "cells": [
    {
      "cell_type": "markdown",
      "metadata": {
        "id": "7E6EykVnwzKL"
      },
      "source": [
        "**Note**\n",
        "Order kurang dari 40 jangan didelete. bisa jadi kurang aja angkanya"
      ]
    },
    {
      "cell_type": "markdown",
      "metadata": {
        "id": "Z30JHSzLrjTQ"
      },
      "source": [
        "#Upload Data"
      ]
    },
    {
      "cell_type": "code",
      "execution_count": 15,
      "metadata": {
        "id": "OJ311f4ls_Bn"
      },
      "outputs": [],
      "source": [
        "import pandas as pd\n",
        "import numpy as np\n",
        "import os\n",
        "from google.colab import data_table\n",
        "data_table.enable_dataframe_formatter()"
      ]
    },
    {
      "cell_type": "code",
      "execution_count": 16,
      "metadata": {
        "id": "f9B3yhL5hvRw"
      },
      "outputs": [],
      "source": [
        "# Suppress SettingWithCopyWarning, nutupin warning\n",
        "pd.options.mode.chained_assignment = None  # default='warn'\n",
        "\n",
        "#max row view\n",
        "pd.set_option('display.max_rows', None)"
      ]
    },
    {
      "cell_type": "code",
      "execution_count": 17,
      "metadata": {
        "colab": {
          "base_uri": "https://localhost:8080/"
        },
        "id": "c2-8bQBOuYLS",
        "outputId": "96f47f60-f71a-4de7-93c1-11bfb0c90efd"
      },
      "outputs": [
        {
          "output_type": "stream",
          "name": "stderr",
          "text": [
            "<ipython-input-17-3f4cd774ec27>:4: DtypeWarning: Columns (1,5,10,12,18) have mixed types. Specify dtype option on import or set low_memory=False.\n",
            "  df1 = pd.read_csv(\"/content/drive/MyDrive/KYC/Combine_Check/Check1.csv\", delimiter=';')\n",
            "<ipython-input-17-3f4cd774ec27>:5: DtypeWarning: Columns (1,10,12,18) have mixed types. Specify dtype option on import or set low_memory=False.\n",
            "  df2 = pd.read_csv(\"/content/drive/MyDrive/KYC/Combine_Check/Check2.csv\", delimiter=';')\n"
          ]
        }
      ],
      "source": [
        "#df = pd.read_csv(\"/content/drive/MyDrive/KYC/Combine_Check/Check1.csv\", delimiter=';')\n",
        "\n",
        "# #Jika dibagi 2 excel (Jogja dan Semarang)\n",
        "df1 = pd.read_csv(\"/content/drive/MyDrive/KYC/Combine_Check/Check1.csv\", delimiter=';')\n",
        "df2 = pd.read_csv(\"/content/drive/MyDrive/KYC/Combine_Check/Check2.csv\", delimiter=';')\n",
        "# # df3 = pd.read_csv(\"/content/drive/MyDrive/KYC/Combine_Check/Check3.csv\", delimiter=';')\n",
        "\n",
        "# Combine dataframes without keys, tambahkan df3 jika ada 3\n",
        "df = pd.concat([df1, df2], ignore_index=True)\n",
        "\n",
        "\n",
        "# Reset the index to remove the extra level\n",
        "df = df.reset_index(drop=True)"
      ]
    },
    {
      "cell_type": "code",
      "execution_count": 18,
      "metadata": {
        "colab": {
          "base_uri": "https://localhost:8080/"
        },
        "id": "BUZLxpQB2afo",
        "outputId": "098c37e5-b4f1-4f7b-8adf-02078e4a5386"
      },
      "outputs": [
        {
          "output_type": "stream",
          "name": "stdout",
          "text": [
            "Total rows in the DataFrame: 1106380\n"
          ]
        }
      ],
      "source": [
        "# Print the total number of rows\n",
        "total_rows = df.shape[0]\n",
        "print(f'Total rows in the DataFrame: {total_rows}')"
      ]
    },
    {
      "cell_type": "code",
      "execution_count": 19,
      "metadata": {
        "id": "ClyyI7iC7KWI"
      },
      "outputs": [],
      "source": [
        "# Add a new empty column named \"New Column\"\n",
        "df['Keterangan'] = None"
      ]
    },
    {
      "cell_type": "markdown",
      "metadata": {
        "id": "VSG-_ik2oC9b"
      },
      "source": [
        "#Processing Data 1"
      ]
    },
    {
      "cell_type": "code",
      "execution_count": null,
      "metadata": {
        "id": "avGUcpd1e_lV"
      },
      "outputs": [],
      "source": [
        "df.head()"
      ]
    },
    {
      "cell_type": "markdown",
      "metadata": {
        "id": "yUf-d9fq5CI9"
      },
      "source": [
        "##Check Order Id & No Telpon"
      ]
    },
    {
      "cell_type": "code",
      "execution_count": 21,
      "metadata": {
        "id": "RYILVIyQ58x4"
      },
      "outputs": [],
      "source": [
        "def process_order_id(df):\n",
        "    # Delete rows where 'ORDER ID' has less than 40 characters\n",
        "    df = df[df['ORDER ID'].str.len() >= 35]\n",
        "\n",
        "    # Check if 'ORDER ID' length is less than 40\n",
        "    df.loc[df['ORDER ID'].str.len() < 40, 'Keterangan'] = 'order id salah'\n",
        "\n",
        "    # Update 'Keterangan' for 'ORDER ID' with more than 40 characters\n",
        "    df.loc[df['ORDER ID'].str.len() > 40, 'Keterangan'] = df.apply(\n",
        "        lambda row: row['Keterangan'] + ' & order id salah' if pd.notna(row['Keterangan']) else 'order id salah',\n",
        "        axis=1\n",
        "    )\n",
        "\n",
        "    # Check 'NO. HP' and update 'Keterangan' if the condition is not met\n",
        "    df.loc[~df['NO. HP'].astype(str).str.startswith(('6', '8', '0')), 'Keterangan'] = df.apply(\n",
        "        lambda row: row['Keterangan'] + ' & Telpon Check' if pd.notna(row['Keterangan']) else 'no telpon salah',\n",
        "        axis=1\n",
        "    )\n",
        "\n",
        "    return df"
      ]
    },
    {
      "cell_type": "code",
      "execution_count": 22,
      "metadata": {
        "id": "foCyk3GN43y3"
      },
      "outputs": [],
      "source": [
        "# Call the function with the DataFrame\n",
        "df = process_order_id(df)"
      ]
    },
    {
      "cell_type": "code",
      "execution_count": null,
      "metadata": {
        "id": "TLOvLrPLI4Lw"
      },
      "outputs": [],
      "source": [
        "# View rows where 'Keterangan' is not null\n",
        "result_df = df[df['Keterangan'].notnull()]\n",
        "\n",
        "# Display the result\n",
        "result_df"
      ]
    },
    {
      "cell_type": "code",
      "execution_count": 24,
      "metadata": {
        "id": "7ksVG6dRk6Zc"
      },
      "outputs": [],
      "source": [
        "ori_df = df"
      ]
    },
    {
      "cell_type": "markdown",
      "metadata": {
        "id": "0IWMj0Jc47a4"
      },
      "source": [
        "##Formatting Date & Delete Source Data"
      ]
    },
    {
      "cell_type": "code",
      "execution_count": 25,
      "metadata": {
        "id": "DlOQBTG40Acj",
        "colab": {
          "base_uri": "https://localhost:8080/",
          "height": 620
        },
        "outputId": "092d3fad-f648-4c89-8254-1c3d373b208c",
        "collapsed": true
      },
      "outputs": [
        {
          "output_type": "stream",
          "name": "stdout",
          "text": [
            "Warning: Total number of columns (22) exceeds max_columns (20). Falling back to pandas display.\n"
          ]
        },
        {
          "output_type": "execute_result",
          "data": {
            "text/plain": [
              "                                   ORDER ID         NO. HP Doc Type   STATUS  \\\n",
              "0  20240807111215800000DANAW3ID705792020428  6281367226124      KTP    CHECK   \n",
              "1  20240808111215800000DANAW3ID518791941028  6282120783691      KTP  REVOKED   \n",
              "2  20240808111215800000DANAW3ID592891813060  6285362928646      KTP   REJECT   \n",
              "3  20240807111215800000DANAW3ID490093092346  6281370744374      KTP    CHECK   \n",
              "4  20240808111215800000DANAW3ID247793732769  6282290386265      KTP   REJECT   \n",
              "\n",
              "                        Reason New Remarks                     ID AGENT  \\\n",
              "0                          NaN         NaN  agent.jogja407@radikari.com   \n",
              "1            FOTO KTP TEMPELAN         NaN  agent.jogja407@radikari.com   \n",
              "2  BACKGROUND TIDAK SESUAI TTL         NaN  agent.jogja407@radikari.com   \n",
              "3                          NaN         NaN  agent.jogja403@radikari.com   \n",
              "4  BACKGROUND TIDAK SESUAI TTL         NaN  agent.jogja403@radikari.com   \n",
              "\n",
              "                     NAMA AGENT        Modified Date Support DOC  ...  \\\n",
              "0         Wibulan Ekaning Ratri  08-08-2024 13:51:02          KK  ...   \n",
              "1         Wibulan Ekaning Ratri  08-08-2024 13:59:08   Tidak Ada  ...   \n",
              "2         Wibulan Ekaning Ratri  08-08-2024 14:06:50          KK  ...   \n",
              "3  Yunita Risang Saksana Awiati  08-08-2024 13:47:29          KK  ...   \n",
              "4  Yunita Risang Saksana Awiati  08-08-2024 13:55:03          KK  ...   \n",
              "\n",
              "  Biometric Score WorkingDate KTP Defect >1 Status Revoke  \\\n",
              "0             0.0  08-08-2024           NaN           NaN   \n",
              "1             0.0  08-08-2024            No       REVOKED   \n",
              "2             0.0  08-08-2024            No       REVOKED   \n",
              "3             0.0  08-08-2024           NaN           NaN   \n",
              "4             0.0  08-08-2024            No       REVOKED   \n",
              "\n",
              "                                       Reason Revoke  \\\n",
              "0                                                NaN   \n",
              "1                       YOUR ID CARD IS NOT EKTP/KTP   \n",
              "2  Reject document doesn't match the specified ty...   \n",
              "3                                                NaN   \n",
              "4  Reject document doesn't match the specified ty...   \n",
              "\n",
              "                                  New Remarks Revoke Source Data  \\\n",
              "0                                                NaN         NaN   \n",
              "1         Photo On Id Card Taped (Foto KTP Tempelan)         NaN   \n",
              "2  Background KTP doesn’t match (Background Foto ...         NaN   \n",
              "3                                                NaN         NaN   \n",
              "4  Background KTP doesn’t match (Background Foto ...         NaN   \n",
              "\n",
              "  Remarks Zolos Incomplete Unnamed: 19 Keterangan  \n",
              "0                      NaN         NaN       None  \n",
              "1                      NaN         NaN       None  \n",
              "2                      NaN         NaN       None  \n",
              "3                      NaN         NaN       None  \n",
              "4                      NaN         NaN       None  \n",
              "\n",
              "[5 rows x 22 columns]"
            ],
            "text/html": [
              "\n",
              "  <div id=\"df-15b08cff-81ee-4e15-a96b-3bcec8a3b341\" class=\"colab-df-container\">\n",
              "    <div>\n",
              "<style scoped>\n",
              "    .dataframe tbody tr th:only-of-type {\n",
              "        vertical-align: middle;\n",
              "    }\n",
              "\n",
              "    .dataframe tbody tr th {\n",
              "        vertical-align: top;\n",
              "    }\n",
              "\n",
              "    .dataframe thead th {\n",
              "        text-align: right;\n",
              "    }\n",
              "</style>\n",
              "<table border=\"1\" class=\"dataframe\">\n",
              "  <thead>\n",
              "    <tr style=\"text-align: right;\">\n",
              "      <th></th>\n",
              "      <th>ORDER ID</th>\n",
              "      <th>NO. HP</th>\n",
              "      <th>Doc Type</th>\n",
              "      <th>STATUS</th>\n",
              "      <th>Reason</th>\n",
              "      <th>New Remarks</th>\n",
              "      <th>ID AGENT</th>\n",
              "      <th>NAMA AGENT</th>\n",
              "      <th>Modified Date</th>\n",
              "      <th>Support DOC</th>\n",
              "      <th>...</th>\n",
              "      <th>Biometric Score</th>\n",
              "      <th>WorkingDate</th>\n",
              "      <th>KTP Defect &gt;1</th>\n",
              "      <th>Status Revoke</th>\n",
              "      <th>Reason Revoke</th>\n",
              "      <th>New Remarks Revoke</th>\n",
              "      <th>Source Data</th>\n",
              "      <th>Remarks Zolos Incomplete</th>\n",
              "      <th>Unnamed: 19</th>\n",
              "      <th>Keterangan</th>\n",
              "    </tr>\n",
              "  </thead>\n",
              "  <tbody>\n",
              "    <tr>\n",
              "      <th>0</th>\n",
              "      <td>20240807111215800000DANAW3ID705792020428</td>\n",
              "      <td>6281367226124</td>\n",
              "      <td>KTP</td>\n",
              "      <td>CHECK</td>\n",
              "      <td>NaN</td>\n",
              "      <td>NaN</td>\n",
              "      <td>agent.jogja407@radikari.com</td>\n",
              "      <td>Wibulan Ekaning Ratri</td>\n",
              "      <td>08-08-2024 13:51:02</td>\n",
              "      <td>KK</td>\n",
              "      <td>...</td>\n",
              "      <td>0.0</td>\n",
              "      <td>08-08-2024</td>\n",
              "      <td>NaN</td>\n",
              "      <td>NaN</td>\n",
              "      <td>NaN</td>\n",
              "      <td>NaN</td>\n",
              "      <td>NaN</td>\n",
              "      <td>NaN</td>\n",
              "      <td>NaN</td>\n",
              "      <td>None</td>\n",
              "    </tr>\n",
              "    <tr>\n",
              "      <th>1</th>\n",
              "      <td>20240808111215800000DANAW3ID518791941028</td>\n",
              "      <td>6282120783691</td>\n",
              "      <td>KTP</td>\n",
              "      <td>REVOKED</td>\n",
              "      <td>FOTO KTP TEMPELAN</td>\n",
              "      <td>NaN</td>\n",
              "      <td>agent.jogja407@radikari.com</td>\n",
              "      <td>Wibulan Ekaning Ratri</td>\n",
              "      <td>08-08-2024 13:59:08</td>\n",
              "      <td>Tidak Ada</td>\n",
              "      <td>...</td>\n",
              "      <td>0.0</td>\n",
              "      <td>08-08-2024</td>\n",
              "      <td>No</td>\n",
              "      <td>REVOKED</td>\n",
              "      <td>YOUR ID CARD IS NOT EKTP/KTP</td>\n",
              "      <td>Photo On Id Card Taped (Foto KTP Tempelan)</td>\n",
              "      <td>NaN</td>\n",
              "      <td>NaN</td>\n",
              "      <td>NaN</td>\n",
              "      <td>None</td>\n",
              "    </tr>\n",
              "    <tr>\n",
              "      <th>2</th>\n",
              "      <td>20240808111215800000DANAW3ID592891813060</td>\n",
              "      <td>6285362928646</td>\n",
              "      <td>KTP</td>\n",
              "      <td>REJECT</td>\n",
              "      <td>BACKGROUND TIDAK SESUAI TTL</td>\n",
              "      <td>NaN</td>\n",
              "      <td>agent.jogja407@radikari.com</td>\n",
              "      <td>Wibulan Ekaning Ratri</td>\n",
              "      <td>08-08-2024 14:06:50</td>\n",
              "      <td>KK</td>\n",
              "      <td>...</td>\n",
              "      <td>0.0</td>\n",
              "      <td>08-08-2024</td>\n",
              "      <td>No</td>\n",
              "      <td>REVOKED</td>\n",
              "      <td>Reject document doesn't match the specified ty...</td>\n",
              "      <td>Background KTP doesn’t match (Background Foto ...</td>\n",
              "      <td>NaN</td>\n",
              "      <td>NaN</td>\n",
              "      <td>NaN</td>\n",
              "      <td>None</td>\n",
              "    </tr>\n",
              "    <tr>\n",
              "      <th>3</th>\n",
              "      <td>20240807111215800000DANAW3ID490093092346</td>\n",
              "      <td>6281370744374</td>\n",
              "      <td>KTP</td>\n",
              "      <td>CHECK</td>\n",
              "      <td>NaN</td>\n",
              "      <td>NaN</td>\n",
              "      <td>agent.jogja403@radikari.com</td>\n",
              "      <td>Yunita Risang Saksana Awiati</td>\n",
              "      <td>08-08-2024 13:47:29</td>\n",
              "      <td>KK</td>\n",
              "      <td>...</td>\n",
              "      <td>0.0</td>\n",
              "      <td>08-08-2024</td>\n",
              "      <td>NaN</td>\n",
              "      <td>NaN</td>\n",
              "      <td>NaN</td>\n",
              "      <td>NaN</td>\n",
              "      <td>NaN</td>\n",
              "      <td>NaN</td>\n",
              "      <td>NaN</td>\n",
              "      <td>None</td>\n",
              "    </tr>\n",
              "    <tr>\n",
              "      <th>4</th>\n",
              "      <td>20240808111215800000DANAW3ID247793732769</td>\n",
              "      <td>6282290386265</td>\n",
              "      <td>KTP</td>\n",
              "      <td>REJECT</td>\n",
              "      <td>BACKGROUND TIDAK SESUAI TTL</td>\n",
              "      <td>NaN</td>\n",
              "      <td>agent.jogja403@radikari.com</td>\n",
              "      <td>Yunita Risang Saksana Awiati</td>\n",
              "      <td>08-08-2024 13:55:03</td>\n",
              "      <td>KK</td>\n",
              "      <td>...</td>\n",
              "      <td>0.0</td>\n",
              "      <td>08-08-2024</td>\n",
              "      <td>No</td>\n",
              "      <td>REVOKED</td>\n",
              "      <td>Reject document doesn't match the specified ty...</td>\n",
              "      <td>Background KTP doesn’t match (Background Foto ...</td>\n",
              "      <td>NaN</td>\n",
              "      <td>NaN</td>\n",
              "      <td>NaN</td>\n",
              "      <td>None</td>\n",
              "    </tr>\n",
              "  </tbody>\n",
              "</table>\n",
              "<p>5 rows × 22 columns</p>\n",
              "</div>\n",
              "    <div class=\"colab-df-buttons\">\n",
              "\n",
              "  <div class=\"colab-df-container\">\n",
              "    <button class=\"colab-df-convert\" onclick=\"convertToInteractive('df-15b08cff-81ee-4e15-a96b-3bcec8a3b341')\"\n",
              "            title=\"Convert this dataframe to an interactive table.\"\n",
              "            style=\"display:none;\">\n",
              "\n",
              "  <svg xmlns=\"http://www.w3.org/2000/svg\" height=\"24px\" viewBox=\"0 -960 960 960\">\n",
              "    <path d=\"M120-120v-720h720v720H120Zm60-500h600v-160H180v160Zm220 220h160v-160H400v160Zm0 220h160v-160H400v160ZM180-400h160v-160H180v160Zm440 0h160v-160H620v160ZM180-180h160v-160H180v160Zm440 0h160v-160H620v160Z\"/>\n",
              "  </svg>\n",
              "    </button>\n",
              "\n",
              "  <style>\n",
              "    .colab-df-container {\n",
              "      display:flex;\n",
              "      gap: 12px;\n",
              "    }\n",
              "\n",
              "    .colab-df-convert {\n",
              "      background-color: #E8F0FE;\n",
              "      border: none;\n",
              "      border-radius: 50%;\n",
              "      cursor: pointer;\n",
              "      display: none;\n",
              "      fill: #1967D2;\n",
              "      height: 32px;\n",
              "      padding: 0 0 0 0;\n",
              "      width: 32px;\n",
              "    }\n",
              "\n",
              "    .colab-df-convert:hover {\n",
              "      background-color: #E2EBFA;\n",
              "      box-shadow: 0px 1px 2px rgba(60, 64, 67, 0.3), 0px 1px 3px 1px rgba(60, 64, 67, 0.15);\n",
              "      fill: #174EA6;\n",
              "    }\n",
              "\n",
              "    .colab-df-buttons div {\n",
              "      margin-bottom: 4px;\n",
              "    }\n",
              "\n",
              "    [theme=dark] .colab-df-convert {\n",
              "      background-color: #3B4455;\n",
              "      fill: #D2E3FC;\n",
              "    }\n",
              "\n",
              "    [theme=dark] .colab-df-convert:hover {\n",
              "      background-color: #434B5C;\n",
              "      box-shadow: 0px 1px 3px 1px rgba(0, 0, 0, 0.15);\n",
              "      filter: drop-shadow(0px 1px 2px rgba(0, 0, 0, 0.3));\n",
              "      fill: #FFFFFF;\n",
              "    }\n",
              "  </style>\n",
              "\n",
              "    <script>\n",
              "      const buttonEl =\n",
              "        document.querySelector('#df-15b08cff-81ee-4e15-a96b-3bcec8a3b341 button.colab-df-convert');\n",
              "      buttonEl.style.display =\n",
              "        google.colab.kernel.accessAllowed ? 'block' : 'none';\n",
              "\n",
              "      async function convertToInteractive(key) {\n",
              "        const element = document.querySelector('#df-15b08cff-81ee-4e15-a96b-3bcec8a3b341');\n",
              "        const dataTable =\n",
              "          await google.colab.kernel.invokeFunction('convertToInteractive',\n",
              "                                                    [key], {});\n",
              "        if (!dataTable) return;\n",
              "\n",
              "        const docLinkHtml = 'Like what you see? Visit the ' +\n",
              "          '<a target=\"_blank\" href=https://colab.research.google.com/notebooks/data_table.ipynb>data table notebook</a>'\n",
              "          + ' to learn more about interactive tables.';\n",
              "        element.innerHTML = '';\n",
              "        dataTable['output_type'] = 'display_data';\n",
              "        await google.colab.output.renderOutput(dataTable, element);\n",
              "        const docLink = document.createElement('div');\n",
              "        docLink.innerHTML = docLinkHtml;\n",
              "        element.appendChild(docLink);\n",
              "      }\n",
              "    </script>\n",
              "  </div>\n",
              "\n",
              "\n",
              "<div id=\"df-4555bcf9-1c4b-465f-82a2-100794c1d824\">\n",
              "  <button class=\"colab-df-quickchart\" onclick=\"quickchart('df-4555bcf9-1c4b-465f-82a2-100794c1d824')\"\n",
              "            title=\"Suggest charts\"\n",
              "            style=\"display:none;\">\n",
              "\n",
              "<svg xmlns=\"http://www.w3.org/2000/svg\" height=\"24px\"viewBox=\"0 0 24 24\"\n",
              "     width=\"24px\">\n",
              "    <g>\n",
              "        <path d=\"M19 3H5c-1.1 0-2 .9-2 2v14c0 1.1.9 2 2 2h14c1.1 0 2-.9 2-2V5c0-1.1-.9-2-2-2zM9 17H7v-7h2v7zm4 0h-2V7h2v10zm4 0h-2v-4h2v4z\"/>\n",
              "    </g>\n",
              "</svg>\n",
              "  </button>\n",
              "\n",
              "<style>\n",
              "  .colab-df-quickchart {\n",
              "      --bg-color: #E8F0FE;\n",
              "      --fill-color: #1967D2;\n",
              "      --hover-bg-color: #E2EBFA;\n",
              "      --hover-fill-color: #174EA6;\n",
              "      --disabled-fill-color: #AAA;\n",
              "      --disabled-bg-color: #DDD;\n",
              "  }\n",
              "\n",
              "  [theme=dark] .colab-df-quickchart {\n",
              "      --bg-color: #3B4455;\n",
              "      --fill-color: #D2E3FC;\n",
              "      --hover-bg-color: #434B5C;\n",
              "      --hover-fill-color: #FFFFFF;\n",
              "      --disabled-bg-color: #3B4455;\n",
              "      --disabled-fill-color: #666;\n",
              "  }\n",
              "\n",
              "  .colab-df-quickchart {\n",
              "    background-color: var(--bg-color);\n",
              "    border: none;\n",
              "    border-radius: 50%;\n",
              "    cursor: pointer;\n",
              "    display: none;\n",
              "    fill: var(--fill-color);\n",
              "    height: 32px;\n",
              "    padding: 0;\n",
              "    width: 32px;\n",
              "  }\n",
              "\n",
              "  .colab-df-quickchart:hover {\n",
              "    background-color: var(--hover-bg-color);\n",
              "    box-shadow: 0 1px 2px rgba(60, 64, 67, 0.3), 0 1px 3px 1px rgba(60, 64, 67, 0.15);\n",
              "    fill: var(--button-hover-fill-color);\n",
              "  }\n",
              "\n",
              "  .colab-df-quickchart-complete:disabled,\n",
              "  .colab-df-quickchart-complete:disabled:hover {\n",
              "    background-color: var(--disabled-bg-color);\n",
              "    fill: var(--disabled-fill-color);\n",
              "    box-shadow: none;\n",
              "  }\n",
              "\n",
              "  .colab-df-spinner {\n",
              "    border: 2px solid var(--fill-color);\n",
              "    border-color: transparent;\n",
              "    border-bottom-color: var(--fill-color);\n",
              "    animation:\n",
              "      spin 1s steps(1) infinite;\n",
              "  }\n",
              "\n",
              "  @keyframes spin {\n",
              "    0% {\n",
              "      border-color: transparent;\n",
              "      border-bottom-color: var(--fill-color);\n",
              "      border-left-color: var(--fill-color);\n",
              "    }\n",
              "    20% {\n",
              "      border-color: transparent;\n",
              "      border-left-color: var(--fill-color);\n",
              "      border-top-color: var(--fill-color);\n",
              "    }\n",
              "    30% {\n",
              "      border-color: transparent;\n",
              "      border-left-color: var(--fill-color);\n",
              "      border-top-color: var(--fill-color);\n",
              "      border-right-color: var(--fill-color);\n",
              "    }\n",
              "    40% {\n",
              "      border-color: transparent;\n",
              "      border-right-color: var(--fill-color);\n",
              "      border-top-color: var(--fill-color);\n",
              "    }\n",
              "    60% {\n",
              "      border-color: transparent;\n",
              "      border-right-color: var(--fill-color);\n",
              "    }\n",
              "    80% {\n",
              "      border-color: transparent;\n",
              "      border-right-color: var(--fill-color);\n",
              "      border-bottom-color: var(--fill-color);\n",
              "    }\n",
              "    90% {\n",
              "      border-color: transparent;\n",
              "      border-bottom-color: var(--fill-color);\n",
              "    }\n",
              "  }\n",
              "</style>\n",
              "\n",
              "  <script>\n",
              "    async function quickchart(key) {\n",
              "      const quickchartButtonEl =\n",
              "        document.querySelector('#' + key + ' button');\n",
              "      quickchartButtonEl.disabled = true;  // To prevent multiple clicks.\n",
              "      quickchartButtonEl.classList.add('colab-df-spinner');\n",
              "      try {\n",
              "        const charts = await google.colab.kernel.invokeFunction(\n",
              "            'suggestCharts', [key], {});\n",
              "      } catch (error) {\n",
              "        console.error('Error during call to suggestCharts:', error);\n",
              "      }\n",
              "      quickchartButtonEl.classList.remove('colab-df-spinner');\n",
              "      quickchartButtonEl.classList.add('colab-df-quickchart-complete');\n",
              "    }\n",
              "    (() => {\n",
              "      let quickchartButtonEl =\n",
              "        document.querySelector('#df-4555bcf9-1c4b-465f-82a2-100794c1d824 button');\n",
              "      quickchartButtonEl.style.display =\n",
              "        google.colab.kernel.accessAllowed ? 'block' : 'none';\n",
              "    })();\n",
              "  </script>\n",
              "</div>\n",
              "\n",
              "    </div>\n",
              "  </div>\n"
            ],
            "application/vnd.google.colaboratory.intrinsic+json": {
              "type": "dataframe",
              "variable_name": "df"
            }
          },
          "metadata": {},
          "execution_count": 25
        }
      ],
      "source": [
        "df.head()"
      ]
    },
    {
      "cell_type": "code",
      "execution_count": 26,
      "metadata": {
        "id": "9jKMR5dX2c-k"
      },
      "outputs": [],
      "source": [
        "# df['NO. HP'] = df['NO. HP'].astype('int64')\n",
        "df['ORDER ID'] = df['ORDER ID'].astype('str')\n",
        "\n",
        "#date\n",
        "# df['Modified Date'] = pd.to_datetime(df['Modified Date'], errors='coerce')\n",
        "df['Modified Date'] = pd.to_datetime(df['Modified Date'], format='%d-%m-%Y %H:%M:%S', errors='coerce')\n",
        "\n",
        "df['WorkingDate'] = pd.to_datetime(df['WorkingDate'], format='%d-%m-%Y', errors='coerce')\n",
        "#df['WorkingDate'] = df['WorkingDate'].dt.strftime('%Y-%m-%d')\n",
        "\n",
        "# the column containing extra spaces\n",
        "df['ORDER ID'] = df['ORDER ID'].str.strip()\n",
        "\n",
        "# df['NO. HP'] = df['NO. HP'].astype('int64')\n",
        "df['Face Score'] = df['Face Score'].astype('str')\n",
        "\n",
        "#Doc Type\n",
        "df['Doc Type'] = df['Doc Type'].astype('str')\n",
        "\n",
        "df.drop('Source Data', axis=1, inplace=True)\n"
      ]
    },
    {
      "cell_type": "markdown",
      "metadata": {
        "id": "SYwRNZwP4BSE"
      },
      "source": [
        "###Melakukan filter Start Date & End Date pada Working Date"
      ]
    },
    {
      "cell_type": "code",
      "execution_count": 27,
      "metadata": {
        "colab": {
          "base_uri": "https://localhost:8080/"
        },
        "id": "eqLLfyQ-YzZl",
        "outputId": "21d13f9b-02c9-4af0-aea1-13911fe3572a"
      },
      "outputs": [
        {
          "output_type": "stream",
          "name": "stdout",
          "text": [
            "The oldest date is: 2024-08-01 00:00:00\n",
            "The oldest date is: 2024-08-25 00:00:00\n"
          ]
        }
      ],
      "source": [
        "oldest_date = df['WorkingDate'].min()\n",
        "latest_date = df['WorkingDate'].max()\n",
        "print(\"The oldest date is:\", oldest_date)\n",
        "print(\"The oldest date is:\", latest_date)"
      ]
    },
    {
      "cell_type": "code",
      "execution_count": 28,
      "metadata": {
        "colab": {
          "base_uri": "https://localhost:8080/"
        },
        "id": "zgJPgWgRlz7Z",
        "outputId": "94610808-ff0f-46ee-f1c1-6eea58014ece"
      },
      "outputs": [
        {
          "name": "stdout",
          "output_type": "stream",
          "text": [
            "The oldest date is: 2024-08-01 00:00:00\n",
            "The oldest date is: 2024-08-25 00:00:00\n",
            "Enter start date (YYYY-MM-DD): 2024-8-1\n",
            "Enter end date (YYYY-MM-DD): 2024-8-24\n"
          ]
        }
      ],
      "source": [
        "from google.colab import files\n",
        "\n",
        "try:\n",
        "  # Take user input for start and end dates\n",
        "  print(\"The oldest date is:\", oldest_date)\n",
        "  print(\"The oldest date is:\", latest_date)\n",
        "  start_date = input(\"Enter start date (YYYY-MM-DD): \")\n",
        "  end_date = input(\"Enter end date (YYYY-MM-DD): \")\n",
        "\n",
        "  # Convert input dates to datetime objects\n",
        "  start_date = pd.to_datetime(start_date)\n",
        "  end_date = pd.to_datetime(end_date)\n",
        "\n",
        "  # Filter DataFrame based on the input dates\n",
        "  df = df[(df['WorkingDate'] >= start_date) & (df['WorkingDate'] <= end_date)]\n",
        "\n",
        "except ValueError as e:\n",
        "    # Handle the ValueError (e.g., invalid date format)\n",
        "    print(f\"Error: {e}. Please enter dates in the 'YYYY-MM-DD' format.\")\n",
        "except Exception as e:\n",
        "    # Handle other exceptions\n",
        "    print(f\"An unexpected error occurred: {e}\")"
      ]
    },
    {
      "cell_type": "code",
      "execution_count": 29,
      "metadata": {
        "colab": {
          "base_uri": "https://localhost:8080/"
        },
        "id": "uLDiRGx5UJpQ",
        "outputId": "aeb1b33e-a4c0-4b03-92fa-e72a6f1157ba"
      },
      "outputs": [
        {
          "output_type": "stream",
          "name": "stdout",
          "text": [
            "<class 'pandas.core.frame.DataFrame'>\n",
            "Index: 1080615 entries, 0 to 1105580\n",
            "Data columns (total 21 columns):\n",
            " #   Column                    Non-Null Count    Dtype         \n",
            "---  ------                    --------------    -----         \n",
            " 0   ORDER ID                  1080615 non-null  object        \n",
            " 1   NO. HP                    1080614 non-null  object        \n",
            " 2   Doc Type                  1080615 non-null  object        \n",
            " 3   STATUS                    1080588 non-null  object        \n",
            " 4   Reason                    167966 non-null   object        \n",
            " 5   New Remarks               1 non-null        object        \n",
            " 6   ID AGENT                  1080614 non-null  object        \n",
            " 7   NAMA AGENT                1080615 non-null  object        \n",
            " 8   Modified Date             1079702 non-null  datetime64[ns]\n",
            " 9   Support DOC               1079738 non-null  object        \n",
            " 10  Face Score                1080615 non-null  object        \n",
            " 11  OCR                       1079737 non-null  object        \n",
            " 12  Biometric Score           1079051 non-null  object        \n",
            " 13  WorkingDate               1080615 non-null  datetime64[ns]\n",
            " 14  KTP Defect >1             167979 non-null   object        \n",
            " 15  Status Revoke             167961 non-null   object        \n",
            " 16  Reason Revoke             167959 non-null   object        \n",
            " 17  New Remarks Revoke        167958 non-null   object        \n",
            " 18  Remarks Zolos Incomplete  98 non-null       object        \n",
            " 19  Unnamed: 19               0 non-null        float64       \n",
            " 20  Keterangan                2 non-null        object        \n",
            "dtypes: datetime64[ns](2), float64(1), object(18)\n",
            "memory usage: 181.4+ MB\n"
          ]
        }
      ],
      "source": [
        "df.info()"
      ]
    },
    {
      "cell_type": "code",
      "execution_count": null,
      "metadata": {
        "id": "PVg-Eiua4DEY"
      },
      "outputs": [],
      "source": [
        "df.head()"
      ]
    },
    {
      "cell_type": "markdown",
      "metadata": {
        "id": "mz1w0AgSFU0y"
      },
      "source": [
        "## Check Status"
      ]
    },
    {
      "cell_type": "code",
      "execution_count": 31,
      "metadata": {
        "id": "p0CTWvZMf4kX"
      },
      "outputs": [],
      "source": [
        "def update_status(row):\n",
        "\n",
        "    if pd.isna(row['STATUS']) and row['WorkingDate'] == end_date:\n",
        "      return row['Keterangan']\n",
        "\n",
        "    elif pd.isna(row['STATUS']) or row['STATUS'] not in ['CHECK', 'REJECT', 'REVOKED','REJECT BY SYSTEM']:\n",
        "      if pd.isna(row['Keterangan']):\n",
        "        return 'check status'\n",
        "      else:\n",
        "        return f\"{row['Keterangan']} & check status\"\n",
        "\n",
        "    elif row['STATUS'] == 'CHECK' and pd.notna(row['Reason']):\n",
        "      if pd.isna(row['Keterangan']):\n",
        "        return 'check status'\n",
        "      else:\n",
        "        return f\"{row['Keterangan']} & check status\"\n",
        "\n",
        "    elif row['STATUS'] == 'CHECK' and pd.notna(row['Status Revoke']):\n",
        "      if pd.isna(row['Keterangan']):\n",
        "        return 'check status'\n",
        "      else:\n",
        "        return f\"{row['Keterangan']} & check status\"\n",
        "\n",
        "    elif row['STATUS'] in ['REJECT', 'REVOKED'] and pd.isna(row['Reason']):\n",
        "      if pd.isna(row['Keterangan']):\n",
        "        return 'check status'\n",
        "      else:\n",
        "        return f\"{row['Keterangan']} & check status\"\n",
        "\n",
        "    # elif row['STATUS'] in ['REJECT BY SYSTEM'] and pd.notna(row['Reason']) and and pd.notna(row['Reason']):\n",
        "    #   if pd.isna(row['Keterangan']):\n",
        "    #     return 'check status'\n",
        "    #   else:\n",
        "    #     return f\"{row['Keterangan']} & check status\"\n",
        "\n",
        "    else:\n",
        "        return row['Keterangan']"
      ]
    },
    {
      "cell_type": "code",
      "execution_count": 32,
      "metadata": {
        "id": "6RxFZwWRispP"
      },
      "outputs": [],
      "source": [
        "# Apply the custom function to update \"Keterangan\" column\n",
        "df['Keterangan'] = df.apply(update_status, axis=1)"
      ]
    },
    {
      "cell_type": "code",
      "execution_count": 33,
      "metadata": {
        "id": "SQRj0oQjwaMK"
      },
      "outputs": [],
      "source": [
        "# Remove values in 'Keterangan' column where 'STATUS' is \"REJECT BY SYSTEM\"\n",
        "df.loc[df['STATUS'] == 'REJECT BY SYSTEM', 'Keterangan'] = np.nan"
      ]
    },
    {
      "cell_type": "markdown",
      "metadata": {
        "id": "qHZD-6t2AnBj"
      },
      "source": [
        "##NEW Check ID Agent"
      ]
    },
    {
      "cell_type": "code",
      "execution_count": 34,
      "metadata": {
        "id": "zAoB1I9TC2ks"
      },
      "outputs": [],
      "source": [
        "# rumus excel:  =TEXTJOIN(\", \"; TRUE; \"\"\"\" & A1:A250 & \"\"\" : \"\"\" & B1:B250 & \"\"\"\")\n",
        "# Dictionary of agent IDs and names\n",
        "agent_dict = {\n",
        "\n",
        "\"agent.jogja403@radikari.com\" : \"Yunita Risang Saksana Awiati\", \"agent.jogja407@radikari.com\" : \"Wibulan Ekaning Ratri\", \"kwijaya@radikari.com\" : \"Krisna Wijaya\", \"agent.jogja435@radikari.com\" : \"Ryan Oktavianto\", \"agent.jogja438@radikari.com\" : \"Chatarina Ria Septiana\", \"wiwiks@radikari.com\" : \"Wiwik Suharti\", \"agent.jogja487@radikari.com\" : \"Teguh Bagus Joko Wahono\", \"agent.jogja511@radikari.com\" : \"Hesti Vera\", \"agent.jogja517@radikari.com\" : \"Arlinda Elsa Ulvia\", \"agent.jogja566@radikari.com\" : \"Eri Hardani\", \"amalia.nurhayati@radikari.com\" : \"Amalia Nurhayati\", \"agent.jogja615@radikari.com\" : \"Puji Kasih Santika\", \"agent.jogja674@radikari.com\" : \"Wiwid prastianto\", \"agent.jogja738@radikari.com\" : \"Yudha Tantra Hanurizal\", \"agent.jogja740@radikari.com\" : \"Bobby Yulianto\", \"agent.jogja745@radikari.com\" : \"Rio Jati Kumbara\", \"agent.jogja749@radikari.com\" : \"Vincentius Juan Fergi Hermantya\", \"agent.jogja751@radikari.com\" : \"Ahda Rasyidi Ahmad\", \"agent.jogja769@radikari.com\" : \"Galih Reka Mahendra\", \"agent.jogja770@radikari.com\" : \"Galih Fajar Kurniawan\", \"agent.jogja784@radikari.com\" : \"Rika Ferawati\", \"agent.jogja814@radikari.com\" : \"Regitha Aprilia Ochie\", \"agent.jogja876@radikari.com\" : \"Yuriatun\", \"amandarapih@radikari.com\" : \"Amanda Rapih Subarja Putri\", \"nabilakhansa@radikari.com\" : \"Nabila Khansa Afanin\", \"paiznurdiansyah@radikari.com\" : \"Paiz Nurdiansyah\", \"yuliastutik@radikari.com\" : \"Yuli Astutik\", \"agent.jogja897@radikari.com\" : \"Afwan Hilmi Muttaqin\", \"agent.jogja899@radikari.com\" : \"Elysama Tamba\", \"agent.jogja902@radikari.com\" : \"Mahmudi Waruwu\", \"agent.jogja905@radikari.com\" : \"Ridhol Fatla\", \"agent.jogja907@radikari.com\" : \"Septi Sindisat Rahayu\", \"agent.jogja908@radikari.com\" : \"Siti Ulfah Hardiyanti\", \"agent.jogja909@radikari.com\" : \"Slamet Setiyono\", \"agent.jogja910@radikari.com\" : \"Topan Jiwodewo\", \"agent.jogja912@radikari.com\" : \"Dea Fatika Putri\", \"agent.jogja917@radikari.com\" : \"Raden Kurnianto Ridwan Hanafi\", \"agent.jogja918@radikari.com\" : \"Randy Aldany Barasa\", \"agent.jogja920@radikari.com\" : \"Satria Bobby Fernando\", \"agent.jogja922@radikari.com\" : \"Vivia Tri Ayuningtyas\", \"agent.jogja924@radikari.com\" : \"Zarah Usra\", \"agent.jogja925@radikari.com\" : \"Abiyan Roofif Mahendra\", \"agent.jogja928@radikari.com\" : \"Donie Pramudita\", \"agent.jogja929@radikari.com\" : \"Eka Edi Pratama\", \"agent.jogja930@radikari.com\" : \"Firman Syahputra\", \"agent.jogja931@radikari.com\" : \"Hanifah Argiyanti Kusumaningrum\", \"agent.jogja932@radikari.com\" : \"Irvan Susilo Widjiatmoko\", \"agent.jogja937@radikari.com\" : \"Andreas Suryo Prasetyo\", \"agent.jogja940@radikari.com\" : \"Krisna Dewa Nanda\", \"agent.jogja942@radikari.com\" : \"Mella Sutami\", \"agent.jogja945@radikari.com\" : \"Rido Mesia Sumunar\", \"agent.jogja946@radikari.com\" : \"Wahyu Adi Purnomo\", \"agent.jogja951@radikari.com\" : \"Lailatul Rahmah\", \"agent.jogja952@radikari.com\" : \"Lintang Wahyu Herlambang\", \"agent.jogja953@radikari.com\" : \"Manggala Maulana Mahardhika\", \"agent.jogja954@radikari.com\" : \"Ngrayong Agung Nugroho\", \"agent.jogja955@radikari.com\" : \"Nova Putra Alves Correia\", \"agent.jogja957@radikari.com\" : \"Pratiwi Matoka\", \"alfredo.yunara@radikari.com\" : \"Alfredo Yunora\", \"arbinugraha@radikari.com\" : \"Arbi Tama Nugraha\", \"ariffabikhan@radikari.com\" : \"Arif Fabikhan\", \"bagusramadhan@radikari.com\" : \"Bagus Ramadhan Firdausi\", \"bayuasmoro@radikari.com\" : \"Bayu Asmoro Putro\", \"bimasatriyapahlawan@radikari.com\" : \"Bima Satriya Pahlawan\", \"cintapratiwi@radikari.com\" : \"Cinta Pratiwi Taasiringan\", \"dandiaditya@radikari.com\" : \"Dandi Aditya Rahmanto\", \"davidfauzan@radikari.com\" : \"David Fauzan\", \"dewipujilestari@radikari.com\" : \"Dewi Puji Lestari\", \"deyskeerika@radikari.com\" : \"Deyske Erika Rembaen\", \"dhenisafdhaly@radikari.com\" : \"Dheni Nandar Safdhaly\", \"ekonurjayadi@radikari.com\" : \"Eko Nur Jayadi\", \"faliaputri@radikari.com\" : \"Falia Rahmazati Putri\", \"fatikayulianingrum@radikari.com\" : \"Fatika Yulianingrum\", \"hanifalvian@radikari.com\" : \"Hanif Alvian Rosyiadi\", \"haryoajibandera@radikari.com\" : \"Haryo Aji Bandera\", \"khusnulridho@radikari.com\" : \"Khusnul Ridho Moh Arif\", \"linamakarim@radikari.com\" : \"Lina Makarim\", \"lovianaikasari@radikari.com\" : \"Loviana Ika Sari\", \"martinus.beko@radikari.com\" : \"Martinus Beko\", \"muhammad.anwarudin@radikari.com\" : \"Muhammad Anwarudin\", \"n.agungpermana@radikari.com\" : \"Nuro'is Agung Permana\", \"nadiairana@radikari.com\" : \"Nadia Irana\", \"nonyaffi@radikari.com\" : \"Nony mariani affi\", \"paraldisbastian@radikari.com\" : \"Paraldi Sbastian Bagaskara\", \"radenardimas@radikari.com\" : \"Raden Ardimas Suryo Prabowo\", \"rantisulistiyoningsih@radikari.com\" : \"Ranti Sulistiyoningsih\", \"rasiti@radikari.com\" : \"Raden Ajeng Siti Nurul Erika Farida\", \"reckybranada@radikari.com\" : \"Recky Branada\", \"saniayolanda@radikari.com\" : \"Sania Yolanda\", \"sasalanthika@radikari.com\" : \"Sasa Lanthika\", \"sitinoordiwanti@radikari.com\" : \"Siti Noor Diwanti\", \"syamsudinbadawi@radikari.com\" : \"Syamsudin Badawi\", \"tomyprabowo@radikari.com\" : \"Tomy Ady Prabowo\", \"trisiswiharjanti@radikari.com\" : \"Tri Siswi Harjanti\", \"ummihamidah@radikari.com\" : \"Ummi Hamidah Kartikasari\", \"wahyusetiawan@radikari.com\" : \"Wahyu Setiawan\", \"ahmadbukhori@radikari.com\" : \"Ahmad Bukhori\", \"albertngobut@radikari.com\" : \"Albert Pieter Ngobut\", \"danangpranowo@radikari.com\" : \"Danang Wahyu Pranowo\", \"deaningrum@radikari.com\" : \"Dea Ayu Septia Ningrum\", \"salmafebiola@radikari.com\" : \"Salma Silvia Febiola\", \"wulansyaidah@radikari.com\" : \"Wulan Dewi Fatikhatus Syaidah\", \"adeismoyowati@radikari.com\" : \"Ade Ismoyowati Setiyono\", \"agent.srg001@radikari.com\" : \"Hamzah Fakhrurozi\", \"agent.srg003@radikari.com\" : \"Yoditya Iqbal Respati\", \"agent.srg005@radikari.com\" : \"Dewi Murwati\", \"agent.srg032@radikari.com\" : \"Nanda Puspa Anisya\", \"agent.srg037@radikari.com\" : \"Dody Riza Permadi\", \"agent.srg072@radikari.com\" : \"Syarifudin Fathur\", \"agent.srg141@radikari.com\" : \"Fany Slamet Sulastri\", \"agent.srg343@radikari.com\" : \"Mahendra Harima Putra\", \"agent.srg431@radikari.com\" : \"Irvan Mahendra\", \"agent.srg438@radikari.com\" : \"Novan Lestari Putra\", \"ajengwidyaningsih@radikari.com\" : \"Ajeng Widyaningsih\", \"yunizafakmal@radikari.com\" : \"Yunizaf Akmal Bachtiar\", \"agent.srg509@radikari.com\" : \"Yuliana\", \"agent.srg512@radikari.com\" : \"Bakhtiar Seno Aji\", \"agent.srg513@radikari.com\" : \"Achmad Khoirul\", \"agent.srg514@radikari.com\" : \"Millenia Sofianti\", \"agent.srg516@radikari.com\" : \"Rio Hadi Susilo\", \"agent.srg522@radikari.com\" : \"Randira Aulia\", \"agent.srg523@radikari.com\" : \"Argia Asmara Dewanggoro\", \"agent.srg524@radikari.com\" : \"Adella Titah Anggita\", \"agent.srg527@radikari.com\" : \"Dias Nugroho\", \"agent.srg528@radikari.com\" : \"Dhila Muhammad Ali\", \"agent.srg529@radikari.com\" : \"Muhammad Iqbal Muhyiddin\", \"agent.srg530@radikari.com\" : \"Aulia Rachma Yanuarita\", \"agent.srg531@radikari.com\" : \"Catur Prasetya\", \"agent.srg532@radikari.com\" : \"Siti Hartinah\", \"agent.srg534@radikari.com\" : \"Anthony Wijaya\", \"agent.srg535@radikari.com\" : \"Tri Adi Wijaya\", \"agent.srg536@radikari.com\" : \"Mohammad Fikri Mudzaki\", \"agiar.asmara@radikari.com\" : \"Agiar Asmara Bagaskoro\", \"ahmad.fakhruri@radikari.com\" : \"Ahmad Ali Fakhruri\", \"amynaufal@radikari.com\" : \"Amy Naufal Falah\", \"anasaidatin@radikari.com \" : \"Ana Saidatin\", \"angga.ramadhan@radikari.com\" : \"Angga Ramadhan Sieko Putra\", \"arimurtiningtyas@radikari.com\" : \"Ari Murtiningtyas\", \"atiknasekha@radikari.com\" : \"Atik Dina Nasekha\", \"aysiliaratnasari@radikari.com\" : \"Aysilia Audy Ratnasari\", \"cakratriatmaja@radikari.com\" : \"Cakra Triatmaja\", \"daityo@radikari.com\" : \"Dhimas Adityo Nurhayat\", \"devipujiseptiyani@radikari.com\" : \"Devi Puji Septiyani\", \"edosaputra@radikari.com\" : \"Edo Hidayatullah Saputra\", \"fahriidhofi@radikari.com\" : \"Fahri Idhofi\", \"farahautami@radikari.com\" : \"Farah Alma Utami\", \"firdamaudy@radikari.com\" : \"Firda Maudy Salsabilla\", \"galiehsaputra@radikari.com\" : \"Galih Wahyu Hadi Saputra\", \"gilang.pratama@radikari.com\" : \"Gilang Dika Pratama\", \"gilangadi@radikari.com\" : \"Gilang Adi Pratama\", \"hafiattaqi@radikari.com\" : \"Hafi Attaqi Rumi\", \"hafidalaziz@radikari.com\" : \"Hafid Alaziz\", \"hanifalbab@radikari.com\" : \"Hanif Albab\", \"hanung@radikari.com\" : \"Husein Anung Anindhito\", \"hriefandi@radikari.com\" : \"Hilman Riefandi\", \"isnaeni.trisna@radikari.com\" : \"Isnaeni Trisna Rahmawati\", \"mahabbatulmaula@radikari.com\" : \"Mahabbatul Maula\", \"mayhusnaino@radikari.com\" : \"Mayhusna Ino Tantyasari\", \"mluqmanhakim@radikari.com\" : \"Muhammad Luqman Hakim Abdullah\", \"Muhammad.faisal@radikari.com\" : \"Muhammad Faisal Amri\", \"muhammad.mudi@radikari.com\" : \"M. Mudi\", \"muhammadvarian@radikari.com\" : \"Muhammad Farell Varian\", \"mvennesa@radikari.com\" : \"Mellania Vennesa Fitri\", \"nadya.yun@radikari.com\" : \"Nadya Yun Tafa Luwih\", \"nafidzailmi@radikari.com\" : \"Nafidza Ilmi Khairina\", \"natanielaxl@radikari.com\" : \"Nataniel Axl Areza\", \"novitaqiroati@radikari.com\" : \"Novita Qiroati Fadilah\", \"nurzilzabahri@radikari.com\" : \"Nur Zilza Bunayya Bahri\", \"nyasykur@radikari.com\" : \"Naufal Yasykur Odi Pindo\", \"oktariskasalas@radikari.com\" : \"Oktariska Salas Niko\", \"rafandi@radikari.com\" : \"Rosyad Afandi\", \"⁠reza.adjie@radikari.com\" : \"Reza Purnama Adjie\", \"riyanita.nita@radikari.com\" : \"Riyanita\", \"sarpini.narmi@radikari.com\" : \"Sarpini\", \"satryaajisepta@radikari.com\" : \"Satrya Aji Septa Buana\", \"sitichoiriyah@radikari.com\" : \"Siti Choiriyah\", \"wahyu.setyawan@radikari.com\" : \"Wahyu Setyawan\", \"yudwita.rahmana@radikari.com\" : \"Yudwita Rohmana\", \"yuliadwi@radikari.com\" : \"Yulia Dwi Hardyanti\", \"yunan.azzumardi@radikari.com\" : \"Yunan Azzumardi Irawan\", \"ahmadkarim@radikari.com\" : \"Ahmad Busyrol Karim\", \"galihsari@radikari.com\" : \"Galih Ayu Wulan Sari\", \"kalistasedha@radikari.com\" : \"Kalista Sia Sedha\", \"rizzafahlevi@radikari.com\" : \"Muhammad Rizza Fahlevi\", \"saidihusaini@radikari.com\" : \"Muhammad Saidi Husaini MZ\", \"zakyulinnuha@radikari.com\" : \"Muhammad Zaky Ulinnuha\", \"ninengrahayu@radikari.com\" : \"Nineng Sri Rahayu\", \"reggawijaya@radikari.com\" : \"W. Regga Wijaya\", \"wahyusetiyawan@radikari.com\" : \"Wahyu Setiyawan\", \"anisaprihastuti@radikari.com\" : \"Anisa Prihastuti\", \"dyahbudiarti@radikari.com\" : \"Dyah Retno Budiarti\", \"ernifransiska@radikari.com\" : \"Erni Fransiska\", \"ferdinansimanjuntak@radikari.com\" : \"Ferdinan Aditya Simanjuntak\", \"ghovuragustin@radikari.com\" : \"Ghovur Azrian Agustin\", \"iqbalodja@radikari.com\" : \"Iqbal Ma'Kar Dl. Odja\", \"mochwijaya@radikari.com\" : \"Moch Rizky Eka Wijaya\", \"mohamadbasit@radikari.com\" : \"Mohamad Basit\", \"khoirulanam@radikari.com\" : \"Muhammad Nur Khoirul An Am\", \"mutiarahmajuni@radikari.com\" : \"Mutia Rahmajuni\", \"niputunurahdika@radikari.com\" : \"Ni Putu Irene Pasca Nurahdika\", \"ridhorahmanto@radikari.com\" : \"Ridho Rahmanto\", \"verlynapratiwi@radikari.com\" : \"Verlyna Dian Pratiwi\", \"candrakusuma@radikari.com\" : \"Candra Jati Kusuma\", \"nurazizah@radikari.com\" : \"Nur Roid Nafiatul Azizah\", \"putripayapo@radikari.com\" : \"Putri Nirmala S Payapo\"\n",
        "}\n"
      ]
    },
    {
      "cell_type": "code",
      "execution_count": 35,
      "metadata": {
        "id": "DP6-Z7_IHXtc",
        "colab": {
          "base_uri": "https://localhost:8080/"
        },
        "outputId": "1966ebd3-5563-4684-d124-55f4b1437161"
      },
      "outputs": [
        {
          "output_type": "stream",
          "name": "stdout",
          "text": [
            "| ID Agent                        | Name                       |\n",
            "|--------------------------------|----------------------------|\n",
            "| agent.jogja403@radikari.com    | Yunita Risang Saksana Awiati |\n",
            "| agent.jogja407@radikari.com    | Wibulan Ekaning Ratri      |\n",
            "| kwijaya@radikari.com           | Krisna Wijaya              |\n",
            "| agent.jogja435@radikari.com    | Ryan Oktavianto            |\n",
            "| agent.jogja438@radikari.com    | Chatarina Ria Septiana     |\n",
            "| wiwiks@radikari.com            | Wiwik Suharti              |\n",
            "| agent.jogja487@radikari.com    | Teguh Bagus Joko Wahono    |\n",
            "| agent.jogja511@radikari.com    | Hesti Vera                 |\n",
            "| agent.jogja517@radikari.com    | Arlinda Elsa Ulvia         |\n",
            "| agent.jogja566@radikari.com    | Eri Hardani                |\n",
            "| amalia.nurhayati@radikari.com  | Amalia Nurhayati           |\n",
            "| agent.jogja615@radikari.com    | Puji Kasih Santika         |\n",
            "| agent.jogja674@radikari.com    | Wiwid prastianto           |\n",
            "| agent.jogja738@radikari.com    | Yudha Tantra Hanurizal     |\n",
            "| agent.jogja740@radikari.com    | Bobby Yulianto             |\n",
            "| agent.jogja745@radikari.com    | Rio Jati Kumbara           |\n",
            "| agent.jogja749@radikari.com    | Vincentius Juan Fergi Hermantya |\n",
            "| agent.jogja751@radikari.com    | Ahda Rasyidi Ahmad         |\n",
            "| agent.jogja769@radikari.com    | Galih Reka Mahendra        |\n",
            "| agent.jogja770@radikari.com    | Galih Fajar Kurniawan      |\n",
            "| agent.jogja784@radikari.com    | Rika Ferawati              |\n",
            "| agent.jogja814@radikari.com    | Regitha Aprilia Ochie      |\n",
            "| agent.jogja876@radikari.com    | Yuriatun                   |\n",
            "| amandarapih@radikari.com       | Amanda Rapih Subarja Putri |\n",
            "| nabilakhansa@radikari.com      | Nabila Khansa Afanin       |\n",
            "| paiznurdiansyah@radikari.com   | Paiz Nurdiansyah           |\n",
            "| yuliastutik@radikari.com       | Yuli Astutik               |\n",
            "| agent.jogja897@radikari.com    | Afwan Hilmi Muttaqin       |\n",
            "| agent.jogja899@radikari.com    | Elysama Tamba              |\n",
            "| agent.jogja902@radikari.com    | Mahmudi Waruwu             |\n",
            "| agent.jogja905@radikari.com    | Ridhol Fatla               |\n",
            "| agent.jogja907@radikari.com    | Septi Sindisat Rahayu      |\n",
            "| agent.jogja908@radikari.com    | Siti Ulfah Hardiyanti      |\n",
            "| agent.jogja909@radikari.com    | Slamet Setiyono            |\n",
            "| agent.jogja910@radikari.com    | Topan Jiwodewo             |\n",
            "| agent.jogja912@radikari.com    | Dea Fatika Putri           |\n",
            "| agent.jogja917@radikari.com    | Raden Kurnianto Ridwan Hanafi |\n",
            "| agent.jogja918@radikari.com    | Randy Aldany Barasa        |\n",
            "| agent.jogja920@radikari.com    | Satria Bobby Fernando      |\n",
            "| agent.jogja922@radikari.com    | Vivia Tri Ayuningtyas      |\n",
            "| agent.jogja924@radikari.com    | Zarah Usra                 |\n",
            "| agent.jogja925@radikari.com    | Abiyan Roofif Mahendra     |\n",
            "| agent.jogja928@radikari.com    | Donie Pramudita            |\n",
            "| agent.jogja929@radikari.com    | Eka Edi Pratama            |\n",
            "| agent.jogja930@radikari.com    | Firman Syahputra           |\n",
            "| agent.jogja931@radikari.com    | Hanifah Argiyanti Kusumaningrum |\n",
            "| agent.jogja932@radikari.com    | Irvan Susilo Widjiatmoko   |\n",
            "| agent.jogja937@radikari.com    | Andreas Suryo Prasetyo     |\n",
            "| agent.jogja940@radikari.com    | Krisna Dewa Nanda          |\n",
            "| agent.jogja942@radikari.com    | Mella Sutami               |\n",
            "| agent.jogja945@radikari.com    | Rido Mesia Sumunar         |\n",
            "| agent.jogja946@radikari.com    | Wahyu Adi Purnomo          |\n",
            "| agent.jogja951@radikari.com    | Lailatul Rahmah            |\n",
            "| agent.jogja952@radikari.com    | Lintang Wahyu Herlambang   |\n",
            "| agent.jogja953@radikari.com    | Manggala Maulana Mahardhika |\n",
            "| agent.jogja954@radikari.com    | Ngrayong Agung Nugroho     |\n",
            "| agent.jogja955@radikari.com    | Nova Putra Alves Correia   |\n",
            "| agent.jogja957@radikari.com    | Pratiwi Matoka             |\n",
            "| alfredo.yunara@radikari.com    | Alfredo Yunora             |\n",
            "| arbinugraha@radikari.com       | Arbi Tama Nugraha          |\n",
            "| ariffabikhan@radikari.com      | Arif Fabikhan              |\n",
            "| bagusramadhan@radikari.com     | Bagus Ramadhan Firdausi    |\n",
            "| bayuasmoro@radikari.com        | Bayu Asmoro Putro          |\n",
            "| bimasatriyapahlawan@radikari.com | Bima Satriya Pahlawan      |\n",
            "| cintapratiwi@radikari.com      | Cinta Pratiwi Taasiringan  |\n",
            "| dandiaditya@radikari.com       | Dandi Aditya Rahmanto      |\n",
            "| davidfauzan@radikari.com       | David Fauzan               |\n",
            "| dewipujilestari@radikari.com   | Dewi Puji Lestari          |\n",
            "| deyskeerika@radikari.com       | Deyske Erika Rembaen       |\n",
            "| dhenisafdhaly@radikari.com     | Dheni Nandar Safdhaly      |\n",
            "| ekonurjayadi@radikari.com      | Eko Nur Jayadi             |\n",
            "| faliaputri@radikari.com        | Falia Rahmazati Putri      |\n",
            "| fatikayulianingrum@radikari.com | Fatika Yulianingrum        |\n",
            "| hanifalvian@radikari.com       | Hanif Alvian Rosyiadi      |\n",
            "| haryoajibandera@radikari.com   | Haryo Aji Bandera          |\n",
            "| khusnulridho@radikari.com      | Khusnul Ridho Moh Arif     |\n",
            "| linamakarim@radikari.com       | Lina Makarim               |\n",
            "| lovianaikasari@radikari.com    | Loviana Ika Sari           |\n",
            "| martinus.beko@radikari.com     | Martinus Beko              |\n",
            "| muhammad.anwarudin@radikari.com | Muhammad Anwarudin         |\n",
            "| n.agungpermana@radikari.com    | Nuro'is Agung Permana      |\n",
            "| nadiairana@radikari.com        | Nadia Irana                |\n",
            "| nonyaffi@radikari.com          | Nony mariani affi          |\n",
            "| paraldisbastian@radikari.com   | Paraldi Sbastian Bagaskara |\n",
            "| radenardimas@radikari.com      | Raden Ardimas Suryo Prabowo |\n",
            "| rantisulistiyoningsih@radikari.com | Ranti Sulistiyoningsih     |\n",
            "| rasiti@radikari.com            | Raden Ajeng Siti Nurul Erika Farida |\n",
            "| reckybranada@radikari.com      | Recky Branada              |\n",
            "| saniayolanda@radikari.com      | Sania Yolanda              |\n",
            "| sasalanthika@radikari.com      | Sasa Lanthika              |\n",
            "| sitinoordiwanti@radikari.com   | Siti Noor Diwanti          |\n",
            "| syamsudinbadawi@radikari.com   | Syamsudin Badawi           |\n",
            "| tomyprabowo@radikari.com       | Tomy Ady Prabowo           |\n",
            "| trisiswiharjanti@radikari.com  | Tri Siswi Harjanti         |\n",
            "| ummihamidah@radikari.com       | Ummi Hamidah Kartikasari   |\n",
            "| wahyusetiawan@radikari.com     | Wahyu Setiawan             |\n",
            "| ahmadbukhori@radikari.com      | Ahmad Bukhori              |\n",
            "| albertngobut@radikari.com      | Albert Pieter Ngobut       |\n",
            "| danangpranowo@radikari.com     | Danang Wahyu Pranowo       |\n",
            "| deaningrum@radikari.com        | Dea Ayu Septia Ningrum     |\n",
            "| salmafebiola@radikari.com      | Salma Silvia Febiola       |\n",
            "| wulansyaidah@radikari.com      | Wulan Dewi Fatikhatus Syaidah |\n",
            "| adeismoyowati@radikari.com     | Ade Ismoyowati Setiyono    |\n",
            "| agent.srg001@radikari.com      | Hamzah Fakhrurozi          |\n",
            "| agent.srg003@radikari.com      | Yoditya Iqbal Respati      |\n",
            "| agent.srg005@radikari.com      | Dewi Murwati               |\n",
            "| agent.srg032@radikari.com      | Nanda Puspa Anisya         |\n",
            "| agent.srg037@radikari.com      | Dody Riza Permadi          |\n",
            "| agent.srg072@radikari.com      | Syarifudin Fathur          |\n",
            "| agent.srg141@radikari.com      | Fany Slamet Sulastri       |\n",
            "| agent.srg343@radikari.com      | Mahendra Harima Putra      |\n",
            "| agent.srg431@radikari.com      | Irvan Mahendra             |\n",
            "| agent.srg438@radikari.com      | Novan Lestari Putra        |\n",
            "| ajengwidyaningsih@radikari.com | Ajeng Widyaningsih         |\n",
            "| yunizafakmal@radikari.com      | Yunizaf Akmal Bachtiar     |\n",
            "| agent.srg509@radikari.com      | Yuliana                    |\n",
            "| agent.srg512@radikari.com      | Bakhtiar Seno Aji          |\n",
            "| agent.srg513@radikari.com      | Achmad Khoirul             |\n",
            "| agent.srg514@radikari.com      | Millenia Sofianti          |\n",
            "| agent.srg516@radikari.com      | Rio Hadi Susilo            |\n",
            "| agent.srg522@radikari.com      | Randira Aulia              |\n",
            "| agent.srg523@radikari.com      | Argia Asmara Dewanggoro    |\n",
            "| agent.srg524@radikari.com      | Adella Titah Anggita       |\n",
            "| agent.srg527@radikari.com      | Dias Nugroho               |\n",
            "| agent.srg528@radikari.com      | Dhila Muhammad Ali         |\n",
            "| agent.srg529@radikari.com      | Muhammad Iqbal Muhyiddin   |\n",
            "| agent.srg530@radikari.com      | Aulia Rachma Yanuarita     |\n",
            "| agent.srg531@radikari.com      | Catur Prasetya             |\n",
            "| agent.srg532@radikari.com      | Siti Hartinah              |\n",
            "| agent.srg534@radikari.com      | Anthony Wijaya             |\n",
            "| agent.srg535@radikari.com      | Tri Adi Wijaya             |\n",
            "| agent.srg536@radikari.com      | Mohammad Fikri Mudzaki     |\n",
            "| agiar.asmara@radikari.com      | Agiar Asmara Bagaskoro     |\n",
            "| ahmad.fakhruri@radikari.com    | Ahmad Ali Fakhruri         |\n",
            "| amynaufal@radikari.com         | Amy Naufal Falah           |\n",
            "| anasaidatin@radikari.com       | Ana Saidatin               |\n",
            "| angga.ramadhan@radikari.com    | Angga Ramadhan Sieko Putra |\n",
            "| arimurtiningtyas@radikari.com  | Ari Murtiningtyas          |\n",
            "| atiknasekha@radikari.com       | Atik Dina Nasekha          |\n",
            "| aysiliaratnasari@radikari.com  | Aysilia Audy Ratnasari     |\n",
            "| cakratriatmaja@radikari.com    | Cakra Triatmaja            |\n",
            "| daityo@radikari.com            | Dhimas Adityo Nurhayat     |\n",
            "| devipujiseptiyani@radikari.com | Devi Puji Septiyani        |\n",
            "| edosaputra@radikari.com        | Edo Hidayatullah Saputra   |\n",
            "| fahriidhofi@radikari.com       | Fahri Idhofi               |\n",
            "| farahautami@radikari.com       | Farah Alma Utami           |\n",
            "| firdamaudy@radikari.com        | Firda Maudy Salsabilla     |\n",
            "| galiehsaputra@radikari.com     | Galih Wahyu Hadi Saputra   |\n",
            "| gilang.pratama@radikari.com    | Gilang Dika Pratama        |\n",
            "| gilangadi@radikari.com         | Gilang Adi Pratama         |\n",
            "| hafiattaqi@radikari.com        | Hafi Attaqi Rumi           |\n",
            "| hafidalaziz@radikari.com       | Hafid Alaziz               |\n",
            "| hanifalbab@radikari.com        | Hanif Albab                |\n",
            "| hanung@radikari.com            | Husein Anung Anindhito     |\n",
            "| hriefandi@radikari.com         | Hilman Riefandi            |\n",
            "| isnaeni.trisna@radikari.com    | Isnaeni Trisna Rahmawati   |\n",
            "| mahabbatulmaula@radikari.com   | Mahabbatul Maula           |\n",
            "| mayhusnaino@radikari.com       | Mayhusna Ino Tantyasari    |\n",
            "| mluqmanhakim@radikari.com      | Muhammad Luqman Hakim Abdullah |\n",
            "| Muhammad.faisal@radikari.com   | Muhammad Faisal Amri       |\n",
            "| muhammad.mudi@radikari.com     | M. Mudi                    |\n",
            "| muhammadvarian@radikari.com    | Muhammad Farell Varian     |\n",
            "| mvennesa@radikari.com          | Mellania Vennesa Fitri     |\n",
            "| nadya.yun@radikari.com         | Nadya Yun Tafa Luwih       |\n",
            "| nafidzailmi@radikari.com       | Nafidza Ilmi Khairina      |\n",
            "| natanielaxl@radikari.com       | Nataniel Axl Areza         |\n",
            "| novitaqiroati@radikari.com     | Novita Qiroati Fadilah     |\n",
            "| nurzilzabahri@radikari.com     | Nur Zilza Bunayya Bahri    |\n",
            "| nyasykur@radikari.com          | Naufal Yasykur Odi Pindo   |\n",
            "| oktariskasalas@radikari.com    | Oktariska Salas Niko       |\n",
            "| rafandi@radikari.com           | Rosyad Afandi              |\n",
            "| ⁠reza.adjie@radikari.com       | Reza Purnama Adjie         |\n",
            "| riyanita.nita@radikari.com     | Riyanita                   |\n",
            "| sarpini.narmi@radikari.com     | Sarpini                    |\n",
            "| satryaajisepta@radikari.com    | Satrya Aji Septa Buana     |\n",
            "| sitichoiriyah@radikari.com     | Siti Choiriyah             |\n",
            "| wahyu.setyawan@radikari.com    | Wahyu Setyawan             |\n",
            "| yudwita.rahmana@radikari.com   | Yudwita Rohmana            |\n",
            "| yuliadwi@radikari.com          | Yulia Dwi Hardyanti        |\n",
            "| yunan.azzumardi@radikari.com   | Yunan Azzumardi Irawan     |\n",
            "| ahmadkarim@radikari.com        | Ahmad Busyrol Karim        |\n",
            "| galihsari@radikari.com         | Galih Ayu Wulan Sari       |\n",
            "| kalistasedha@radikari.com      | Kalista Sia Sedha          |\n",
            "| rizzafahlevi@radikari.com      | Muhammad Rizza Fahlevi     |\n",
            "| saidihusaini@radikari.com      | Muhammad Saidi Husaini MZ  |\n",
            "| zakyulinnuha@radikari.com      | Muhammad Zaky Ulinnuha     |\n",
            "| ninengrahayu@radikari.com      | Nineng Sri Rahayu          |\n",
            "| reggawijaya@radikari.com       | W. Regga Wijaya            |\n",
            "| wahyusetiyawan@radikari.com    | Wahyu Setiyawan            |\n",
            "| anisaprihastuti@radikari.com   | Anisa Prihastuti           |\n",
            "| dyahbudiarti@radikari.com      | Dyah Retno Budiarti        |\n",
            "| ernifransiska@radikari.com     | Erni Fransiska             |\n",
            "| ferdinansimanjuntak@radikari.com | Ferdinan Aditya Simanjuntak |\n",
            "| ghovuragustin@radikari.com     | Ghovur Azrian Agustin      |\n",
            "| iqbalodja@radikari.com         | Iqbal Ma'Kar Dl. Odja      |\n",
            "| mochwijaya@radikari.com        | Moch Rizky Eka Wijaya      |\n",
            "| mohamadbasit@radikari.com      | Mohamad Basit              |\n",
            "| khoirulanam@radikari.com       | Muhammad Nur Khoirul An Am |\n",
            "| mutiarahmajuni@radikari.com    | Mutia Rahmajuni            |\n",
            "| niputunurahdika@radikari.com   | Ni Putu Irene Pasca Nurahdika |\n",
            "| ridhorahmanto@radikari.com     | Ridho Rahmanto             |\n",
            "| verlynapratiwi@radikari.com    | Verlyna Dian Pratiwi       |\n",
            "| candrakusuma@radikari.com      | Candra Jati Kusuma         |\n",
            "| nurazizah@radikari.com         | Nur Roid Nafiatul Azizah   |\n",
            "| putripayapo@radikari.com       | Putri Nirmala S Payapo     |\n"
          ]
        }
      ],
      "source": [
        "# Print the table header\n",
        "print(\"| ID Agent                        | Name                       |\")\n",
        "print(\"|--------------------------------|----------------------------|\")\n",
        "\n",
        "# Print each row of the table\n",
        "for id_agent, name in agent_dict.items():\n",
        "    print(f\"| {id_agent:<30} | {name:<26} |\")"
      ]
    },
    {
      "cell_type": "code",
      "execution_count": 36,
      "metadata": {
        "id": "n4TFxMF_HXX0"
      },
      "outputs": [],
      "source": [
        "# for idx, row in df.iterrows():\n",
        "#     if row['ID AGENT'] == '':\n",
        "#       if pd.isna(row['Keterangan']) or row['Keterangan'] == '':\n",
        "#         df.at[idx, 'Keterangan'] = 'ID Agent Salah'\n",
        "#       else:\n",
        "#         df.at[idx, 'Keterangan'] = f\"{row['Keterangan']} & ID Agent Salah\"\n",
        "\n",
        "#     elif row['ID AGENT'] not in agent_dict:\n",
        "#         if row['NAMA AGENT'] in agent_dict.values():\n",
        "#             # Replace id agent with dict id agent\n",
        "#             for k, v in agent_dict.items():\n",
        "#                 if v == row['NAMA AGENT']:\n",
        "#                     df.at[idx, 'ID AGENT'] = k\n",
        "#                     if pd.isna(row['Keterangan']) or row['Keterangan'] == '':\n",
        "#                       df.at[idx, 'Keterangan'] = 'ID Agent Salah'\n",
        "#                     else:\n",
        "#                       df.at[idx, 'Keterangan'] = f\"{row['Keterangan']} & ID Agent Salah\"\n",
        "#                       break\n",
        "#         else:\n",
        "#             if df.at[idx, 'Keterangan'] == \"\":\n",
        "#                 df.at[idx, 'Keterangan'] = 'ID Agent & Nama Agent Salah'\n",
        "#             else:\n",
        "#              df.at[idx, 'Keterangan'] = f\"{row['Keterangan']} & ID Agent Salah & Nama Agent Salah\"\n",
        "\n",
        "#     elif row['NAMA AGENT'] != agent_dict[row['ID AGENT']]:\n",
        "#         # Replace agent name with dict agent name\n",
        "#         df.at[idx, 'NAMA AGENT'] = agent_dict[row['ID AGENT']]\n",
        "#         if df.at[idx, 'Keterangan'] == \"\":\n",
        "#             df.at[idx, 'Keterangan'] = 'Nama Agent Salah'\n",
        "#         else:\n",
        "#          df.at[idx, 'Keterangan'] = f\"{row['Keterangan']} & Nama Agent Salah\"\n"
      ]
    },
    {
      "cell_type": "code",
      "execution_count": 37,
      "metadata": {
        "id": "nViY9NXYKJXN"
      },
      "outputs": [],
      "source": [
        "for idx, row in df.iterrows():\n",
        "    current_ket = df.at[idx, 'Keterangan'] if not pd.isna(df.at[idx, 'Keterangan']) else \"\"\n",
        "\n",
        "    if row['ID AGENT'] == '':\n",
        "        df.at[idx, 'Keterangan'] = 'ID Agent Salah' if current_ket == \"\" else f\"{current_ket} & ID Agent Salah\"\n",
        "\n",
        "    elif row['ID AGENT'] not in agent_dict:\n",
        "        if row['NAMA AGENT'] in agent_dict.values():\n",
        "            match_id = next((k for k, v in agent_dict.items() if v == row['NAMA AGENT']), None)\n",
        "            if match_id:\n",
        "                df.at[idx, 'ID AGENT'] = match_id\n",
        "                ori_df.at[idx, 'ID AGENT'] = match_id\n",
        "                df.at[idx, 'Keterangan'] = 'ID Agent Salah' if current_ket == \"\" else f\"{current_ket} & ID Agent Salah\"\n",
        "        else:\n",
        "            df.at[idx, 'Keterangan'] = 'ID Agent & Nama Agent Salah' if current_ket == \"\" else f\"{current_ket} & ID Agent Salah & Nama Agent Salah\"\n",
        "\n",
        "    elif row['NAMA AGENT'] != agent_dict.get(row['ID AGENT'], ''):\n",
        "        df.at[idx, 'NAMA AGENT'] = agent_dict[row['ID AGENT']]\n",
        "        ori_df.at[idx, 'NAMA AGENT'] = agent_dict[row['ID AGENT']]\n",
        "        df.at[idx, 'Keterangan'] = 'Nama Agent Salah' if current_ket == \"\" else f\"{current_ket} & Nama Agent Salah\""
      ]
    },
    {
      "cell_type": "code",
      "execution_count": null,
      "metadata": {
        "id": "KNQRXYC2Ht_m"
      },
      "outputs": [],
      "source": [
        "filtered_data = df[df['Keterangan'].notnull()]\n",
        "filtered_data.head(10)"
      ]
    },
    {
      "cell_type": "markdown",
      "metadata": {
        "id": "uhSO2gFtaDMG"
      },
      "source": [
        "## Check Modified Date & Working Date"
      ]
    },
    {
      "cell_type": "code",
      "execution_count": 39,
      "metadata": {
        "id": "123kNsfKaDpt"
      },
      "outputs": [],
      "source": [
        "# Create a custom function to check conditions and update \"Keterangan\" column\n",
        "def update_keterangan(row):\n",
        "    if pd.isna(row['Modified Date']):\n",
        "      if pd.isna(row['Keterangan']):\n",
        "        return 'modified date salah'\n",
        "      else:\n",
        "        return f\"{row['Keterangan']} & modified date salah\"\n",
        "\n",
        "    elif row['Modified Date'].date() != row['WorkingDate'].date():\n",
        "        if pd.isna(row['Keterangan']):\n",
        "            return 'working date salah'\n",
        "        else:\n",
        "            return f\"{row['Keterangan']} & working date salah\"\n",
        "    else:\n",
        "        return row['Keterangan']\n",
        "\n",
        "# Apply the custom function to update \"Keterangan\" column\n",
        "df['Keterangan'] = df.apply(update_keterangan, axis=1)"
      ]
    },
    {
      "cell_type": "markdown",
      "metadata": {
        "id": "ldhEQbX_n54p"
      },
      "source": [
        "#Change The Data"
      ]
    },
    {
      "cell_type": "markdown",
      "metadata": {
        "id": "PXDOmzLJ4aJL"
      },
      "source": [
        "##Mengganti Nomor Telpon"
      ]
    },
    {
      "cell_type": "code",
      "execution_count": 40,
      "metadata": {
        "colab": {
          "base_uri": "https://localhost:8080/",
          "height": 166
        },
        "id": "ip5idG9G4eSL",
        "outputId": "06627e38-93a9-42c6-a5cf-b40d6b4d26a0"
      },
      "outputs": [
        {
          "output_type": "execute_result",
          "data": {
            "text/plain": [
              "                                        ORDER ID NO. HP       Modified Date  \\\n",
              "392792  20240823111215800000DANAW3ID546503238657  45528 2024-08-23 22:06:29   \n",
              "985411  20240819111215800000DANAW3ID128702090005    NaN 2024-08-19 12:25:53   \n",
              "\n",
              "       WorkingDate       Keterangan  \n",
              "392792  2024-08-23  no telpon salah  \n",
              "985411  2024-08-19  no telpon salah  "
            ],
            "text/html": [
              "\n",
              "  <div id=\"df-f4ae37da-9c23-403f-9b93-848806552776\" class=\"colab-df-container\">\n",
              "    <div>\n",
              "<style scoped>\n",
              "    .dataframe tbody tr th:only-of-type {\n",
              "        vertical-align: middle;\n",
              "    }\n",
              "\n",
              "    .dataframe tbody tr th {\n",
              "        vertical-align: top;\n",
              "    }\n",
              "\n",
              "    .dataframe thead th {\n",
              "        text-align: right;\n",
              "    }\n",
              "</style>\n",
              "<table border=\"1\" class=\"dataframe\">\n",
              "  <thead>\n",
              "    <tr style=\"text-align: right;\">\n",
              "      <th></th>\n",
              "      <th>ORDER ID</th>\n",
              "      <th>NO. HP</th>\n",
              "      <th>Modified Date</th>\n",
              "      <th>WorkingDate</th>\n",
              "      <th>Keterangan</th>\n",
              "    </tr>\n",
              "  </thead>\n",
              "  <tbody>\n",
              "    <tr>\n",
              "      <th>392792</th>\n",
              "      <td>20240823111215800000DANAW3ID546503238657</td>\n",
              "      <td>45528</td>\n",
              "      <td>2024-08-23 22:06:29</td>\n",
              "      <td>2024-08-23</td>\n",
              "      <td>no telpon salah</td>\n",
              "    </tr>\n",
              "    <tr>\n",
              "      <th>985411</th>\n",
              "      <td>20240819111215800000DANAW3ID128702090005</td>\n",
              "      <td>NaN</td>\n",
              "      <td>2024-08-19 12:25:53</td>\n",
              "      <td>2024-08-19</td>\n",
              "      <td>no telpon salah</td>\n",
              "    </tr>\n",
              "  </tbody>\n",
              "</table>\n",
              "</div>\n",
              "    <div class=\"colab-df-buttons\">\n",
              "\n",
              "  <div class=\"colab-df-container\">\n",
              "    <button class=\"colab-df-convert\" onclick=\"convertToInteractive('df-f4ae37da-9c23-403f-9b93-848806552776')\"\n",
              "            title=\"Convert this dataframe to an interactive table.\"\n",
              "            style=\"display:none;\">\n",
              "\n",
              "  <svg xmlns=\"http://www.w3.org/2000/svg\" height=\"24px\" viewBox=\"0 -960 960 960\">\n",
              "    <path d=\"M120-120v-720h720v720H120Zm60-500h600v-160H180v160Zm220 220h160v-160H400v160Zm0 220h160v-160H400v160ZM180-400h160v-160H180v160Zm440 0h160v-160H620v160ZM180-180h160v-160H180v160Zm440 0h160v-160H620v160Z\"/>\n",
              "  </svg>\n",
              "    </button>\n",
              "\n",
              "  <style>\n",
              "    .colab-df-container {\n",
              "      display:flex;\n",
              "      gap: 12px;\n",
              "    }\n",
              "\n",
              "    .colab-df-convert {\n",
              "      background-color: #E8F0FE;\n",
              "      border: none;\n",
              "      border-radius: 50%;\n",
              "      cursor: pointer;\n",
              "      display: none;\n",
              "      fill: #1967D2;\n",
              "      height: 32px;\n",
              "      padding: 0 0 0 0;\n",
              "      width: 32px;\n",
              "    }\n",
              "\n",
              "    .colab-df-convert:hover {\n",
              "      background-color: #E2EBFA;\n",
              "      box-shadow: 0px 1px 2px rgba(60, 64, 67, 0.3), 0px 1px 3px 1px rgba(60, 64, 67, 0.15);\n",
              "      fill: #174EA6;\n",
              "    }\n",
              "\n",
              "    .colab-df-buttons div {\n",
              "      margin-bottom: 4px;\n",
              "    }\n",
              "\n",
              "    [theme=dark] .colab-df-convert {\n",
              "      background-color: #3B4455;\n",
              "      fill: #D2E3FC;\n",
              "    }\n",
              "\n",
              "    [theme=dark] .colab-df-convert:hover {\n",
              "      background-color: #434B5C;\n",
              "      box-shadow: 0px 1px 3px 1px rgba(0, 0, 0, 0.15);\n",
              "      filter: drop-shadow(0px 1px 2px rgba(0, 0, 0, 0.3));\n",
              "      fill: #FFFFFF;\n",
              "    }\n",
              "  </style>\n",
              "\n",
              "    <script>\n",
              "      const buttonEl =\n",
              "        document.querySelector('#df-f4ae37da-9c23-403f-9b93-848806552776 button.colab-df-convert');\n",
              "      buttonEl.style.display =\n",
              "        google.colab.kernel.accessAllowed ? 'block' : 'none';\n",
              "\n",
              "      async function convertToInteractive(key) {\n",
              "        const element = document.querySelector('#df-f4ae37da-9c23-403f-9b93-848806552776');\n",
              "        const dataTable =\n",
              "          await google.colab.kernel.invokeFunction('convertToInteractive',\n",
              "                                                    [key], {});\n",
              "        if (!dataTable) return;\n",
              "\n",
              "        const docLinkHtml = 'Like what you see? Visit the ' +\n",
              "          '<a target=\"_blank\" href=https://colab.research.google.com/notebooks/data_table.ipynb>data table notebook</a>'\n",
              "          + ' to learn more about interactive tables.';\n",
              "        element.innerHTML = '';\n",
              "        dataTable['output_type'] = 'display_data';\n",
              "        await google.colab.output.renderOutput(dataTable, element);\n",
              "        const docLink = document.createElement('div');\n",
              "        docLink.innerHTML = docLinkHtml;\n",
              "        element.appendChild(docLink);\n",
              "      }\n",
              "    </script>\n",
              "  </div>\n",
              "\n",
              "\n",
              "<div id=\"df-15a55d42-b828-426a-9b84-22ace2e469b1\">\n",
              "  <button class=\"colab-df-quickchart\" onclick=\"quickchart('df-15a55d42-b828-426a-9b84-22ace2e469b1')\"\n",
              "            title=\"Suggest charts\"\n",
              "            style=\"display:none;\">\n",
              "\n",
              "<svg xmlns=\"http://www.w3.org/2000/svg\" height=\"24px\"viewBox=\"0 0 24 24\"\n",
              "     width=\"24px\">\n",
              "    <g>\n",
              "        <path d=\"M19 3H5c-1.1 0-2 .9-2 2v14c0 1.1.9 2 2 2h14c1.1 0 2-.9 2-2V5c0-1.1-.9-2-2-2zM9 17H7v-7h2v7zm4 0h-2V7h2v10zm4 0h-2v-4h2v4z\"/>\n",
              "    </g>\n",
              "</svg>\n",
              "  </button>\n",
              "\n",
              "<style>\n",
              "  .colab-df-quickchart {\n",
              "      --bg-color: #E8F0FE;\n",
              "      --fill-color: #1967D2;\n",
              "      --hover-bg-color: #E2EBFA;\n",
              "      --hover-fill-color: #174EA6;\n",
              "      --disabled-fill-color: #AAA;\n",
              "      --disabled-bg-color: #DDD;\n",
              "  }\n",
              "\n",
              "  [theme=dark] .colab-df-quickchart {\n",
              "      --bg-color: #3B4455;\n",
              "      --fill-color: #D2E3FC;\n",
              "      --hover-bg-color: #434B5C;\n",
              "      --hover-fill-color: #FFFFFF;\n",
              "      --disabled-bg-color: #3B4455;\n",
              "      --disabled-fill-color: #666;\n",
              "  }\n",
              "\n",
              "  .colab-df-quickchart {\n",
              "    background-color: var(--bg-color);\n",
              "    border: none;\n",
              "    border-radius: 50%;\n",
              "    cursor: pointer;\n",
              "    display: none;\n",
              "    fill: var(--fill-color);\n",
              "    height: 32px;\n",
              "    padding: 0;\n",
              "    width: 32px;\n",
              "  }\n",
              "\n",
              "  .colab-df-quickchart:hover {\n",
              "    background-color: var(--hover-bg-color);\n",
              "    box-shadow: 0 1px 2px rgba(60, 64, 67, 0.3), 0 1px 3px 1px rgba(60, 64, 67, 0.15);\n",
              "    fill: var(--button-hover-fill-color);\n",
              "  }\n",
              "\n",
              "  .colab-df-quickchart-complete:disabled,\n",
              "  .colab-df-quickchart-complete:disabled:hover {\n",
              "    background-color: var(--disabled-bg-color);\n",
              "    fill: var(--disabled-fill-color);\n",
              "    box-shadow: none;\n",
              "  }\n",
              "\n",
              "  .colab-df-spinner {\n",
              "    border: 2px solid var(--fill-color);\n",
              "    border-color: transparent;\n",
              "    border-bottom-color: var(--fill-color);\n",
              "    animation:\n",
              "      spin 1s steps(1) infinite;\n",
              "  }\n",
              "\n",
              "  @keyframes spin {\n",
              "    0% {\n",
              "      border-color: transparent;\n",
              "      border-bottom-color: var(--fill-color);\n",
              "      border-left-color: var(--fill-color);\n",
              "    }\n",
              "    20% {\n",
              "      border-color: transparent;\n",
              "      border-left-color: var(--fill-color);\n",
              "      border-top-color: var(--fill-color);\n",
              "    }\n",
              "    30% {\n",
              "      border-color: transparent;\n",
              "      border-left-color: var(--fill-color);\n",
              "      border-top-color: var(--fill-color);\n",
              "      border-right-color: var(--fill-color);\n",
              "    }\n",
              "    40% {\n",
              "      border-color: transparent;\n",
              "      border-right-color: var(--fill-color);\n",
              "      border-top-color: var(--fill-color);\n",
              "    }\n",
              "    60% {\n",
              "      border-color: transparent;\n",
              "      border-right-color: var(--fill-color);\n",
              "    }\n",
              "    80% {\n",
              "      border-color: transparent;\n",
              "      border-right-color: var(--fill-color);\n",
              "      border-bottom-color: var(--fill-color);\n",
              "    }\n",
              "    90% {\n",
              "      border-color: transparent;\n",
              "      border-bottom-color: var(--fill-color);\n",
              "    }\n",
              "  }\n",
              "</style>\n",
              "\n",
              "  <script>\n",
              "    async function quickchart(key) {\n",
              "      const quickchartButtonEl =\n",
              "        document.querySelector('#' + key + ' button');\n",
              "      quickchartButtonEl.disabled = true;  // To prevent multiple clicks.\n",
              "      quickchartButtonEl.classList.add('colab-df-spinner');\n",
              "      try {\n",
              "        const charts = await google.colab.kernel.invokeFunction(\n",
              "            'suggestCharts', [key], {});\n",
              "      } catch (error) {\n",
              "        console.error('Error during call to suggestCharts:', error);\n",
              "      }\n",
              "      quickchartButtonEl.classList.remove('colab-df-spinner');\n",
              "      quickchartButtonEl.classList.add('colab-df-quickchart-complete');\n",
              "    }\n",
              "    (() => {\n",
              "      let quickchartButtonEl =\n",
              "        document.querySelector('#df-15a55d42-b828-426a-9b84-22ace2e469b1 button');\n",
              "      quickchartButtonEl.style.display =\n",
              "        google.colab.kernel.accessAllowed ? 'block' : 'none';\n",
              "    })();\n",
              "  </script>\n",
              "</div>\n",
              "\n",
              "    </div>\n",
              "  </div>\n"
            ],
            "application/vnd.google.colaboratory.intrinsic+json": {
              "type": "dataframe",
              "summary": "{\n  \"name\": \"telpon[['ORDER ID','NO\",\n  \"rows\": 2,\n  \"fields\": [\n    {\n      \"column\": \"ORDER ID\",\n      \"properties\": {\n        \"dtype\": \"string\",\n        \"num_unique_values\": 2,\n        \"samples\": [\n          \"20240819111215800000DANAW3ID128702090005\",\n          \"20240823111215800000DANAW3ID546503238657\"\n        ],\n        \"semantic_type\": \"\",\n        \"description\": \"\"\n      }\n    },\n    {\n      \"column\": \"NO. HP\",\n      \"properties\": {\n        \"dtype\": \"string\",\n        \"num_unique_values\": 1,\n        \"samples\": [\n          \"45528\"\n        ],\n        \"semantic_type\": \"\",\n        \"description\": \"\"\n      }\n    },\n    {\n      \"column\": \"Modified Date\",\n      \"properties\": {\n        \"dtype\": \"date\",\n        \"min\": \"2024-08-19 12:25:53\",\n        \"max\": \"2024-08-23 22:06:29\",\n        \"num_unique_values\": 2,\n        \"samples\": [\n          \"2024-08-19 12:25:53\"\n        ],\n        \"semantic_type\": \"\",\n        \"description\": \"\"\n      }\n    },\n    {\n      \"column\": \"WorkingDate\",\n      \"properties\": {\n        \"dtype\": \"date\",\n        \"min\": \"2024-08-19 00:00:00\",\n        \"max\": \"2024-08-23 00:00:00\",\n        \"num_unique_values\": 2,\n        \"samples\": [\n          \"2024-08-19 00:00:00\"\n        ],\n        \"semantic_type\": \"\",\n        \"description\": \"\"\n      }\n    },\n    {\n      \"column\": \"Keterangan\",\n      \"properties\": {\n        \"dtype\": \"string\",\n        \"num_unique_values\": 1,\n        \"samples\": [\n          \"no telpon salah\"\n        ],\n        \"semantic_type\": \"\",\n        \"description\": \"\"\n      }\n    }\n  ]\n}"
            },
            "application/vnd.google.colaboratory.module+javascript": "\n      import \"https://ssl.gstatic.com/colaboratory/data_table/f565ec32c7e6656f/data_table.js\";\n\n      const table = window.createDataTable({\n        data: [[{\n            'v': 392792,\n            'f': \"392792\",\n        },\n\"20240823111215800000DANAW3ID546503238657\",\n\"45528\",\n\"2024-08-23 22:06:29\",\n\"2024-08-23 00:00:00\",\n\"no telpon salah\"],\n [{\n            'v': 985411,\n            'f': \"985411\",\n        },\n\"20240819111215800000DANAW3ID128702090005\",\nNaN,\n\"2024-08-19 12:25:53\",\n\"2024-08-19 00:00:00\",\n\"no telpon salah\"]],\n        columns: [[\"number\", \"index\"], [\"string\", \"ORDER ID\"], [\"string\", \"NO. HP\"], [\"string\", \"Modified Date\"], [\"string\", \"WorkingDate\"], [\"string\", \"Keterangan\"]],\n        columnOptions: [{\"width\": \"1px\", \"className\": \"index_column\"}],\n        rowsPerPage: 25,\n        helpUrl: \"https://colab.research.google.com/notebooks/data_table.ipynb\",\n        suppressOutputScrolling: true,\n        minimumWidth: undefined,\n      });\n\n      function appendQuickchartButton(parentElement) {\n        let quickchartButtonContainerElement = document.createElement('div');\n        quickchartButtonContainerElement.innerHTML = `\n<div id=\"df-2fd5e014-00e4-4c36-b1ab-8ff3000752b7\">\n  <button class=\"colab-df-quickchart\" onclick=\"quickchart('df-2fd5e014-00e4-4c36-b1ab-8ff3000752b7')\"\n            title=\"Suggest charts\"\n            style=\"display:none;\">\n    \n<svg xmlns=\"http://www.w3.org/2000/svg\" height=\"24px\"viewBox=\"0 0 24 24\"\n     width=\"24px\">\n    <g>\n        <path d=\"M19 3H5c-1.1 0-2 .9-2 2v14c0 1.1.9 2 2 2h14c1.1 0 2-.9 2-2V5c0-1.1-.9-2-2-2zM9 17H7v-7h2v7zm4 0h-2V7h2v10zm4 0h-2v-4h2v4z\"/>\n    </g>\n</svg>\n  </button>\n  \n<style>\n  .colab-df-quickchart {\n      --bg-color: #E8F0FE;\n      --fill-color: #1967D2;\n      --hover-bg-color: #E2EBFA;\n      --hover-fill-color: #174EA6;\n      --disabled-fill-color: #AAA;\n      --disabled-bg-color: #DDD;\n  }\n\n  [theme=dark] .colab-df-quickchart {\n      --bg-color: #3B4455;\n      --fill-color: #D2E3FC;\n      --hover-bg-color: #434B5C;\n      --hover-fill-color: #FFFFFF;\n      --disabled-bg-color: #3B4455;\n      --disabled-fill-color: #666;\n  }\n\n  .colab-df-quickchart {\n    background-color: var(--bg-color);\n    border: none;\n    border-radius: 50%;\n    cursor: pointer;\n    display: none;\n    fill: var(--fill-color);\n    height: 32px;\n    padding: 0;\n    width: 32px;\n  }\n\n  .colab-df-quickchart:hover {\n    background-color: var(--hover-bg-color);\n    box-shadow: 0 1px 2px rgba(60, 64, 67, 0.3), 0 1px 3px 1px rgba(60, 64, 67, 0.15);\n    fill: var(--button-hover-fill-color);\n  }\n\n  .colab-df-quickchart-complete:disabled,\n  .colab-df-quickchart-complete:disabled:hover {\n    background-color: var(--disabled-bg-color);\n    fill: var(--disabled-fill-color);\n    box-shadow: none;\n  }\n\n  .colab-df-spinner {\n    border: 2px solid var(--fill-color);\n    border-color: transparent;\n    border-bottom-color: var(--fill-color);\n    animation:\n      spin 1s steps(1) infinite;\n  }\n\n  @keyframes spin {\n    0% {\n      border-color: transparent;\n      border-bottom-color: var(--fill-color);\n      border-left-color: var(--fill-color);\n    }\n    20% {\n      border-color: transparent;\n      border-left-color: var(--fill-color);\n      border-top-color: var(--fill-color);\n    }\n    30% {\n      border-color: transparent;\n      border-left-color: var(--fill-color);\n      border-top-color: var(--fill-color);\n      border-right-color: var(--fill-color);\n    }\n    40% {\n      border-color: transparent;\n      border-right-color: var(--fill-color);\n      border-top-color: var(--fill-color);\n    }\n    60% {\n      border-color: transparent;\n      border-right-color: var(--fill-color);\n    }\n    80% {\n      border-color: transparent;\n      border-right-color: var(--fill-color);\n      border-bottom-color: var(--fill-color);\n    }\n    90% {\n      border-color: transparent;\n      border-bottom-color: var(--fill-color);\n    }\n  }\n</style>\n\n  <script>\n    async function quickchart(key) {\n      const quickchartButtonEl =\n        document.querySelector('#' + key + ' button');\n      quickchartButtonEl.disabled = true;  // To prevent multiple clicks.\n      quickchartButtonEl.classList.add('colab-df-spinner');\n      try {\n        const charts = await google.colab.kernel.invokeFunction(\n            'suggestCharts', [key], {});\n      } catch (error) {\n        console.error('Error during call to suggestCharts:', error);\n      }\n      quickchartButtonEl.classList.remove('colab-df-spinner');\n      quickchartButtonEl.classList.add('colab-df-quickchart-complete');\n    }\n    (() => {\n      let quickchartButtonEl =\n        document.querySelector('#df-2fd5e014-00e4-4c36-b1ab-8ff3000752b7 button');\n      quickchartButtonEl.style.display =\n        google.colab.kernel.accessAllowed ? 'block' : 'none';\n    })();\n  </script>\n</div>`;\n        parentElement.appendChild(quickchartButtonContainerElement);\n      }\n\n      appendQuickchartButton(table);\n    "
          },
          "metadata": {},
          "execution_count": 40
        }
      ],
      "source": [
        "pd.set_option('display.max_rows', None)\n",
        "telpon = df[df['Keterangan'].str.contains('telpon', case=False, na=False)]\n",
        "telpon[['ORDER ID','NO. HP', 'Modified Date','WorkingDate','Keterangan']]\n"
      ]
    },
    {
      "cell_type": "code",
      "execution_count": 41,
      "metadata": {
        "colab": {
          "base_uri": "https://localhost:8080/",
          "height": 147
        },
        "id": "JHob-EPvB90R",
        "outputId": "edc9f0ad-eff7-46fc-c600-73c7ae7280d0"
      },
      "outputs": [
        {
          "output_type": "display_data",
          "data": {
            "text/plain": [
              "<pandas.io.formats.style.Styler at 0x7eadcb3c2fe0>"
            ],
            "text/html": [
              "<style type=\"text/css\">\n",
              "#T_ab7d3_row0_col0, #T_ab7d3_row0_col1, #T_ab7d3_row1_col0, #T_ab7d3_row1_col1 {\n",
              "  text-align: left;\n",
              "}\n",
              "</style>\n",
              "<table id=\"T_ab7d3\" class=\"dataframe\">\n",
              "  <thead>\n",
              "    <tr>\n",
              "      <th class=\"blank level0\" >&nbsp;</th>\n",
              "      <th id=\"T_ab7d3_level0_col0\" class=\"col_heading level0 col0\" >ORDER ID</th>\n",
              "      <th id=\"T_ab7d3_level0_col1\" class=\"col_heading level0 col1\" >Link</th>\n",
              "    </tr>\n",
              "  </thead>\n",
              "  <tbody>\n",
              "    <tr>\n",
              "      <th id=\"T_ab7d3_level0_row0\" class=\"row_heading level0 row0\" >392792</th>\n",
              "      <td id=\"T_ab7d3_row0_col0\" class=\"data row0 col0\" >20240823111215800000DANAW3ID546503238657</td>\n",
              "      <td id=\"T_ab7d3_row0_col1\" class=\"data row0 col1\" ><a href=\"https://custmng.saas.dana.id/user/kyc/detail.htm?menuKey=4&kycOrderId=20240823111215800000DANAW3ID546503238657&failedReason=There%20was%20a%20problem%20while%20upgrading.&submissionDate=1669465310788&modifiedDate=1669465320278&orderStatus=FAILED&loginId=62-85156229291&userNickname=MUHAMMAD%20ARIES%20RAMADHAN\" target=\"_blank\">Link</a></td>\n",
              "    </tr>\n",
              "    <tr>\n",
              "      <th id=\"T_ab7d3_level0_row1\" class=\"row_heading level0 row1\" >985411</th>\n",
              "      <td id=\"T_ab7d3_row1_col0\" class=\"data row1 col0\" >20240819111215800000DANAW3ID128702090005</td>\n",
              "      <td id=\"T_ab7d3_row1_col1\" class=\"data row1 col1\" ><a href=\"https://custmng.saas.dana.id/user/kyc/detail.htm?menuKey=4&kycOrderId=20240819111215800000DANAW3ID128702090005&failedReason=There%20was%20a%20problem%20while%20upgrading.&submissionDate=1669465310788&modifiedDate=1669465320278&orderStatus=FAILED&loginId=62-85156229291&userNickname=MUHAMMAD%20ARIES%20RAMADHAN\" target=\"_blank\">Link</a></td>\n",
              "    </tr>\n",
              "  </tbody>\n",
              "</table>\n"
            ]
          },
          "metadata": {}
        },
        {
          "output_type": "stream",
          "name": "stdout",
          "text": [
            "\n",
            "20240823111215800000DANAW3ID546503238657, 20240819111215800000DANAW3ID128702090005\n"
          ]
        }
      ],
      "source": [
        "# Define a base URL\n",
        "base_url = \"https://custmng.saas.dana.id/user/kyc/detail.htm?menuKey=4&kycOrderId=\"\n",
        "\n",
        "# Function to concatenate URL with order ID and make it a full link\n",
        "def create_clickable_link(order_id):\n",
        "    full_url = (f\"{base_url}{order_id}&failedReason=There%20was%20a%20problem%20while%20upgrading.\"\n",
        "                \"&submissionDate=1669465310788&modifiedDate=1669465320278\"\n",
        "                \"&orderStatus=FAILED&loginId=62-85156229291&userNickname=MUHAMMAD%20ARIES%20RAMADHAN\")\n",
        "    return f'<a href=\"{full_url}\" target=\"_blank\">Link</a>'\n",
        "\n",
        "# Adding a new column 'Link' that contains clickable URLs\n",
        "telpon['Link'] = telpon['ORDER ID'].apply(create_clickable_link)\n",
        "\n",
        "# Select only the 'ORDER ID' and 'Link' columns for display\n",
        "display_columns = telpon[['ORDER ID', 'Link']]\n",
        "\n",
        "# Display the DataFrame with clickable links (now with the index)\n",
        "display(display_columns.style.format({'Link': lambda x: x}).set_properties(**{'text-align': 'left'}))\n",
        "\n",
        "#========================== to print\n",
        "# Convert the 'ORDER ID' column to a list\n",
        "order_id_list = telpon['ORDER ID'].tolist()\n",
        "\n",
        "# Join the list items into a single string separated by commas\n",
        "order_ids_string = \", \".join(order_id_list)\n",
        "\n",
        "print(\"\")\n",
        "# Print the result\n",
        "print(order_ids_string)"
      ]
    },
    {
      "cell_type": "code",
      "execution_count": 42,
      "metadata": {
        "id": "MKFApDE25W8E",
        "colab": {
          "base_uri": "https://localhost:8080/"
        },
        "outputId": "dd1ac831-2c8e-4699-a2f5-2c45ae47dd45"
      },
      "outputs": [
        {
          "output_type": "stream",
          "name": "stdout",
          "text": [
            "Enter all Order IDs separated by commas (or type 'No' to stop): 20240823111215800000DANAW3ID546503238657, 20240819111215800000DANAW3ID128702090005\n",
            "Enter the new No Telepon value for ORDER ID 20240823111215800000DANAW3ID546503238657: 6281573415963\n",
            "Enter the new No Telepon value for ORDER ID 20240819111215800000DANAW3ID128702090005: 6283870755340\n",
            "\n",
            "All Changed Rows:\n"
          ]
        }
      ],
      "source": [
        "\n",
        "def change_telpon_bulk(df):\n",
        "    changed_rows = set()\n",
        "\n",
        "    # Prompt the user for Order IDs\n",
        "    order_ids_input = input(\"Enter all Order IDs separated by commas (or type 'No' to stop): \").strip()\n",
        "\n",
        "    # Check if the user wants to stop\n",
        "    if order_ids_input.lower() == 'no':\n",
        "        print(\"Stopping the process.\")\n",
        "        return\n",
        "\n",
        "    # Split the input into a list of Order IDs\n",
        "    order_ids = [order_id.strip() for order_id in order_ids_input.split(',')]\n",
        "\n",
        "    for order_id_to_change in order_ids:\n",
        "        # Prompt the user for the new Status value for each Order ID\n",
        "        new_status_value = input(f\"Enter the new No Telepon value for ORDER ID {order_id_to_change}: \").strip()\n",
        "\n",
        "        # Locate the row with the specified \"ORDER ID\"\n",
        "        changed_row = df[df['ORDER ID'] == order_id_to_change].index\n",
        "\n",
        "        if changed_row.empty:\n",
        "            print(f\"\\nNo row found for ORDER ID: {order_id_to_change}\")\n",
        "        else:\n",
        "            # Update the \"STATUS\" value\n",
        "            df.loc[changed_row, 'NO. HP'] = new_status_value\n",
        "            ori_df.loc[changed_row, 'NO. HP'] = new_status_value\n",
        "            # Add the changed row to the set\n",
        "            changed_rows.add(changed_row[0])\n",
        "\n",
        "            # Display only the 'ORDER ID' and 'STATUS' columns for the changed row\n",
        "            # print(f\"\\nChanged Row for ORDER ID {order_id_to_change}:\\n{df.loc[changed_row, ['ORDER ID', 'STATUS']]}\")\n",
        "\n",
        "    # Display all changed rows after stopping the process\n",
        "    if changed_rows:\n",
        "        print(\"\\nAll Changed Rows:\")\n",
        "        #print(df.loc[changed_rows, ['ORDER ID', 'NO. HP']])\n",
        "\n",
        "# Example usage:\n",
        "change_telpon_bulk(df)"
      ]
    },
    {
      "cell_type": "markdown",
      "metadata": {
        "id": "gnwbiyzfYqCc"
      },
      "source": [
        "## Mengganti Status"
      ]
    },
    {
      "cell_type": "code",
      "execution_count": 43,
      "metadata": {
        "id": "MMBKMyyusDKo"
      },
      "outputs": [],
      "source": [
        "pd.set_option('display.max_rows', None)\n",
        "status = df[(df['Keterangan'].str.contains('check status', na=False)) &\n",
        "            (df['Modified Date'].notnull()) &\n",
        "            (~df['STATUS'].str.contains('REJECT BY SYSTEM', na=False))\n",
        "            ]\n",
        "sorted_status = status.sort_values(by='STATUS')\n",
        "# sorted_status[['ID AGENT', 'ORDER ID', 'NO. HP', 'STATUS', 'Reason', 'Modified Date', 'WorkingDate', 'Keterangan']]\n"
      ]
    },
    {
      "cell_type": "code",
      "execution_count": null,
      "metadata": {
        "id": "pmF1_eC5iukL"
      },
      "outputs": [],
      "source": [
        "# Define a base URL\n",
        "base_url = \"https://custmng.saas.dana.id/user/kyc/detail.htm?menuKey=4&kycOrderId=\"\n",
        "\n",
        "# Function to concatenate URL with order ID and make it a full link\n",
        "def create_clickable_link(order_id):\n",
        "    full_url = (f\"{base_url}{order_id}&failedReason=There%20was%20a%20problem%20while%20upgrading.\"\n",
        "                \"&submissionDate=1669465310788&modifiedDate=1669465320278\"\n",
        "                \"&orderStatus=FAILED&loginId=62-85156229291&userNickname=MUHAMMAD%20ARIES%20RAMADHAN\")\n",
        "    return f'<a href=\"{full_url}\" target=\"_blank\">Link</a>'\n",
        "\n",
        "# Adding a new column 'Link' that contains clickable URLs\n",
        "sorted_status['Link'] = sorted_status['ORDER ID'].apply(create_clickable_link)\n",
        "\n",
        "# Select only the 'ORDER ID' and 'Link' columns for display\n",
        "display_columns = sorted_status[['NAMA AGENT','NO. HP','ORDER ID', 'STATUS', 'Reason','Status Revoke','Link','Modified Date', 'WorkingDate', 'Keterangan']]\n",
        "\n",
        "# Display the DataFrame with clickable links (now with the index)\n",
        "display(display_columns.style.format({'Link': lambda x: x}).set_properties(**{'text-align': 'left'}))\n",
        "\n",
        "print(\"Jumlah Row:  \",len(sorted_status))"
      ]
    },
    {
      "cell_type": "code",
      "execution_count": 45,
      "metadata": {
        "id": "_YZSNi1Eq9Fs"
      },
      "outputs": [],
      "source": [
        "# Dictionary of changes (ORDER ID as keys, values as dictionaries of new STATUS and KETERANGAN)\n",
        "changes = {\n",
        "\n",
        "    '20240822111215800000DANAW3ID474704393250': {'STATUS': 'REJECT', 'Keterangan': 'finding salah status'},\n",
        "\n",
        "    '20240822111215800000DANAW3ID140303986144': {'STATUS': 'CHECK', 'Keterangan': 'status revoke salah'},\n",
        "\n",
        "    '20240824111215800000DANAW3ID084305076093': {'STATUS': 'CHECK', 'Keterangan': 'status revoke salah'},\n",
        "\n",
        "    '20240824111215800000DANAW3ID093705112105': {'STATUS': 'CHECK', 'Keterangan': 'reason salah'},\n",
        "\n",
        "    '20240823111215800000DANAW3ID161904944288': {'STATUS': 'REJECT', 'Keterangan': 'reason salah'},\n",
        "\n",
        "    '20240823111215800000DANAW3ID646004194771': {'STATUS': 'REJECT', 'Keterangan': 'reason salah'}\n",
        "\n",
        "    # '20240823111215800000DANAW3ID555303486240': {'STATUS': 'CHECK', 'Keterangan': 'status revoke salah'},\n",
        "\n",
        "    # '20240817111215800000DANAW3ID362699177524': {'STATUS': 'CHECK', 'Keterangan': 'status revoke salah'}\n",
        "\n",
        "    # '20240731111215800000DANAW3ID546886982239': {'STATUS': 'CHECK', 'Keterangan': 'finding salah status'}\n",
        "\n",
        "    # '20240725111215800000DANAW3ID237083753702': {'STATUS': 'REVOKED', 'Keterangan': 'reason salah'},\n",
        "\n",
        "    # '': {'STATUS': 'REJECT', 'Keterangan': 'reason salah'}\n",
        "\n",
        "\n",
        "}\n",
        "# Apply the changes in one line\n",
        "for order_id, values in changes.items():\n",
        "    df.loc[df['ORDER ID'] == order_id, ['STATUS', 'Keterangan']] = [values['STATUS'], values['Keterangan']]\n",
        "    ori_df.loc[ori_df['ORDER ID'] == order_id, ['STATUS', 'Keterangan']] = [values['STATUS'], values['Keterangan']]\n"
      ]
    },
    {
      "cell_type": "markdown",
      "metadata": {
        "id": "kkt9-PNkDaKd"
      },
      "source": [
        "Function For Checking"
      ]
    },
    {
      "cell_type": "code",
      "execution_count": null,
      "metadata": {
        "id": "6I9_T6-s8bTz"
      },
      "outputs": [],
      "source": [
        "# pd.set_option('display.max_rows', None)\n",
        "# status = df[df['ORDER ID'].str.contains('20231201111215800000DANAW3ID970814217454',na=False)]\n",
        "# status[['ORDER ID','STATUS','Keterangan']]\n",
        "\n"
      ]
    },
    {
      "cell_type": "markdown",
      "metadata": {
        "id": "Sx46dIiCDrpM"
      },
      "source": [
        "#Processing Data 2"
      ]
    },
    {
      "cell_type": "code",
      "execution_count": 46,
      "metadata": {
        "id": "LNrkN3CGTyNQ"
      },
      "outputs": [],
      "source": [
        "# Replace NaN with empty string and convert to string\n",
        "df['Reason'] = df['Reason'].fillna('').astype(str)\n",
        "df['New Remarks'] = df['New Remarks'].fillna('').astype(str)\n",
        "df['KTP Defect >1'] = df['KTP Defect >1'].fillna('').astype(str)\n",
        "df['Status Revoke'] = df['Status Revoke'].fillna('').astype(str)\n",
        "df['Reason Revoke'] = df['Reason Revoke'].fillna('').astype(str)\n",
        "df['New Remarks Revoke'] = df['New Remarks Revoke'].fillna('').astype(str)"
      ]
    },
    {
      "cell_type": "code",
      "execution_count": 47,
      "metadata": {
        "id": "yCllYWn6Hb1W"
      },
      "outputs": [],
      "source": [
        "# Remove Whitespace\n",
        "df['Status Revoke'] = df['Status Revoke'].str.strip()\n",
        "df['Reason Revoke'] = df['Reason Revoke'].str.strip()\n",
        "df['New Remarks Revoke'] = df['New Remarks Revoke'].str.strip()"
      ]
    },
    {
      "cell_type": "code",
      "execution_count": null,
      "metadata": {
        "id": "72ubThwUDuWM"
      },
      "outputs": [],
      "source": [
        "df.tail(2)"
      ]
    },
    {
      "cell_type": "markdown",
      "source": [
        "##Check Doc Type\n"
      ],
      "metadata": {
        "id": "q7-NbM5f_4_2"
      }
    },
    {
      "cell_type": "code",
      "source": [
        "#Doc Type list\n",
        "doc_type_list = [\n",
        "  'KTP',\n",
        "  'DRIVING_LICENSE'\n",
        "]"
      ],
      "metadata": {
        "id": "5zjLGEh5_8vO"
      },
      "execution_count": 49,
      "outputs": []
    },
    {
      "cell_type": "code",
      "source": [
        "def doc_type (row):\n",
        "    if row['Doc Type'].lower() not in map(str.lower, doc_type_list) or pd.isna(row['Doc Type']):\n",
        "      if pd.isna(row['Keterangan']):\n",
        "        return 'doc type salah'\n",
        "      else:\n",
        "        return f\"{row['Keterangan']} & doc type salah\"\n",
        "\n",
        "    else:\n",
        "        return row['Keterangan']"
      ],
      "metadata": {
        "id": "vDgKdexdAtEE"
      },
      "execution_count": 50,
      "outputs": []
    },
    {
      "cell_type": "code",
      "source": [],
      "metadata": {
        "id": "HVvQAdWPuz8Y"
      },
      "execution_count": 50,
      "outputs": []
    },
    {
      "cell_type": "code",
      "source": [
        "df['Keterangan'] = df.apply(doc_type, axis=1)"
      ],
      "metadata": {
        "id": "MlQ7HhGj7OiM"
      },
      "execution_count": 51,
      "outputs": []
    },
    {
      "cell_type": "markdown",
      "metadata": {
        "id": "n7hurk5KglH9"
      },
      "source": [
        "##Check Status Revoke, Reject Reason, New Remarks Reason"
      ]
    },
    {
      "cell_type": "code",
      "execution_count": 52,
      "metadata": {
        "id": "eR4ngDi9Gapt"
      },
      "outputs": [],
      "source": [
        "# Select rows where STATUS is 'REJECT' or 'REVOKE'\n",
        "reject_revoke = df[(df['STATUS'] == 'REJECT') | (df['STATUS'] == 'REVOKED')]"
      ]
    },
    {
      "cell_type": "code",
      "execution_count": 52,
      "metadata": {
        "id": "JI9G5JiYU_lT"
      },
      "outputs": [],
      "source": []
    },
    {
      "cell_type": "code",
      "execution_count": 53,
      "metadata": {
        "id": "h8K4RzRBqeNh"
      },
      "outputs": [],
      "source": [
        "#Ada problem dengan reason revoke inconsisten, mengisi ulang nilai baru dengan kategori ini\n",
        "pd.set_option('display.max_rows', None)\n",
        "reject_revoke.loc[reject_revoke['Reason Revoke'].str.contains('INCONSISTENT', case=False, na=False), 'Reason Revoke'] = 'INCONSISTENT KTP (KTP TIDAK KONSISTEN)'\n",
        "# status[['ORDER ID','STATUS','Status Revoke','Reason Revoke','New Remarks Revoke','Keterangan']]"
      ]
    },
    {
      "cell_type": "code",
      "execution_count": 54,
      "metadata": {
        "id": "xtmAalFEvkNj"
      },
      "outputs": [],
      "source": [
        "#Ada problem dengan reason revoke inconsisten, mengisi ulang nilai baru dengan kategori ini\n",
        "pd.set_option('display.max_rows', None)\n",
        "df.loc[df['Reason Revoke'].str.contains('INCONSISTENT', case=False, na=False), 'Reason Revoke'] = 'INCONSISTENT KTP (KTP TIDAK KONSISTEN)'\n",
        "# status[['ORDER ID','STATUS','Status Revoke','Reason Revoke','New Remarks Revoke','Keterangan']]"
      ]
    },
    {
      "cell_type": "code",
      "execution_count": 55,
      "metadata": {
        "id": "Ltvb8gAEJU39"
      },
      "outputs": [],
      "source": [
        "#reject reason list\n",
        "valid_reasons_revoke = [\n",
        "    'YOUR ID CARD IS NOT EKTP/KTP',\n",
        "    'YOUR ID CARD PICTURE IS NOT CLEAR',\n",
        "    'THE ID NUMBER THAT YOU TYPED DOES NOT MATCH WITH THE ID NUMBER IN THE PICTURE',\n",
        "    'YOUR ID CARD IS FAKE OR YOUR PHOTO IN THE ID IS FAKE',\n",
        "    \"YOUR SELFIE DOESN'T MATCH WITH ID PHOTO\",  # Use double quotes around this string\n",
        "    'YOUR ID CARD IS ALREADY EXPIRED',\n",
        "    'YOUR KTP BACKGROUND COLOR DOES NOT MATCH',\n",
        "    'YOU REQUEST TO REVOKE KYC',\n",
        "    'KTP ON SCREEN (KTP ADA DI LAYAR)',\n",
        "    'KTP DAMAGE (RUSAK)',\n",
        "    'KTP PRINT OUT (KTP CETAKAN)',\n",
        "    'INCONSISTENT KTP (KTP TIDAK KONSISTEN)',\n",
        "    'TERDAPAT LEBIH DARI SATU ORANG PADA FOTO SELFIE',\n",
        "    'FETCHING'\n",
        "]\n",
        "\n",
        "valid_reasons_reject = [\n",
        "\"Reject document doesn't match the specified type (Dokumen tidak sesuai dengan jenis yang ditentukan)\",\n",
        "\"Reject document has expired (Dokumen kedaluwarsa)\",\n",
        "\"Reject document is not clear and blurred (Dokumen tidak jelas dan buram)\",\n",
        "\"Reject document is not readable (Dokumen tidak dapat dibaca)\",\n",
        "\"Reject document is overexposed (Dokumen terlalu terpapar cahaya)\",\n",
        "\"Reject document is underexposed (Dokumen terlalu gelap)\",\n",
        "\"Reject document number doesn't match the user's input DATA CLEAR (Nomor dokumen tidak sesuai dengan yang diketik user - Data Jelas)\",\n",
        "\"Reject document number doesn't match the user's input DATA UNCLEAR (Nomor dokumen tidak sesuai dengan yang diketik user - Data tidak jelas)\",\n",
        "\"Reject picture in the document is edited (Gambar dalam dokumen diedit)\",\n",
        "\"Reject selfie doesn't match the photo in the document (Selfie tidak sesuai dengan foto dalam dokumen)\",\n",
        "\"Reject Supporting document type is not acceptable (SIM, Passport, KK, Ijazah, Buku Nikah). (Jenis dokumen pendukung tidak sesuai ketentuan (SIM, Paspor, KK, Buku Nikah, Ijazah)\"\n",
        "]\n"
      ]
    },
    {
      "cell_type": "code",
      "execution_count": 56,
      "metadata": {
        "id": "qiH-EgVfKv6b"
      },
      "outputs": [],
      "source": [
        "#new remarks revoke\n",
        "remark_list = [\n",
        "    'Abnormal Background (Background foto KTP tidak seperti biasa)',\n",
        "    'Background KTP doesn’t match (Background Foto KTP Tidak Sesuai)',\n",
        "    'Biometric Score <6',\n",
        "    'Biometric Score <8',\n",
        "    'DOB Not Match With DOP Id Card (TTL Tidak Sesuai Dengan Tahun Pembuatan)',\n",
        "    'Document is Overexposure (Foto Dokumen Terlalu Terang)',\n",
        "    'Edited Id Card (KTP Editan)',\n",
        "    'Id Card Damage (KTP Rusak)',\n",
        "    'Id Card Image Blur (KTP Blur)',\n",
        "    'Inconsistent Data, > 4 Id Card (Data Inkonsisten, History lebih dari 4)',\n",
        "    'On Screen Id Card (KTP On Screen)',\n",
        "    'Photo On Id Card Taped (Foto KTP Tempelan)',\n",
        "    'Photocopy ID Card (KTP Fotokopi)',\n",
        "    'Print Id Card (KTP Print)',\n",
        "    'Selfie Doesn’t Match With Id Card (Selfie tidak sesuai)',\n",
        "    #'Support Document Inappropriate (Dokumen pendukung tidak sesuai)', #delet ini 2024\n",
        "    'Support Document Vulgar (Dokumen Pendukung Vulgar)',\n",
        "    'Support Document Invalid (Dokumen Pendukung Tidak Sesuai)',\n",
        "    'Suspicious ID Network High Risk',\n",
        "    'Suspicious Ilegal Letters High Risk',\n",
        "    'Suspicious Screen Retaken High Risk',\n",
        "    'Suspicious Velocity High Risk',\n",
        "    'The Id Number That You Typed Does Not Match With The Id Number In The Picture (NIK Typo)',\n",
        "    'Your Id Card Is Already Expired (KTP Expired)',\n",
        "    'Your Id Card Is Not Ektp/Ktp (Bukan E-KTP/KTP)',\n",
        "    'Your Id Card Picture Is Not Clear (Tertutup, Terkena Noda & Ditebalkan)'\n",
        "]"
      ]
    },
    {
      "cell_type": "code",
      "execution_count": 57,
      "metadata": {
        "id": "iRBNDgNJD3Pb"
      },
      "outputs": [],
      "source": [
        "def status_revoke(row):\n",
        "    if row['STATUS'] in ['REJECT', 'REVOKED'] and pd.isna(row['Status Revoke']) or row['Status Revoke'] not in ['REVOKED', 'REVOKED & Apply KYC']:\n",
        "      # Update 'Status Revoke' to 'REVOKED'\n",
        "      df.loc[row.name, 'Status Revoke'] = 'REVOKED'\n",
        "      if pd.isna(row['Keterangan']):\n",
        "        return 'status revoke salah'\n",
        "      else:\n",
        "        return f\"{row['Keterangan']} & status revoke salah\"\n",
        "    else:\n",
        "      return row['Keterangan']"
      ]
    },
    {
      "cell_type": "code",
      "execution_count": 58,
      "metadata": {
        "id": "TOYVvJ9TNMbT"
      },
      "outputs": [],
      "source": [
        "def reason_revoke (row):\n",
        "    if row['STATUS'].lower() in ['reject', 'revoked'] and pd.isna(row['Reason Revoke']):\n",
        "    #if row['STATUS'] in ['REJECT', 'REVOKED'] and pd.isna(row['Reason Revoke']) or row['Reason Revoke'] not in valid_reasons:\n",
        "      if pd.isna(row['Keterangan']):\n",
        "        return 'reason revoke salah'\n",
        "      else:\n",
        "        return f\"{row['Keterangan']} & reason revoke salah\"\n",
        "\n",
        "    elif row['STATUS'].lower() in ['reject'] and row['Reason Revoke'].lower() not in map(str.lower, valid_reasons_reject):\n",
        "      if pd.isna(row['Keterangan']):\n",
        "        return 'reason revoke salah'\n",
        "      else:\n",
        "        return f\"{row['Keterangan']} & reason revoke salah\"\n",
        "\n",
        "    elif row['STATUS'].lower() in ['revoke'] and row['Reason Revoke'].lower() not in map(str.lower, valid_reasons_revoke):\n",
        "      if pd.isna(row['Keterangan']):\n",
        "        return 'reason revoke salah'\n",
        "      else:\n",
        "        return f\"{row['Keterangan']} & reason revoke salah\"\n",
        "\n",
        "    else:\n",
        "        return row['Keterangan']"
      ]
    },
    {
      "cell_type": "code",
      "execution_count": 59,
      "metadata": {
        "id": "n0MSAZosNcps"
      },
      "outputs": [],
      "source": [
        "def nr_revoke (row):\n",
        "    if row['STATUS'].lower() in ['reject', 'revoked'] and pd.isna(row['New Remarks Revoke']) or row['New Remarks Revoke'].lower() not in map(str.lower, remark_list):\n",
        "    #if row['STATUS'] in ['REJECT', 'REVOKED'] and pd.isna(row['New Remarks Revoke']) or row['New Remarks Revoke'] not in remark_list:\n",
        "      if pd.isna(row['Keterangan']):\n",
        "        return 'new remarks revoke salah'\n",
        "      else:\n",
        "        return f\"{row['Keterangan']} & new remarks revoke salah\"\n",
        "\n",
        "    else:\n",
        "        return row['Keterangan']"
      ]
    },
    {
      "cell_type": "code",
      "execution_count": 60,
      "metadata": {
        "id": "kvdGT6TxLCwz"
      },
      "outputs": [],
      "source": [
        "# Apply the custom function to update \"Keterangan\" column\n",
        "reject_revoke['Keterangan'] = reject_revoke.apply(status_revoke, axis=1)\n",
        "reject_revoke['Keterangan'] = reject_revoke.apply(reason_revoke, axis=1)\n",
        "reject_revoke['Keterangan'] = reject_revoke.apply(nr_revoke, axis=1)"
      ]
    },
    {
      "cell_type": "code",
      "execution_count": null,
      "metadata": {
        "id": "lYmDMgXGmQhk"
      },
      "outputs": [],
      "source": [
        "x = reject_revoke[reject_revoke['Keterangan'].str.contains('Revoke', case=False, na=False)]\n",
        "x[['ORDER ID','NO. HP','STATUS','Status Revoke','Reason Revoke','New Remarks Revoke','Keterangan']]"
      ]
    },
    {
      "cell_type": "markdown",
      "metadata": {
        "id": "Bk63iunyhV9s"
      },
      "source": [
        "#Finishing Data"
      ]
    },
    {
      "cell_type": "code",
      "execution_count": 62,
      "metadata": {
        "id": "U7Vzuqzq0KPB"
      },
      "outputs": [],
      "source": [
        "# Remove values in 'Keterangan' column where 'STATUS' is \"REJECT BY SYSTEM\"\n",
        "df.loc[df['STATUS'] == 'REJECT BY SYSTEM', 'Keterangan'] = np.nan\n",
        "df.loc[df['Reason'] == 'REJECT BY SYSTEM', 'Keterangan'] = np.nan"
      ]
    },
    {
      "cell_type": "code",
      "execution_count": 63,
      "metadata": {
        "id": "ug7pVIvvhYk8"
      },
      "outputs": [],
      "source": [
        "# Combine the values from both dataframes into a single column\n",
        "df['Keterangan'] = df['Keterangan'].combine_first(reject_revoke['Keterangan'])\n",
        "ori_df['Keterangan'] = ori_df['Keterangan'].combine_first(df['Keterangan'])\n",
        "ori_df['STATUS'] = ori_df['STATUS'].combine_first(df['STATUS'])\n",
        "ori_df['ID AGENT'] = ori_df['ID AGENT'].combine_first(df['ID AGENT'])\n",
        "ori_df['NAMA AGENT'] = ori_df['NAMA AGENT'].combine_first(df['NAMA AGENT'])\n"
      ]
    },
    {
      "cell_type": "code",
      "source": [
        "# # Perform left join to bring updated \"NO. HP\" values\n",
        "# temp_df = ori_df.merge(df[['ORDER ID', 'NO. HP']], on='ORDER ID', how='left', suffixes=('', '_updated'))\n",
        "\n",
        "# # Update \"NO. HP\" in ori_df with the values from df\n",
        "# ori_df['NO. HP'] = temp_df['NO. HP_updated'].combine_first(temp_df['NO. HP'])"
      ],
      "metadata": {
        "id": "Y113D_QEgId5"
      },
      "execution_count": 64,
      "outputs": []
    },
    {
      "cell_type": "code",
      "source": [
        "ori_df.tail()"
      ],
      "metadata": {
        "id": "qVXSi6SZgOzw"
      },
      "execution_count": null,
      "outputs": []
    },
    {
      "cell_type": "code",
      "execution_count": 66,
      "metadata": {
        "id": "VpmdBl4VR7II"
      },
      "outputs": [],
      "source": [
        "# Get a list of columns containing 'Unnamed'\n",
        "unnamed_columns = [col for col in df.columns if 'Unnamed' in col]\n",
        "\n",
        "# Drop the columns with 'Unnamed' in their names\n",
        "df = df.drop(columns=unnamed_columns)\n",
        "ori_df = ori_df.drop(columns=unnamed_columns)\n"
      ]
    },
    {
      "cell_type": "markdown",
      "metadata": {
        "id": "Tq4ugty2nwLL"
      },
      "source": [
        "## Backup Revoke"
      ]
    },
    {
      "cell_type": "code",
      "execution_count": null,
      "metadata": {
        "id": "QKZXzUqwK5VJ"
      },
      "outputs": [],
      "source": [
        "# Get user input for WorkingDate\n",
        "user_input = input(\"Enter WorkingDate (yyyy-mm-dd) : \")\n",
        "\n",
        "# Filter DataFrame based on conditions\n",
        "Revoke = df[(df['STATUS'].isin(['REVOKED', 'REJECT'])) & (df['WorkingDate'] == user_input)]\n",
        "\n",
        "# Sort the filtered DataFrame by 'Reason Revoke' ascending\n",
        "sorted_df = Revoke.sort_values(by='Reason', ascending=True)\n",
        "\n",
        "# Format the 'Modified Date' column to 'dd-mm-yyyy hh:mm:ss'\n",
        "sorted_df['Modified Date'] = sorted_df['Modified Date'].dt.strftime('%d-%m-%Y %H:%M:%S')\n",
        "sorted_df['WorkingDate'] = sorted_df['WorkingDate'].dt.strftime('%d-%m-%Y')\n",
        "\n",
        "# First, convert the 'Face Score' column to numeric (float)\n",
        "sorted_df['Face Score'] = pd.to_numeric(sorted_df['Face Score'], errors='coerce')\n",
        "\n",
        "# Now, convert to integer\n",
        "sorted_df['Face Score'] = sorted_df['Face Score'].astype('Int64')\n",
        "#sorted_df['Face Score'] = sorted_df['Face Score'].astype('str')\n",
        "\n",
        "# Replace NaN or NaT with blank (empty string)\n",
        "#sorted_df.replace({np.nan: '', pd.NaT: ''}, inplace=True)\n",
        "\n",
        "# Sort the filtered DataFrame by 'Reason Revoke' ascending\n",
        "sorted_df = Revoke.sort_values(by='Reason', ascending=True)\n",
        "\n",
        "sorted_df.head()"
      ]
    },
    {
      "cell_type": "code",
      "source": [
        "sorted_df['D'] = np.nan\n",
        "new_order = ['ORDER ID', 'NO. HP', 'Doc Type','STATUS','D','D','ID AGENT','NAMA AGENT','D','Support DOC','Face Score','OCR','Biometric Score','Modified Date','WorkingDate','KTP Defect >1','NAMA AGENT','WorkingDate','Status Revoke','Reason Revoke','Reason','New Remarks Revoke']\n",
        "sorted_dfx = sorted_df[new_order]"
      ],
      "metadata": {
        "id": "I2Jjv3DMeQBR"
      },
      "execution_count": 68,
      "outputs": []
    },
    {
      "cell_type": "code",
      "execution_count": 69,
      "metadata": {
        "id": "3M3Uh7BzPJWV",
        "colab": {
          "base_uri": "https://localhost:8080/",
          "height": 17
        },
        "outputId": "2ab92fe4-a8ee-428b-ad52-d5cdb3b8bd9e"
      },
      "outputs": [
        {
          "output_type": "display_data",
          "data": {
            "text/plain": [
              "<IPython.core.display.Javascript object>"
            ],
            "application/javascript": [
              "\n",
              "    async function download(id, filename, size) {\n",
              "      if (!google.colab.kernel.accessAllowed) {\n",
              "        return;\n",
              "      }\n",
              "      const div = document.createElement('div');\n",
              "      const label = document.createElement('label');\n",
              "      label.textContent = `Downloading \"${filename}\": `;\n",
              "      div.appendChild(label);\n",
              "      const progress = document.createElement('progress');\n",
              "      progress.max = size;\n",
              "      div.appendChild(progress);\n",
              "      document.body.appendChild(div);\n",
              "\n",
              "      const buffers = [];\n",
              "      let downloaded = 0;\n",
              "\n",
              "      const channel = await google.colab.kernel.comms.open(id);\n",
              "      // Send a message to notify the kernel that we're ready.\n",
              "      channel.send({})\n",
              "\n",
              "      for await (const message of channel.messages) {\n",
              "        // Send a message to notify the kernel that we're ready.\n",
              "        channel.send({})\n",
              "        if (message.buffers) {\n",
              "          for (const buffer of message.buffers) {\n",
              "            buffers.push(buffer);\n",
              "            downloaded += buffer.byteLength;\n",
              "            progress.value = downloaded;\n",
              "          }\n",
              "        }\n",
              "      }\n",
              "      const blob = new Blob(buffers, {type: 'application/binary'});\n",
              "      const a = document.createElement('a');\n",
              "      a.href = window.URL.createObjectURL(blob);\n",
              "      a.download = filename;\n",
              "      div.appendChild(a);\n",
              "      a.click();\n",
              "      div.remove();\n",
              "    }\n",
              "  "
            ]
          },
          "metadata": {}
        },
        {
          "output_type": "display_data",
          "data": {
            "text/plain": [
              "<IPython.core.display.Javascript object>"
            ],
            "application/javascript": [
              "download(\"download_5b6ad2e0-d062-4f5f-b68f-0868202a65bb\", \"Revoke 24 August.xlsx\", 775329)"
            ]
          },
          "metadata": {}
        }
      ],
      "source": [
        "# from google.colab import files\n",
        "# # Save DataFrame to an Excel file\n",
        "sorted_dfx.to_excel('Revoke 24 August.xlsx', index=False)\n",
        "# # Download the file\n",
        "files.download('Revoke 24 August.xlsx')\n"
      ]
    },
    {
      "cell_type": "markdown",
      "metadata": {
        "id": "JkGWc_X7u655"
      },
      "source": [
        "##Monitoring Pengerjaan Agent"
      ]
    },
    {
      "cell_type": "code",
      "execution_count": 70,
      "metadata": {
        "id": "f0sG5JYBAXX0"
      },
      "outputs": [],
      "source": [
        "# Filter rows based on conditions and set 'Keterangan' to null\n",
        "df.loc[(df['STATUS'].isnull()) & (df['Modified Date'].isnull()) & (df['WorkingDate'] == end_date), 'Keterangan'] = None"
      ]
    },
    {
      "cell_type": "code",
      "execution_count": 71,
      "metadata": {
        "id": "eVZy6AlqKpTl"
      },
      "outputs": [],
      "source": [
        "# Set display option to show all rows\n",
        "pd.set_option('display.max_rows', None)"
      ]
    },
    {
      "cell_type": "code",
      "execution_count": null,
      "metadata": {
        "id": "8bczD_iIvYlK"
      },
      "outputs": [],
      "source": [
        "filtered_df = df[\n",
        "    # (df['STATUS'].notnull()) &\n",
        "    # (df['Reason'].notnull()) &\n",
        "    # (df['Modified Date'].notnull()) &\n",
        "    (df['Keterangan'].notnull() & ~df['Keterangan'].str.contains('finding', case=False, na=False))\n",
        "]\n",
        "\n",
        "# Format the 'Modified Date' column to 'dd-mm-yyyy hh:mm:ss'\n",
        "filtered_df['Modified Date'] = filtered_df['Modified Date'].dt.strftime('%d-%m-%Y %H:%M:%S')\n",
        "filtered_df['WorkingDate'] = filtered_df['WorkingDate'].dt.strftime('%d-%m-%Y')\n",
        "\n",
        "# First, convert the 'Face Score' column to numeric (float)\n",
        "filtered_df['Face Score'] = pd.to_numeric(filtered_df['Face Score'], errors='coerce')\n",
        "\n",
        "# Now, convert to integer\n",
        "filtered_df['Face Score'] = filtered_df['Face Score'].astype('Int64')\n",
        "filtered_df['Face Score'] = filtered_df['Face Score'].astype('str')\n",
        "\n",
        "# Replace NaN or NaT with blank (empty string)\n",
        "filtered_df.replace({np.nan: '', pd.NaT: ''}, inplace=True)\n",
        "\n",
        "# Drop duplicates in the 'ORDER ID' column\n",
        "filtered_df_no_duplicates = filtered_df.drop_duplicates(subset='ORDER ID')\n",
        "\n",
        "# Remove values in 'Keterangan' column where 'STATUS' is \"REJECT BY SYSTEM\"\n",
        "filtered_df_no_duplicates.loc[filtered_df_no_duplicates['STATUS'] == 'REJECT BY SYSTEM', 'Keterangan'] = ''\n",
        "filtered_df_no_duplicates.loc[filtered_df_no_duplicates['Reason'] == 'REJECT BY SYSTEM', 'Keterangan'] = ''\n",
        "\n",
        "filtered_df_no_duplicates.head(10)\n",
        "\n"
      ]
    },
    {
      "cell_type": "code",
      "execution_count": 73,
      "metadata": {
        "id": "XTiRMRUXKs88",
        "colab": {
          "base_uri": "https://localhost:8080/",
          "height": 17
        },
        "outputId": "77da18c0-6ebc-4e1d-8a9e-9e4d25e08bb3"
      },
      "outputs": [
        {
          "output_type": "display_data",
          "data": {
            "text/plain": [
              "<IPython.core.display.Javascript object>"
            ],
            "application/javascript": [
              "\n",
              "    async function download(id, filename, size) {\n",
              "      if (!google.colab.kernel.accessAllowed) {\n",
              "        return;\n",
              "      }\n",
              "      const div = document.createElement('div');\n",
              "      const label = document.createElement('label');\n",
              "      label.textContent = `Downloading \"${filename}\": `;\n",
              "      div.appendChild(label);\n",
              "      const progress = document.createElement('progress');\n",
              "      progress.max = size;\n",
              "      div.appendChild(progress);\n",
              "      document.body.appendChild(div);\n",
              "\n",
              "      const buffers = [];\n",
              "      let downloaded = 0;\n",
              "\n",
              "      const channel = await google.colab.kernel.comms.open(id);\n",
              "      // Send a message to notify the kernel that we're ready.\n",
              "      channel.send({})\n",
              "\n",
              "      for await (const message of channel.messages) {\n",
              "        // Send a message to notify the kernel that we're ready.\n",
              "        channel.send({})\n",
              "        if (message.buffers) {\n",
              "          for (const buffer of message.buffers) {\n",
              "            buffers.push(buffer);\n",
              "            downloaded += buffer.byteLength;\n",
              "            progress.value = downloaded;\n",
              "          }\n",
              "        }\n",
              "      }\n",
              "      const blob = new Blob(buffers, {type: 'application/binary'});\n",
              "      const a = document.createElement('a');\n",
              "      a.href = window.URL.createObjectURL(blob);\n",
              "      a.download = filename;\n",
              "      div.appendChild(a);\n",
              "      a.click();\n",
              "      div.remove();\n",
              "    }\n",
              "  "
            ]
          },
          "metadata": {}
        },
        {
          "output_type": "display_data",
          "data": {
            "text/plain": [
              "<IPython.core.display.Javascript object>"
            ],
            "application/javascript": [
              "download(\"download_af47a23e-d45c-459d-bd37-c03587d5f64c\", \"monitoring.xlsx\", 53202)"
            ]
          },
          "metadata": {}
        }
      ],
      "source": [
        "filtered_df_no_duplicates.to_excel('monitoring.xlsx', index=False)\n",
        "# # # Download the file\n",
        "files.download('monitoring.xlsx')"
      ]
    },
    {
      "cell_type": "markdown",
      "metadata": {
        "id": "20r_L-WUv6Fy"
      },
      "source": [
        "##Finding"
      ]
    },
    {
      "cell_type": "code",
      "execution_count": 74,
      "metadata": {
        "id": "UIKW-x41v9UB",
        "colab": {
          "base_uri": "https://localhost:8080/",
          "height": 198
        },
        "outputId": "44cc3fc5-47e5-482b-bafe-bf4d1aa41519"
      },
      "outputs": [
        {
          "output_type": "execute_result",
          "data": {
            "text/plain": [
              "                                        ORDER ID         NO. HP Doc Type  \\\n",
              "251717  20240822111215800000DANAW3ID474704393250  6283139575121      KTP   \n",
              "\n",
              "        STATUS                       Reason New Remarks  \\\n",
              "251717  REJECT  BACKGROUND TIDAK SESUAI TTL               \n",
              "\n",
              "                         ID AGENT              NAMA AGENT       Modified Date  \\\n",
              "251717  khusnulridho@radikari.com  Khusnul Ridho Moh Arif 2024-08-24 18:54:16   \n",
              "\n",
              "       Support DOC Face Score     OCR Biometric Score WorkingDate  \\\n",
              "251717          KK         71  Sesuai               0  2024-08-24   \n",
              "\n",
              "       KTP Defect >1 Status Revoke Reason Revoke New Remarks Revoke  \\\n",
              "251717                     REVOKED                                    \n",
              "\n",
              "       Remarks Zolos Incomplete            Keterangan  \n",
              "251717                           finding salah status  "
            ],
            "text/html": [
              "\n",
              "  <div id=\"df-fed9e64a-ceab-421f-bb2f-bbb3ae7e0bd3\" class=\"colab-df-container\">\n",
              "    <div>\n",
              "<style scoped>\n",
              "    .dataframe tbody tr th:only-of-type {\n",
              "        vertical-align: middle;\n",
              "    }\n",
              "\n",
              "    .dataframe tbody tr th {\n",
              "        vertical-align: top;\n",
              "    }\n",
              "\n",
              "    .dataframe thead th {\n",
              "        text-align: right;\n",
              "    }\n",
              "</style>\n",
              "<table border=\"1\" class=\"dataframe\">\n",
              "  <thead>\n",
              "    <tr style=\"text-align: right;\">\n",
              "      <th></th>\n",
              "      <th>ORDER ID</th>\n",
              "      <th>NO. HP</th>\n",
              "      <th>Doc Type</th>\n",
              "      <th>STATUS</th>\n",
              "      <th>Reason</th>\n",
              "      <th>New Remarks</th>\n",
              "      <th>ID AGENT</th>\n",
              "      <th>NAMA AGENT</th>\n",
              "      <th>Modified Date</th>\n",
              "      <th>Support DOC</th>\n",
              "      <th>Face Score</th>\n",
              "      <th>OCR</th>\n",
              "      <th>Biometric Score</th>\n",
              "      <th>WorkingDate</th>\n",
              "      <th>KTP Defect &gt;1</th>\n",
              "      <th>Status Revoke</th>\n",
              "      <th>Reason Revoke</th>\n",
              "      <th>New Remarks Revoke</th>\n",
              "      <th>Remarks Zolos Incomplete</th>\n",
              "      <th>Keterangan</th>\n",
              "    </tr>\n",
              "  </thead>\n",
              "  <tbody>\n",
              "    <tr>\n",
              "      <th>251717</th>\n",
              "      <td>20240822111215800000DANAW3ID474704393250</td>\n",
              "      <td>6283139575121</td>\n",
              "      <td>KTP</td>\n",
              "      <td>REJECT</td>\n",
              "      <td>BACKGROUND TIDAK SESUAI TTL</td>\n",
              "      <td></td>\n",
              "      <td>khusnulridho@radikari.com</td>\n",
              "      <td>Khusnul Ridho Moh Arif</td>\n",
              "      <td>2024-08-24 18:54:16</td>\n",
              "      <td>KK</td>\n",
              "      <td>71</td>\n",
              "      <td>Sesuai</td>\n",
              "      <td>0</td>\n",
              "      <td>2024-08-24</td>\n",
              "      <td></td>\n",
              "      <td>REVOKED</td>\n",
              "      <td></td>\n",
              "      <td></td>\n",
              "      <td></td>\n",
              "      <td>finding salah status</td>\n",
              "    </tr>\n",
              "  </tbody>\n",
              "</table>\n",
              "</div>\n",
              "    <div class=\"colab-df-buttons\">\n",
              "\n",
              "  <div class=\"colab-df-container\">\n",
              "    <button class=\"colab-df-convert\" onclick=\"convertToInteractive('df-fed9e64a-ceab-421f-bb2f-bbb3ae7e0bd3')\"\n",
              "            title=\"Convert this dataframe to an interactive table.\"\n",
              "            style=\"display:none;\">\n",
              "\n",
              "  <svg xmlns=\"http://www.w3.org/2000/svg\" height=\"24px\" viewBox=\"0 -960 960 960\">\n",
              "    <path d=\"M120-120v-720h720v720H120Zm60-500h600v-160H180v160Zm220 220h160v-160H400v160Zm0 220h160v-160H400v160ZM180-400h160v-160H180v160Zm440 0h160v-160H620v160ZM180-180h160v-160H180v160Zm440 0h160v-160H620v160Z\"/>\n",
              "  </svg>\n",
              "    </button>\n",
              "\n",
              "  <style>\n",
              "    .colab-df-container {\n",
              "      display:flex;\n",
              "      gap: 12px;\n",
              "    }\n",
              "\n",
              "    .colab-df-convert {\n",
              "      background-color: #E8F0FE;\n",
              "      border: none;\n",
              "      border-radius: 50%;\n",
              "      cursor: pointer;\n",
              "      display: none;\n",
              "      fill: #1967D2;\n",
              "      height: 32px;\n",
              "      padding: 0 0 0 0;\n",
              "      width: 32px;\n",
              "    }\n",
              "\n",
              "    .colab-df-convert:hover {\n",
              "      background-color: #E2EBFA;\n",
              "      box-shadow: 0px 1px 2px rgba(60, 64, 67, 0.3), 0px 1px 3px 1px rgba(60, 64, 67, 0.15);\n",
              "      fill: #174EA6;\n",
              "    }\n",
              "\n",
              "    .colab-df-buttons div {\n",
              "      margin-bottom: 4px;\n",
              "    }\n",
              "\n",
              "    [theme=dark] .colab-df-convert {\n",
              "      background-color: #3B4455;\n",
              "      fill: #D2E3FC;\n",
              "    }\n",
              "\n",
              "    [theme=dark] .colab-df-convert:hover {\n",
              "      background-color: #434B5C;\n",
              "      box-shadow: 0px 1px 3px 1px rgba(0, 0, 0, 0.15);\n",
              "      filter: drop-shadow(0px 1px 2px rgba(0, 0, 0, 0.3));\n",
              "      fill: #FFFFFF;\n",
              "    }\n",
              "  </style>\n",
              "\n",
              "    <script>\n",
              "      const buttonEl =\n",
              "        document.querySelector('#df-fed9e64a-ceab-421f-bb2f-bbb3ae7e0bd3 button.colab-df-convert');\n",
              "      buttonEl.style.display =\n",
              "        google.colab.kernel.accessAllowed ? 'block' : 'none';\n",
              "\n",
              "      async function convertToInteractive(key) {\n",
              "        const element = document.querySelector('#df-fed9e64a-ceab-421f-bb2f-bbb3ae7e0bd3');\n",
              "        const dataTable =\n",
              "          await google.colab.kernel.invokeFunction('convertToInteractive',\n",
              "                                                    [key], {});\n",
              "        if (!dataTable) return;\n",
              "\n",
              "        const docLinkHtml = 'Like what you see? Visit the ' +\n",
              "          '<a target=\"_blank\" href=https://colab.research.google.com/notebooks/data_table.ipynb>data table notebook</a>'\n",
              "          + ' to learn more about interactive tables.';\n",
              "        element.innerHTML = '';\n",
              "        dataTable['output_type'] = 'display_data';\n",
              "        await google.colab.output.renderOutput(dataTable, element);\n",
              "        const docLink = document.createElement('div');\n",
              "        docLink.innerHTML = docLinkHtml;\n",
              "        element.appendChild(docLink);\n",
              "      }\n",
              "    </script>\n",
              "  </div>\n",
              "\n",
              "\n",
              "  <div id=\"id_346cbdee-1f6a-4a84-9e34-28791e4f0629\">\n",
              "    <style>\n",
              "      .colab-df-generate {\n",
              "        background-color: #E8F0FE;\n",
              "        border: none;\n",
              "        border-radius: 50%;\n",
              "        cursor: pointer;\n",
              "        display: none;\n",
              "        fill: #1967D2;\n",
              "        height: 32px;\n",
              "        padding: 0 0 0 0;\n",
              "        width: 32px;\n",
              "      }\n",
              "\n",
              "      .colab-df-generate:hover {\n",
              "        background-color: #E2EBFA;\n",
              "        box-shadow: 0px 1px 2px rgba(60, 64, 67, 0.3), 0px 1px 3px 1px rgba(60, 64, 67, 0.15);\n",
              "        fill: #174EA6;\n",
              "      }\n",
              "\n",
              "      [theme=dark] .colab-df-generate {\n",
              "        background-color: #3B4455;\n",
              "        fill: #D2E3FC;\n",
              "      }\n",
              "\n",
              "      [theme=dark] .colab-df-generate:hover {\n",
              "        background-color: #434B5C;\n",
              "        box-shadow: 0px 1px 3px 1px rgba(0, 0, 0, 0.15);\n",
              "        filter: drop-shadow(0px 1px 2px rgba(0, 0, 0, 0.3));\n",
              "        fill: #FFFFFF;\n",
              "      }\n",
              "    </style>\n",
              "    <button class=\"colab-df-generate\" onclick=\"generateWithVariable('finding')\"\n",
              "            title=\"Generate code using this dataframe.\"\n",
              "            style=\"display:none;\">\n",
              "\n",
              "  <svg xmlns=\"http://www.w3.org/2000/svg\" height=\"24px\"viewBox=\"0 0 24 24\"\n",
              "       width=\"24px\">\n",
              "    <path d=\"M7,19H8.4L18.45,9,17,7.55,7,17.6ZM5,21V16.75L18.45,3.32a2,2,0,0,1,2.83,0l1.4,1.43a1.91,1.91,0,0,1,.58,1.4,1.91,1.91,0,0,1-.58,1.4L9.25,21ZM18.45,9,17,7.55Zm-12,3A5.31,5.31,0,0,0,4.9,8.1,5.31,5.31,0,0,0,1,6.5,5.31,5.31,0,0,0,4.9,4.9,5.31,5.31,0,0,0,6.5,1,5.31,5.31,0,0,0,8.1,4.9,5.31,5.31,0,0,0,12,6.5,5.46,5.46,0,0,0,6.5,12Z\"/>\n",
              "  </svg>\n",
              "    </button>\n",
              "    <script>\n",
              "      (() => {\n",
              "      const buttonEl =\n",
              "        document.querySelector('#id_346cbdee-1f6a-4a84-9e34-28791e4f0629 button.colab-df-generate');\n",
              "      buttonEl.style.display =\n",
              "        google.colab.kernel.accessAllowed ? 'block' : 'none';\n",
              "\n",
              "      buttonEl.onclick = () => {\n",
              "        google.colab.notebook.generateWithVariable('finding');\n",
              "      }\n",
              "      })();\n",
              "    </script>\n",
              "  </div>\n",
              "\n",
              "    </div>\n",
              "  </div>\n"
            ],
            "application/vnd.google.colaboratory.intrinsic+json": {
              "type": "dataframe",
              "variable_name": "finding",
              "repr_error": "0"
            },
            "application/vnd.google.colaboratory.module+javascript": "\n      import \"https://ssl.gstatic.com/colaboratory/data_table/f565ec32c7e6656f/data_table.js\";\n\n      const table = window.createDataTable({\n        data: [[{\n            'v': 251717,\n            'f': \"251717\",\n        },\n\"20240822111215800000DANAW3ID474704393250\",\n\"6283139575121\",\n\"KTP\",\n\"REJECT\",\n\"BACKGROUND TIDAK SESUAI TTL\",\n\"\",\n\"khusnulridho@radikari.com\",\n\"Khusnul Ridho Moh Arif\",\n\"2024-08-24 18:54:16\",\n\"KK\",\n\"71\",\n\"Sesuai\",\n\"0\",\n\"2024-08-24 00:00:00\",\n\"\",\n\"REVOKED\",\n\"\",\n\"\",\n\"\",\n\"finding salah status\"]],\n        columns: [[\"number\", \"index\"], [\"string\", \"ORDER ID\"], [\"string\", \"NO. HP\"], [\"string\", \"Doc Type\"], [\"string\", \"STATUS\"], [\"string\", \"Reason\"], [\"string\", \"New Remarks\"], [\"string\", \"ID AGENT\"], [\"string\", \"NAMA AGENT\"], [\"string\", \"Modified Date\"], [\"string\", \"Support DOC\"], [\"string\", \"Face Score\"], [\"string\", \"OCR\"], [\"string\", \"Biometric Score\"], [\"string\", \"WorkingDate\"], [\"string\", \"KTP Defect >1\"], [\"string\", \"Status Revoke\"], [\"string\", \"Reason Revoke\"], [\"string\", \"New Remarks Revoke\"], [\"string\", \"Remarks Zolos Incomplete\"], [\"string\", \"Keterangan\"]],\n        columnOptions: [{\"width\": \"1px\", \"className\": \"index_column\"}],\n        rowsPerPage: 25,\n        helpUrl: \"https://colab.research.google.com/notebooks/data_table.ipynb\",\n        suppressOutputScrolling: true,\n        minimumWidth: undefined,\n      });\n\n      function appendQuickchartButton(parentElement) {\n        let quickchartButtonContainerElement = document.createElement('div');\n        quickchartButtonContainerElement.innerHTML = `\n<div id=\"df-5dcbca28-bfab-476c-b30d-fea8895c1554\">\n  <button class=\"colab-df-quickchart\" onclick=\"quickchart('df-5dcbca28-bfab-476c-b30d-fea8895c1554')\"\n            title=\"Suggest charts\"\n            style=\"display:none;\">\n    \n<svg xmlns=\"http://www.w3.org/2000/svg\" height=\"24px\"viewBox=\"0 0 24 24\"\n     width=\"24px\">\n    <g>\n        <path d=\"M19 3H5c-1.1 0-2 .9-2 2v14c0 1.1.9 2 2 2h14c1.1 0 2-.9 2-2V5c0-1.1-.9-2-2-2zM9 17H7v-7h2v7zm4 0h-2V7h2v10zm4 0h-2v-4h2v4z\"/>\n    </g>\n</svg>\n  </button>\n  \n<style>\n  .colab-df-quickchart {\n      --bg-color: #E8F0FE;\n      --fill-color: #1967D2;\n      --hover-bg-color: #E2EBFA;\n      --hover-fill-color: #174EA6;\n      --disabled-fill-color: #AAA;\n      --disabled-bg-color: #DDD;\n  }\n\n  [theme=dark] .colab-df-quickchart {\n      --bg-color: #3B4455;\n      --fill-color: #D2E3FC;\n      --hover-bg-color: #434B5C;\n      --hover-fill-color: #FFFFFF;\n      --disabled-bg-color: #3B4455;\n      --disabled-fill-color: #666;\n  }\n\n  .colab-df-quickchart {\n    background-color: var(--bg-color);\n    border: none;\n    border-radius: 50%;\n    cursor: pointer;\n    display: none;\n    fill: var(--fill-color);\n    height: 32px;\n    padding: 0;\n    width: 32px;\n  }\n\n  .colab-df-quickchart:hover {\n    background-color: var(--hover-bg-color);\n    box-shadow: 0 1px 2px rgba(60, 64, 67, 0.3), 0 1px 3px 1px rgba(60, 64, 67, 0.15);\n    fill: var(--button-hover-fill-color);\n  }\n\n  .colab-df-quickchart-complete:disabled,\n  .colab-df-quickchart-complete:disabled:hover {\n    background-color: var(--disabled-bg-color);\n    fill: var(--disabled-fill-color);\n    box-shadow: none;\n  }\n\n  .colab-df-spinner {\n    border: 2px solid var(--fill-color);\n    border-color: transparent;\n    border-bottom-color: var(--fill-color);\n    animation:\n      spin 1s steps(1) infinite;\n  }\n\n  @keyframes spin {\n    0% {\n      border-color: transparent;\n      border-bottom-color: var(--fill-color);\n      border-left-color: var(--fill-color);\n    }\n    20% {\n      border-color: transparent;\n      border-left-color: var(--fill-color);\n      border-top-color: var(--fill-color);\n    }\n    30% {\n      border-color: transparent;\n      border-left-color: var(--fill-color);\n      border-top-color: var(--fill-color);\n      border-right-color: var(--fill-color);\n    }\n    40% {\n      border-color: transparent;\n      border-right-color: var(--fill-color);\n      border-top-color: var(--fill-color);\n    }\n    60% {\n      border-color: transparent;\n      border-right-color: var(--fill-color);\n    }\n    80% {\n      border-color: transparent;\n      border-right-color: var(--fill-color);\n      border-bottom-color: var(--fill-color);\n    }\n    90% {\n      border-color: transparent;\n      border-bottom-color: var(--fill-color);\n    }\n  }\n</style>\n\n  <script>\n    async function quickchart(key) {\n      const quickchartButtonEl =\n        document.querySelector('#' + key + ' button');\n      quickchartButtonEl.disabled = true;  // To prevent multiple clicks.\n      quickchartButtonEl.classList.add('colab-df-spinner');\n      try {\n        const charts = await google.colab.kernel.invokeFunction(\n            'suggestCharts', [key], {});\n      } catch (error) {\n        console.error('Error during call to suggestCharts:', error);\n      }\n      quickchartButtonEl.classList.remove('colab-df-spinner');\n      quickchartButtonEl.classList.add('colab-df-quickchart-complete');\n    }\n    (() => {\n      let quickchartButtonEl =\n        document.querySelector('#df-5dcbca28-bfab-476c-b30d-fea8895c1554 button');\n      quickchartButtonEl.style.display =\n        google.colab.kernel.accessAllowed ? 'block' : 'none';\n    })();\n  </script>\n</div>`;\n        parentElement.appendChild(quickchartButtonContainerElement);\n      }\n\n      appendQuickchartButton(table);\n    "
          },
          "metadata": {},
          "execution_count": 74
        }
      ],
      "source": [
        "# Apply filters\n",
        "finding = df[df['Keterangan'].str.contains('finding', case=False, na=False)]\n",
        "\n",
        "# First, convert the 'Face Score' column to numeric (float)\n",
        "finding['Face Score'] = pd.to_numeric(finding['Face Score'], errors='coerce')\n",
        "\n",
        "# Now, convert to integer\n",
        "finding['Face Score'] = finding['Face Score'].astype('Int64')\n",
        "finding['Face Score'] = finding['Face Score'].astype('str')\n",
        "\n",
        "finding.replace({np.nan: '', pd.NaT: ''}, inplace=True)\n",
        "finding"
      ]
    },
    {
      "cell_type": "code",
      "execution_count": 75,
      "metadata": {
        "id": "zFiD7cSmuCZv",
        "colab": {
          "base_uri": "https://localhost:8080/",
          "height": 17
        },
        "outputId": "2713c883-1a9c-4199-b418-79ba73cb3a1d"
      },
      "outputs": [
        {
          "output_type": "display_data",
          "data": {
            "text/plain": [
              "<IPython.core.display.Javascript object>"
            ],
            "application/javascript": [
              "\n",
              "    async function download(id, filename, size) {\n",
              "      if (!google.colab.kernel.accessAllowed) {\n",
              "        return;\n",
              "      }\n",
              "      const div = document.createElement('div');\n",
              "      const label = document.createElement('label');\n",
              "      label.textContent = `Downloading \"${filename}\": `;\n",
              "      div.appendChild(label);\n",
              "      const progress = document.createElement('progress');\n",
              "      progress.max = size;\n",
              "      div.appendChild(progress);\n",
              "      document.body.appendChild(div);\n",
              "\n",
              "      const buffers = [];\n",
              "      let downloaded = 0;\n",
              "\n",
              "      const channel = await google.colab.kernel.comms.open(id);\n",
              "      // Send a message to notify the kernel that we're ready.\n",
              "      channel.send({})\n",
              "\n",
              "      for await (const message of channel.messages) {\n",
              "        // Send a message to notify the kernel that we're ready.\n",
              "        channel.send({})\n",
              "        if (message.buffers) {\n",
              "          for (const buffer of message.buffers) {\n",
              "            buffers.push(buffer);\n",
              "            downloaded += buffer.byteLength;\n",
              "            progress.value = downloaded;\n",
              "          }\n",
              "        }\n",
              "      }\n",
              "      const blob = new Blob(buffers, {type: 'application/binary'});\n",
              "      const a = document.createElement('a');\n",
              "      a.href = window.URL.createObjectURL(blob);\n",
              "      a.download = filename;\n",
              "      div.appendChild(a);\n",
              "      a.click();\n",
              "      div.remove();\n",
              "    }\n",
              "  "
            ]
          },
          "metadata": {}
        },
        {
          "output_type": "display_data",
          "data": {
            "text/plain": [
              "<IPython.core.display.Javascript object>"
            ],
            "application/javascript": [
              "download(\"download_0895f0f2-63f3-49c5-a077-0100307153c9\", \"finding.xlsx\", 5450)"
            ]
          },
          "metadata": {}
        }
      ],
      "source": [
        "finding.to_excel('finding.xlsx', index=False)\n",
        "# # Download the file\n",
        "files.download('finding.xlsx')"
      ]
    },
    {
      "cell_type": "markdown",
      "metadata": {
        "id": "0tsa2fCpsScC"
      },
      "source": [
        "## Data Process"
      ]
    },
    {
      "cell_type": "code",
      "execution_count": 76,
      "metadata": {
        "id": "V8P54DZ9rgoS",
        "colab": {
          "base_uri": "https://localhost:8080/",
          "height": 666
        },
        "outputId": "7f51a7e0-ba4a-4300-af2a-8de8c30d2bf5"
      },
      "outputs": [
        {
          "output_type": "execute_result",
          "data": {
            "text/plain": [
              "   WorkingDate  Count\n",
              "0   2024-08-01  44910\n",
              "1   2024-08-02  50112\n",
              "2   2024-08-03  46188\n",
              "3   2024-08-04  47655\n",
              "4   2024-08-05  47143\n",
              "5   2024-08-06  44536\n",
              "6   2024-08-07  49242\n",
              "7   2024-08-08  51493\n",
              "8   2024-08-09  47185\n",
              "9   2024-08-10  45431\n",
              "10  2024-08-11  46756\n",
              "11  2024-08-12  45256\n",
              "12  2024-08-13  41743\n",
              "13  2024-08-14  43136\n",
              "14  2024-08-15  43302\n",
              "15  2024-08-16  43802\n",
              "16  2024-08-17  40566\n",
              "17  2024-08-18  44173\n",
              "18  2024-08-19  40891\n",
              "19  2024-08-20  44291\n",
              "20  2024-08-21  39750\n",
              "21  2024-08-22  45263\n",
              "22  2024-08-23  42453\n",
              "23  2024-08-24  44337\n",
              "24  2024-08-25   7765"
            ],
            "text/html": [
              "\n",
              "  <div id=\"df-3f1a2854-d095-4f88-93d1-0ba0b7c0b522\" class=\"colab-df-container\">\n",
              "    <div>\n",
              "<style scoped>\n",
              "    .dataframe tbody tr th:only-of-type {\n",
              "        vertical-align: middle;\n",
              "    }\n",
              "\n",
              "    .dataframe tbody tr th {\n",
              "        vertical-align: top;\n",
              "    }\n",
              "\n",
              "    .dataframe thead th {\n",
              "        text-align: right;\n",
              "    }\n",
              "</style>\n",
              "<table border=\"1\" class=\"dataframe\">\n",
              "  <thead>\n",
              "    <tr style=\"text-align: right;\">\n",
              "      <th></th>\n",
              "      <th>WorkingDate</th>\n",
              "      <th>Count</th>\n",
              "    </tr>\n",
              "  </thead>\n",
              "  <tbody>\n",
              "    <tr>\n",
              "      <th>0</th>\n",
              "      <td>2024-08-01</td>\n",
              "      <td>44910</td>\n",
              "    </tr>\n",
              "    <tr>\n",
              "      <th>1</th>\n",
              "      <td>2024-08-02</td>\n",
              "      <td>50112</td>\n",
              "    </tr>\n",
              "    <tr>\n",
              "      <th>2</th>\n",
              "      <td>2024-08-03</td>\n",
              "      <td>46188</td>\n",
              "    </tr>\n",
              "    <tr>\n",
              "      <th>3</th>\n",
              "      <td>2024-08-04</td>\n",
              "      <td>47655</td>\n",
              "    </tr>\n",
              "    <tr>\n",
              "      <th>4</th>\n",
              "      <td>2024-08-05</td>\n",
              "      <td>47143</td>\n",
              "    </tr>\n",
              "    <tr>\n",
              "      <th>5</th>\n",
              "      <td>2024-08-06</td>\n",
              "      <td>44536</td>\n",
              "    </tr>\n",
              "    <tr>\n",
              "      <th>6</th>\n",
              "      <td>2024-08-07</td>\n",
              "      <td>49242</td>\n",
              "    </tr>\n",
              "    <tr>\n",
              "      <th>7</th>\n",
              "      <td>2024-08-08</td>\n",
              "      <td>51493</td>\n",
              "    </tr>\n",
              "    <tr>\n",
              "      <th>8</th>\n",
              "      <td>2024-08-09</td>\n",
              "      <td>47185</td>\n",
              "    </tr>\n",
              "    <tr>\n",
              "      <th>9</th>\n",
              "      <td>2024-08-10</td>\n",
              "      <td>45431</td>\n",
              "    </tr>\n",
              "    <tr>\n",
              "      <th>10</th>\n",
              "      <td>2024-08-11</td>\n",
              "      <td>46756</td>\n",
              "    </tr>\n",
              "    <tr>\n",
              "      <th>11</th>\n",
              "      <td>2024-08-12</td>\n",
              "      <td>45256</td>\n",
              "    </tr>\n",
              "    <tr>\n",
              "      <th>12</th>\n",
              "      <td>2024-08-13</td>\n",
              "      <td>41743</td>\n",
              "    </tr>\n",
              "    <tr>\n",
              "      <th>13</th>\n",
              "      <td>2024-08-14</td>\n",
              "      <td>43136</td>\n",
              "    </tr>\n",
              "    <tr>\n",
              "      <th>14</th>\n",
              "      <td>2024-08-15</td>\n",
              "      <td>43302</td>\n",
              "    </tr>\n",
              "    <tr>\n",
              "      <th>15</th>\n",
              "      <td>2024-08-16</td>\n",
              "      <td>43802</td>\n",
              "    </tr>\n",
              "    <tr>\n",
              "      <th>16</th>\n",
              "      <td>2024-08-17</td>\n",
              "      <td>40566</td>\n",
              "    </tr>\n",
              "    <tr>\n",
              "      <th>17</th>\n",
              "      <td>2024-08-18</td>\n",
              "      <td>44173</td>\n",
              "    </tr>\n",
              "    <tr>\n",
              "      <th>18</th>\n",
              "      <td>2024-08-19</td>\n",
              "      <td>40891</td>\n",
              "    </tr>\n",
              "    <tr>\n",
              "      <th>19</th>\n",
              "      <td>2024-08-20</td>\n",
              "      <td>44291</td>\n",
              "    </tr>\n",
              "    <tr>\n",
              "      <th>20</th>\n",
              "      <td>2024-08-21</td>\n",
              "      <td>39750</td>\n",
              "    </tr>\n",
              "    <tr>\n",
              "      <th>21</th>\n",
              "      <td>2024-08-22</td>\n",
              "      <td>45263</td>\n",
              "    </tr>\n",
              "    <tr>\n",
              "      <th>22</th>\n",
              "      <td>2024-08-23</td>\n",
              "      <td>42453</td>\n",
              "    </tr>\n",
              "    <tr>\n",
              "      <th>23</th>\n",
              "      <td>2024-08-24</td>\n",
              "      <td>44337</td>\n",
              "    </tr>\n",
              "    <tr>\n",
              "      <th>24</th>\n",
              "      <td>2024-08-25</td>\n",
              "      <td>7765</td>\n",
              "    </tr>\n",
              "  </tbody>\n",
              "</table>\n",
              "</div>\n",
              "    <div class=\"colab-df-buttons\">\n",
              "\n",
              "  <div class=\"colab-df-container\">\n",
              "    <button class=\"colab-df-convert\" onclick=\"convertToInteractive('df-3f1a2854-d095-4f88-93d1-0ba0b7c0b522')\"\n",
              "            title=\"Convert this dataframe to an interactive table.\"\n",
              "            style=\"display:none;\">\n",
              "\n",
              "  <svg xmlns=\"http://www.w3.org/2000/svg\" height=\"24px\" viewBox=\"0 -960 960 960\">\n",
              "    <path d=\"M120-120v-720h720v720H120Zm60-500h600v-160H180v160Zm220 220h160v-160H400v160Zm0 220h160v-160H400v160ZM180-400h160v-160H180v160Zm440 0h160v-160H620v160ZM180-180h160v-160H180v160Zm440 0h160v-160H620v160Z\"/>\n",
              "  </svg>\n",
              "    </button>\n",
              "\n",
              "  <style>\n",
              "    .colab-df-container {\n",
              "      display:flex;\n",
              "      gap: 12px;\n",
              "    }\n",
              "\n",
              "    .colab-df-convert {\n",
              "      background-color: #E8F0FE;\n",
              "      border: none;\n",
              "      border-radius: 50%;\n",
              "      cursor: pointer;\n",
              "      display: none;\n",
              "      fill: #1967D2;\n",
              "      height: 32px;\n",
              "      padding: 0 0 0 0;\n",
              "      width: 32px;\n",
              "    }\n",
              "\n",
              "    .colab-df-convert:hover {\n",
              "      background-color: #E2EBFA;\n",
              "      box-shadow: 0px 1px 2px rgba(60, 64, 67, 0.3), 0px 1px 3px 1px rgba(60, 64, 67, 0.15);\n",
              "      fill: #174EA6;\n",
              "    }\n",
              "\n",
              "    .colab-df-buttons div {\n",
              "      margin-bottom: 4px;\n",
              "    }\n",
              "\n",
              "    [theme=dark] .colab-df-convert {\n",
              "      background-color: #3B4455;\n",
              "      fill: #D2E3FC;\n",
              "    }\n",
              "\n",
              "    [theme=dark] .colab-df-convert:hover {\n",
              "      background-color: #434B5C;\n",
              "      box-shadow: 0px 1px 3px 1px rgba(0, 0, 0, 0.15);\n",
              "      filter: drop-shadow(0px 1px 2px rgba(0, 0, 0, 0.3));\n",
              "      fill: #FFFFFF;\n",
              "    }\n",
              "  </style>\n",
              "\n",
              "    <script>\n",
              "      const buttonEl =\n",
              "        document.querySelector('#df-3f1a2854-d095-4f88-93d1-0ba0b7c0b522 button.colab-df-convert');\n",
              "      buttonEl.style.display =\n",
              "        google.colab.kernel.accessAllowed ? 'block' : 'none';\n",
              "\n",
              "      async function convertToInteractive(key) {\n",
              "        const element = document.querySelector('#df-3f1a2854-d095-4f88-93d1-0ba0b7c0b522');\n",
              "        const dataTable =\n",
              "          await google.colab.kernel.invokeFunction('convertToInteractive',\n",
              "                                                    [key], {});\n",
              "        if (!dataTable) return;\n",
              "\n",
              "        const docLinkHtml = 'Like what you see? Visit the ' +\n",
              "          '<a target=\"_blank\" href=https://colab.research.google.com/notebooks/data_table.ipynb>data table notebook</a>'\n",
              "          + ' to learn more about interactive tables.';\n",
              "        element.innerHTML = '';\n",
              "        dataTable['output_type'] = 'display_data';\n",
              "        await google.colab.output.renderOutput(dataTable, element);\n",
              "        const docLink = document.createElement('div');\n",
              "        docLink.innerHTML = docLinkHtml;\n",
              "        element.appendChild(docLink);\n",
              "      }\n",
              "    </script>\n",
              "  </div>\n",
              "\n",
              "\n",
              "<div id=\"df-45682d13-d272-421d-be69-dedf50ae7a7d\">\n",
              "  <button class=\"colab-df-quickchart\" onclick=\"quickchart('df-45682d13-d272-421d-be69-dedf50ae7a7d')\"\n",
              "            title=\"Suggest charts\"\n",
              "            style=\"display:none;\">\n",
              "\n",
              "<svg xmlns=\"http://www.w3.org/2000/svg\" height=\"24px\"viewBox=\"0 0 24 24\"\n",
              "     width=\"24px\">\n",
              "    <g>\n",
              "        <path d=\"M19 3H5c-1.1 0-2 .9-2 2v14c0 1.1.9 2 2 2h14c1.1 0 2-.9 2-2V5c0-1.1-.9-2-2-2zM9 17H7v-7h2v7zm4 0h-2V7h2v10zm4 0h-2v-4h2v4z\"/>\n",
              "    </g>\n",
              "</svg>\n",
              "  </button>\n",
              "\n",
              "<style>\n",
              "  .colab-df-quickchart {\n",
              "      --bg-color: #E8F0FE;\n",
              "      --fill-color: #1967D2;\n",
              "      --hover-bg-color: #E2EBFA;\n",
              "      --hover-fill-color: #174EA6;\n",
              "      --disabled-fill-color: #AAA;\n",
              "      --disabled-bg-color: #DDD;\n",
              "  }\n",
              "\n",
              "  [theme=dark] .colab-df-quickchart {\n",
              "      --bg-color: #3B4455;\n",
              "      --fill-color: #D2E3FC;\n",
              "      --hover-bg-color: #434B5C;\n",
              "      --hover-fill-color: #FFFFFF;\n",
              "      --disabled-bg-color: #3B4455;\n",
              "      --disabled-fill-color: #666;\n",
              "  }\n",
              "\n",
              "  .colab-df-quickchart {\n",
              "    background-color: var(--bg-color);\n",
              "    border: none;\n",
              "    border-radius: 50%;\n",
              "    cursor: pointer;\n",
              "    display: none;\n",
              "    fill: var(--fill-color);\n",
              "    height: 32px;\n",
              "    padding: 0;\n",
              "    width: 32px;\n",
              "  }\n",
              "\n",
              "  .colab-df-quickchart:hover {\n",
              "    background-color: var(--hover-bg-color);\n",
              "    box-shadow: 0 1px 2px rgba(60, 64, 67, 0.3), 0 1px 3px 1px rgba(60, 64, 67, 0.15);\n",
              "    fill: var(--button-hover-fill-color);\n",
              "  }\n",
              "\n",
              "  .colab-df-quickchart-complete:disabled,\n",
              "  .colab-df-quickchart-complete:disabled:hover {\n",
              "    background-color: var(--disabled-bg-color);\n",
              "    fill: var(--disabled-fill-color);\n",
              "    box-shadow: none;\n",
              "  }\n",
              "\n",
              "  .colab-df-spinner {\n",
              "    border: 2px solid var(--fill-color);\n",
              "    border-color: transparent;\n",
              "    border-bottom-color: var(--fill-color);\n",
              "    animation:\n",
              "      spin 1s steps(1) infinite;\n",
              "  }\n",
              "\n",
              "  @keyframes spin {\n",
              "    0% {\n",
              "      border-color: transparent;\n",
              "      border-bottom-color: var(--fill-color);\n",
              "      border-left-color: var(--fill-color);\n",
              "    }\n",
              "    20% {\n",
              "      border-color: transparent;\n",
              "      border-left-color: var(--fill-color);\n",
              "      border-top-color: var(--fill-color);\n",
              "    }\n",
              "    30% {\n",
              "      border-color: transparent;\n",
              "      border-left-color: var(--fill-color);\n",
              "      border-top-color: var(--fill-color);\n",
              "      border-right-color: var(--fill-color);\n",
              "    }\n",
              "    40% {\n",
              "      border-color: transparent;\n",
              "      border-right-color: var(--fill-color);\n",
              "      border-top-color: var(--fill-color);\n",
              "    }\n",
              "    60% {\n",
              "      border-color: transparent;\n",
              "      border-right-color: var(--fill-color);\n",
              "    }\n",
              "    80% {\n",
              "      border-color: transparent;\n",
              "      border-right-color: var(--fill-color);\n",
              "      border-bottom-color: var(--fill-color);\n",
              "    }\n",
              "    90% {\n",
              "      border-color: transparent;\n",
              "      border-bottom-color: var(--fill-color);\n",
              "    }\n",
              "  }\n",
              "</style>\n",
              "\n",
              "  <script>\n",
              "    async function quickchart(key) {\n",
              "      const quickchartButtonEl =\n",
              "        document.querySelector('#' + key + ' button');\n",
              "      quickchartButtonEl.disabled = true;  // To prevent multiple clicks.\n",
              "      quickchartButtonEl.classList.add('colab-df-spinner');\n",
              "      try {\n",
              "        const charts = await google.colab.kernel.invokeFunction(\n",
              "            'suggestCharts', [key], {});\n",
              "      } catch (error) {\n",
              "        console.error('Error during call to suggestCharts:', error);\n",
              "      }\n",
              "      quickchartButtonEl.classList.remove('colab-df-spinner');\n",
              "      quickchartButtonEl.classList.add('colab-df-quickchart-complete');\n",
              "    }\n",
              "    (() => {\n",
              "      let quickchartButtonEl =\n",
              "        document.querySelector('#df-45682d13-d272-421d-be69-dedf50ae7a7d button');\n",
              "      quickchartButtonEl.style.display =\n",
              "        google.colab.kernel.accessAllowed ? 'block' : 'none';\n",
              "    })();\n",
              "  </script>\n",
              "</div>\n",
              "\n",
              "  <div id=\"id_99215345-c528-477e-9d30-f2d83c978e73\">\n",
              "    <style>\n",
              "      .colab-df-generate {\n",
              "        background-color: #E8F0FE;\n",
              "        border: none;\n",
              "        border-radius: 50%;\n",
              "        cursor: pointer;\n",
              "        display: none;\n",
              "        fill: #1967D2;\n",
              "        height: 32px;\n",
              "        padding: 0 0 0 0;\n",
              "        width: 32px;\n",
              "      }\n",
              "\n",
              "      .colab-df-generate:hover {\n",
              "        background-color: #E2EBFA;\n",
              "        box-shadow: 0px 1px 2px rgba(60, 64, 67, 0.3), 0px 1px 3px 1px rgba(60, 64, 67, 0.15);\n",
              "        fill: #174EA6;\n",
              "      }\n",
              "\n",
              "      [theme=dark] .colab-df-generate {\n",
              "        background-color: #3B4455;\n",
              "        fill: #D2E3FC;\n",
              "      }\n",
              "\n",
              "      [theme=dark] .colab-df-generate:hover {\n",
              "        background-color: #434B5C;\n",
              "        box-shadow: 0px 1px 3px 1px rgba(0, 0, 0, 0.15);\n",
              "        filter: drop-shadow(0px 1px 2px rgba(0, 0, 0, 0.3));\n",
              "        fill: #FFFFFF;\n",
              "      }\n",
              "    </style>\n",
              "    <button class=\"colab-df-generate\" onclick=\"generateWithVariable('order_id_counts')\"\n",
              "            title=\"Generate code using this dataframe.\"\n",
              "            style=\"display:none;\">\n",
              "\n",
              "  <svg xmlns=\"http://www.w3.org/2000/svg\" height=\"24px\"viewBox=\"0 0 24 24\"\n",
              "       width=\"24px\">\n",
              "    <path d=\"M7,19H8.4L18.45,9,17,7.55,7,17.6ZM5,21V16.75L18.45,3.32a2,2,0,0,1,2.83,0l1.4,1.43a1.91,1.91,0,0,1,.58,1.4,1.91,1.91,0,0,1-.58,1.4L9.25,21ZM18.45,9,17,7.55Zm-12,3A5.31,5.31,0,0,0,4.9,8.1,5.31,5.31,0,0,0,1,6.5,5.31,5.31,0,0,0,4.9,4.9,5.31,5.31,0,0,0,6.5,1,5.31,5.31,0,0,0,8.1,4.9,5.31,5.31,0,0,0,12,6.5,5.46,5.46,0,0,0,6.5,12Z\"/>\n",
              "  </svg>\n",
              "    </button>\n",
              "    <script>\n",
              "      (() => {\n",
              "      const buttonEl =\n",
              "        document.querySelector('#id_99215345-c528-477e-9d30-f2d83c978e73 button.colab-df-generate');\n",
              "      buttonEl.style.display =\n",
              "        google.colab.kernel.accessAllowed ? 'block' : 'none';\n",
              "\n",
              "      buttonEl.onclick = () => {\n",
              "        google.colab.notebook.generateWithVariable('order_id_counts');\n",
              "      }\n",
              "      })();\n",
              "    </script>\n",
              "  </div>\n",
              "\n",
              "    </div>\n",
              "  </div>\n"
            ],
            "application/vnd.google.colaboratory.intrinsic+json": {
              "type": "dataframe",
              "variable_name": "order_id_counts",
              "summary": "{\n  \"name\": \"order_id_counts\",\n  \"rows\": 25,\n  \"fields\": [\n    {\n      \"column\": \"WorkingDate\",\n      \"properties\": {\n        \"dtype\": \"date\",\n        \"min\": \"2024-08-01 00:00:00\",\n        \"max\": \"2024-08-25 00:00:00\",\n        \"num_unique_values\": 25,\n        \"samples\": [\n          \"2024-08-09 00:00:00\",\n          \"2024-08-17 00:00:00\",\n          \"2024-08-01 00:00:00\"\n        ],\n        \"semantic_type\": \"\",\n        \"description\": \"\"\n      }\n    },\n    {\n      \"column\": \"Count\",\n      \"properties\": {\n        \"dtype\": \"number\",\n        \"std\": 7979,\n        \"min\": 7765,\n        \"max\": 51493,\n        \"num_unique_values\": 25,\n        \"samples\": [\n          47185,\n          40566,\n          44910\n        ],\n        \"semantic_type\": \"\",\n        \"description\": \"\"\n      }\n    }\n  ]\n}"
            },
            "application/vnd.google.colaboratory.module+javascript": "\n      import \"https://ssl.gstatic.com/colaboratory/data_table/f565ec32c7e6656f/data_table.js\";\n\n      const table = window.createDataTable({\n        data: [[{\n            'v': 0,\n            'f': \"0\",\n        },\n\"2024-08-01 00:00:00\",\n{\n            'v': 44910,\n            'f': \"44910\",\n        }],\n [{\n            'v': 1,\n            'f': \"1\",\n        },\n\"2024-08-02 00:00:00\",\n{\n            'v': 50112,\n            'f': \"50112\",\n        }],\n [{\n            'v': 2,\n            'f': \"2\",\n        },\n\"2024-08-03 00:00:00\",\n{\n            'v': 46188,\n            'f': \"46188\",\n        }],\n [{\n            'v': 3,\n            'f': \"3\",\n        },\n\"2024-08-04 00:00:00\",\n{\n            'v': 47655,\n            'f': \"47655\",\n        }],\n [{\n            'v': 4,\n            'f': \"4\",\n        },\n\"2024-08-05 00:00:00\",\n{\n            'v': 47143,\n            'f': \"47143\",\n        }],\n [{\n            'v': 5,\n            'f': \"5\",\n        },\n\"2024-08-06 00:00:00\",\n{\n            'v': 44536,\n            'f': \"44536\",\n        }],\n [{\n            'v': 6,\n            'f': \"6\",\n        },\n\"2024-08-07 00:00:00\",\n{\n            'v': 49242,\n            'f': \"49242\",\n        }],\n [{\n            'v': 7,\n            'f': \"7\",\n        },\n\"2024-08-08 00:00:00\",\n{\n            'v': 51493,\n            'f': \"51493\",\n        }],\n [{\n            'v': 8,\n            'f': \"8\",\n        },\n\"2024-08-09 00:00:00\",\n{\n            'v': 47185,\n            'f': \"47185\",\n        }],\n [{\n            'v': 9,\n            'f': \"9\",\n        },\n\"2024-08-10 00:00:00\",\n{\n            'v': 45431,\n            'f': \"45431\",\n        }],\n [{\n            'v': 10,\n            'f': \"10\",\n        },\n\"2024-08-11 00:00:00\",\n{\n            'v': 46756,\n            'f': \"46756\",\n        }],\n [{\n            'v': 11,\n            'f': \"11\",\n        },\n\"2024-08-12 00:00:00\",\n{\n            'v': 45256,\n            'f': \"45256\",\n        }],\n [{\n            'v': 12,\n            'f': \"12\",\n        },\n\"2024-08-13 00:00:00\",\n{\n            'v': 41743,\n            'f': \"41743\",\n        }],\n [{\n            'v': 13,\n            'f': \"13\",\n        },\n\"2024-08-14 00:00:00\",\n{\n            'v': 43136,\n            'f': \"43136\",\n        }],\n [{\n            'v': 14,\n            'f': \"14\",\n        },\n\"2024-08-15 00:00:00\",\n{\n            'v': 43302,\n            'f': \"43302\",\n        }],\n [{\n            'v': 15,\n            'f': \"15\",\n        },\n\"2024-08-16 00:00:00\",\n{\n            'v': 43802,\n            'f': \"43802\",\n        }],\n [{\n            'v': 16,\n            'f': \"16\",\n        },\n\"2024-08-17 00:00:00\",\n{\n            'v': 40566,\n            'f': \"40566\",\n        }],\n [{\n            'v': 17,\n            'f': \"17\",\n        },\n\"2024-08-18 00:00:00\",\n{\n            'v': 44173,\n            'f': \"44173\",\n        }],\n [{\n            'v': 18,\n            'f': \"18\",\n        },\n\"2024-08-19 00:00:00\",\n{\n            'v': 40891,\n            'f': \"40891\",\n        }],\n [{\n            'v': 19,\n            'f': \"19\",\n        },\n\"2024-08-20 00:00:00\",\n{\n            'v': 44291,\n            'f': \"44291\",\n        }],\n [{\n            'v': 20,\n            'f': \"20\",\n        },\n\"2024-08-21 00:00:00\",\n{\n            'v': 39750,\n            'f': \"39750\",\n        }],\n [{\n            'v': 21,\n            'f': \"21\",\n        },\n\"2024-08-22 00:00:00\",\n{\n            'v': 45263,\n            'f': \"45263\",\n        }],\n [{\n            'v': 22,\n            'f': \"22\",\n        },\n\"2024-08-23 00:00:00\",\n{\n            'v': 42453,\n            'f': \"42453\",\n        }],\n [{\n            'v': 23,\n            'f': \"23\",\n        },\n\"2024-08-24 00:00:00\",\n{\n            'v': 44337,\n            'f': \"44337\",\n        }],\n [{\n            'v': 24,\n            'f': \"24\",\n        },\n\"2024-08-25 00:00:00\",\n{\n            'v': 7765,\n            'f': \"7765\",\n        }]],\n        columns: [[\"number\", \"index\"], [\"string\", \"WorkingDate\"], [\"number\", \"Count\"]],\n        columnOptions: [{\"width\": \"1px\", \"className\": \"index_column\"}],\n        rowsPerPage: 25,\n        helpUrl: \"https://colab.research.google.com/notebooks/data_table.ipynb\",\n        suppressOutputScrolling: true,\n        minimumWidth: undefined,\n      });\n\n      function appendQuickchartButton(parentElement) {\n        let quickchartButtonContainerElement = document.createElement('div');\n        quickchartButtonContainerElement.innerHTML = `\n<div id=\"df-39175657-ae4c-4b14-8c8a-827f539e6175\">\n  <button class=\"colab-df-quickchart\" onclick=\"quickchart('df-39175657-ae4c-4b14-8c8a-827f539e6175')\"\n            title=\"Suggest charts\"\n            style=\"display:none;\">\n    \n<svg xmlns=\"http://www.w3.org/2000/svg\" height=\"24px\"viewBox=\"0 0 24 24\"\n     width=\"24px\">\n    <g>\n        <path d=\"M19 3H5c-1.1 0-2 .9-2 2v14c0 1.1.9 2 2 2h14c1.1 0 2-.9 2-2V5c0-1.1-.9-2-2-2zM9 17H7v-7h2v7zm4 0h-2V7h2v10zm4 0h-2v-4h2v4z\"/>\n    </g>\n</svg>\n  </button>\n  \n<style>\n  .colab-df-quickchart {\n      --bg-color: #E8F0FE;\n      --fill-color: #1967D2;\n      --hover-bg-color: #E2EBFA;\n      --hover-fill-color: #174EA6;\n      --disabled-fill-color: #AAA;\n      --disabled-bg-color: #DDD;\n  }\n\n  [theme=dark] .colab-df-quickchart {\n      --bg-color: #3B4455;\n      --fill-color: #D2E3FC;\n      --hover-bg-color: #434B5C;\n      --hover-fill-color: #FFFFFF;\n      --disabled-bg-color: #3B4455;\n      --disabled-fill-color: #666;\n  }\n\n  .colab-df-quickchart {\n    background-color: var(--bg-color);\n    border: none;\n    border-radius: 50%;\n    cursor: pointer;\n    display: none;\n    fill: var(--fill-color);\n    height: 32px;\n    padding: 0;\n    width: 32px;\n  }\n\n  .colab-df-quickchart:hover {\n    background-color: var(--hover-bg-color);\n    box-shadow: 0 1px 2px rgba(60, 64, 67, 0.3), 0 1px 3px 1px rgba(60, 64, 67, 0.15);\n    fill: var(--button-hover-fill-color);\n  }\n\n  .colab-df-quickchart-complete:disabled,\n  .colab-df-quickchart-complete:disabled:hover {\n    background-color: var(--disabled-bg-color);\n    fill: var(--disabled-fill-color);\n    box-shadow: none;\n  }\n\n  .colab-df-spinner {\n    border: 2px solid var(--fill-color);\n    border-color: transparent;\n    border-bottom-color: var(--fill-color);\n    animation:\n      spin 1s steps(1) infinite;\n  }\n\n  @keyframes spin {\n    0% {\n      border-color: transparent;\n      border-bottom-color: var(--fill-color);\n      border-left-color: var(--fill-color);\n    }\n    20% {\n      border-color: transparent;\n      border-left-color: var(--fill-color);\n      border-top-color: var(--fill-color);\n    }\n    30% {\n      border-color: transparent;\n      border-left-color: var(--fill-color);\n      border-top-color: var(--fill-color);\n      border-right-color: var(--fill-color);\n    }\n    40% {\n      border-color: transparent;\n      border-right-color: var(--fill-color);\n      border-top-color: var(--fill-color);\n    }\n    60% {\n      border-color: transparent;\n      border-right-color: var(--fill-color);\n    }\n    80% {\n      border-color: transparent;\n      border-right-color: var(--fill-color);\n      border-bottom-color: var(--fill-color);\n    }\n    90% {\n      border-color: transparent;\n      border-bottom-color: var(--fill-color);\n    }\n  }\n</style>\n\n  <script>\n    async function quickchart(key) {\n      const quickchartButtonEl =\n        document.querySelector('#' + key + ' button');\n      quickchartButtonEl.disabled = true;  // To prevent multiple clicks.\n      quickchartButtonEl.classList.add('colab-df-spinner');\n      try {\n        const charts = await google.colab.kernel.invokeFunction(\n            'suggestCharts', [key], {});\n      } catch (error) {\n        console.error('Error during call to suggestCharts:', error);\n      }\n      quickchartButtonEl.classList.remove('colab-df-spinner');\n      quickchartButtonEl.classList.add('colab-df-quickchart-complete');\n    }\n    (() => {\n      let quickchartButtonEl =\n        document.querySelector('#df-39175657-ae4c-4b14-8c8a-827f539e6175 button');\n      quickchartButtonEl.style.display =\n        google.colab.kernel.accessAllowed ? 'block' : 'none';\n    })();\n  </script>\n</div>`;\n        parentElement.appendChild(quickchartButtonContainerElement);\n      }\n\n      appendQuickchartButton(table);\n    "
          },
          "metadata": {},
          "execution_count": 76
        }
      ],
      "source": [
        "# Filter out rows where 'ID AGENT' or 'NAMA AGENT' is null\n",
        "filtered_df = ori_df.dropna(subset=['ID AGENT', 'NAMA AGENT','STATUS'])\n",
        "\n",
        "# Count occurrences of each ORDER ID grouped by Working Date\n",
        "order_id_counts = filtered_df.groupby(['WorkingDate'])['ORDER ID'].nunique().reset_index(name='Count')\n",
        "order_id_counts"
      ]
    },
    {
      "cell_type": "markdown",
      "metadata": {
        "id": "1wsd909Qr01_"
      },
      "source": [
        "##All Data"
      ]
    },
    {
      "cell_type": "markdown",
      "metadata": {
        "id": "L3G4GHf3nxDp"
      },
      "source": [
        "#Save Data"
      ]
    },
    {
      "cell_type": "code",
      "execution_count": null,
      "metadata": {
        "id": "E3lri-cVUhWx"
      },
      "outputs": [],
      "source": [
        "# Format the 'Modified Date' column to 'dd-mm-yyyy hh:mm:ss'\n",
        "# ori_df['Modified Date'] = ori_df['Modified Date'].dt.strftime('%d-%m-%Y %H:%M:%S')\n",
        "# ori_df['WorkingDate'] = ori_df['WorkingDate'].dt.strftime('%d-%m-%Y')\n",
        "\n",
        "# Format the 'Modified Date' column to 'dd-mm-yyyy hh:mm:ss'\n",
        "ori_df['Modified Date'] = ori_df['Modified Date'].dt.strftime('%d-%m-%Y %H:%M:%S')\n",
        "ori_df['WorkingDate'] = ori_df['WorkingDate'].dt.strftime('%d-%m-%Y')\n",
        "\n",
        "# First, convert the 'Face Score' column to numeric (float)\n",
        "ori_df['Face Score'] = pd.to_numeric(ori_df['Face Score'], errors='coerce')\n",
        "# Now, convert to integer\n",
        "ori_df['Face Score'] = ori_df['Face Score'].astype('Int64')\n",
        "ori_df['Face Score'] = ori_df['Face Score'].astype('str')\n",
        "\n",
        "# Replace NaN or NaT with blank (empty string)\n",
        "ori_df.replace({np.nan: '', pd.NaT: ''}, inplace=True)\n",
        "\n",
        "# Remove duplicates based on 'ORDER ID' and keep the first occurrence\n",
        "ori_df = ori_df.drop_duplicates(subset='ORDER ID', keep='first')\n",
        "\n",
        "ori_df.head(5)"
      ]
    },
    {
      "cell_type": "markdown",
      "metadata": {
        "id": "HNWdpryB6mbB"
      },
      "source": [
        "Save 1 File"
      ]
    },
    {
      "cell_type": "code",
      "execution_count": null,
      "metadata": {
        "id": "xCtqkAnBd-6O"
      },
      "outputs": [],
      "source": [
        "# from google.colab import files\n",
        "# # Save DataFrame to an Excel file\n",
        "ori_df.to_excel('Check1.xlsx',na_rep='', index=False)\n",
        "\n",
        "# # Download the file\n",
        "files.download('Check1.xlsx')"
      ]
    },
    {
      "cell_type": "markdown",
      "metadata": {
        "id": "vWG029O36pKR"
      },
      "source": [
        "Save 2 File"
      ]
    },
    {
      "cell_type": "code",
      "execution_count": 78,
      "metadata": {
        "colab": {
          "base_uri": "https://localhost:8080/"
        },
        "id": "-Uj4GnTbzA53",
        "outputId": "64c88a82-2a34-4b51-e7e7-99b9dbb9e433"
      },
      "outputs": [
        {
          "output_type": "stream",
          "name": "stdout",
          "text": [
            "Excel file /content/Check1.xlsx saved successfully.\n",
            "Excel file /content/Check2.xlsx saved successfully.\n"
          ]
        }
      ],
      "source": [
        "excel_path = '/content/'\n",
        "\n",
        "# Specify the chunk size (number of rows per Excel file)\n",
        "chunk_size = len(ori_df) // 2  # Split into two equal parts\n",
        "\n",
        "# Function to save chunks of DataFrame to Excel\n",
        "def save_to_excel(dataframe, suffix):\n",
        "    excel_file = f'{excel_path}Check{suffix}.xlsx'\n",
        "    dataframe.to_excel(excel_file, index=False)\n",
        "    print(f\"Excel file {excel_file} saved successfully.\")\n",
        "\n",
        "# Split ori_df into two chunks and save to separate Excel files\n",
        "Check_a = ori_df.iloc[:chunk_size]\n",
        "Check_b = ori_df.iloc[chunk_size:]\n",
        "\n",
        "save_to_excel(Check_a, '1')\n",
        "save_to_excel(Check_b, '2')\n",
        "\n",
        "\n"
      ]
    },
    {
      "cell_type": "code",
      "source": [
        "# # Download the file\n",
        "files.download('Check1.xlsx')\n",
        "files.download('Check2.xlsx')"
      ],
      "metadata": {
        "colab": {
          "base_uri": "https://localhost:8080/",
          "height": 17
        },
        "id": "6q34Rog0jk4A",
        "outputId": "0b65efda-a89d-4f6e-c823-9d817b58900d"
      },
      "execution_count": 79,
      "outputs": [
        {
          "output_type": "display_data",
          "data": {
            "text/plain": [
              "<IPython.core.display.Javascript object>"
            ],
            "application/javascript": [
              "\n",
              "    async function download(id, filename, size) {\n",
              "      if (!google.colab.kernel.accessAllowed) {\n",
              "        return;\n",
              "      }\n",
              "      const div = document.createElement('div');\n",
              "      const label = document.createElement('label');\n",
              "      label.textContent = `Downloading \"${filename}\": `;\n",
              "      div.appendChild(label);\n",
              "      const progress = document.createElement('progress');\n",
              "      progress.max = size;\n",
              "      div.appendChild(progress);\n",
              "      document.body.appendChild(div);\n",
              "\n",
              "      const buffers = [];\n",
              "      let downloaded = 0;\n",
              "\n",
              "      const channel = await google.colab.kernel.comms.open(id);\n",
              "      // Send a message to notify the kernel that we're ready.\n",
              "      channel.send({})\n",
              "\n",
              "      for await (const message of channel.messages) {\n",
              "        // Send a message to notify the kernel that we're ready.\n",
              "        channel.send({})\n",
              "        if (message.buffers) {\n",
              "          for (const buffer of message.buffers) {\n",
              "            buffers.push(buffer);\n",
              "            downloaded += buffer.byteLength;\n",
              "            progress.value = downloaded;\n",
              "          }\n",
              "        }\n",
              "      }\n",
              "      const blob = new Blob(buffers, {type: 'application/binary'});\n",
              "      const a = document.createElement('a');\n",
              "      a.href = window.URL.createObjectURL(blob);\n",
              "      a.download = filename;\n",
              "      div.appendChild(a);\n",
              "      a.click();\n",
              "      div.remove();\n",
              "    }\n",
              "  "
            ]
          },
          "metadata": {}
        },
        {
          "output_type": "display_data",
          "data": {
            "text/plain": [
              "<IPython.core.display.Javascript object>"
            ],
            "application/javascript": [
              "download(\"download_592e2be7-c583-4d0d-91e9-9980f06c3753\", \"Check1.xlsx\", 54155793)"
            ]
          },
          "metadata": {}
        },
        {
          "output_type": "display_data",
          "data": {
            "text/plain": [
              "<IPython.core.display.Javascript object>"
            ],
            "application/javascript": [
              "\n",
              "    async function download(id, filename, size) {\n",
              "      if (!google.colab.kernel.accessAllowed) {\n",
              "        return;\n",
              "      }\n",
              "      const div = document.createElement('div');\n",
              "      const label = document.createElement('label');\n",
              "      label.textContent = `Downloading \"${filename}\": `;\n",
              "      div.appendChild(label);\n",
              "      const progress = document.createElement('progress');\n",
              "      progress.max = size;\n",
              "      div.appendChild(progress);\n",
              "      document.body.appendChild(div);\n",
              "\n",
              "      const buffers = [];\n",
              "      let downloaded = 0;\n",
              "\n",
              "      const channel = await google.colab.kernel.comms.open(id);\n",
              "      // Send a message to notify the kernel that we're ready.\n",
              "      channel.send({})\n",
              "\n",
              "      for await (const message of channel.messages) {\n",
              "        // Send a message to notify the kernel that we're ready.\n",
              "        channel.send({})\n",
              "        if (message.buffers) {\n",
              "          for (const buffer of message.buffers) {\n",
              "            buffers.push(buffer);\n",
              "            downloaded += buffer.byteLength;\n",
              "            progress.value = downloaded;\n",
              "          }\n",
              "        }\n",
              "      }\n",
              "      const blob = new Blob(buffers, {type: 'application/binary'});\n",
              "      const a = document.createElement('a');\n",
              "      a.href = window.URL.createObjectURL(blob);\n",
              "      a.download = filename;\n",
              "      div.appendChild(a);\n",
              "      a.click();\n",
              "      div.remove();\n",
              "    }\n",
              "  "
            ]
          },
          "metadata": {}
        },
        {
          "output_type": "display_data",
          "data": {
            "text/plain": [
              "<IPython.core.display.Javascript object>"
            ],
            "application/javascript": [
              "download(\"download_2ef6aa19-58b2-4146-8ec6-c9847210a6f4\", \"Check2.xlsx\", 54059985)"
            ]
          },
          "metadata": {}
        }
      ]
    },
    {
      "cell_type": "markdown",
      "metadata": {
        "id": "nhK4rT8TLFvL"
      },
      "source": [
        "Save 3 File"
      ]
    },
    {
      "cell_type": "code",
      "execution_count": null,
      "metadata": {
        "id": "z2b1qQ8ULHEg"
      },
      "outputs": [],
      "source": [
        "excel_path = '/content/'\n",
        "\n",
        "# Specify the chunk size (number of rows per Excel file)\n",
        "chunk_size = len(ori_df) // 3  # Split into three equal parts\n",
        "\n",
        "# Function to save chunks of DataFrame to Excel\n",
        "def save_to_excel(dataframe, suffix):\n",
        "    excel_file = f'{excel_path}Check{suffix}.xlsx'\n",
        "    dataframe.to_excel(excel_file, index=False)\n",
        "    print(f\"Excel file {excel_file} saved successfully.\")\n",
        "\n",
        "# Split ori_df into three chunks and save to separate Excel files\n",
        "Check_a = ori_df.iloc[:chunk_size]\n",
        "Check_b = ori_df.iloc[chunk_size:2*chunk_size]\n",
        "Check_c = ori_df.iloc[2*chunk_size:]\n",
        "\n",
        "save_to_excel(Check_a, '1')\n",
        "save_to_excel(Check_b, '2')\n",
        "save_to_excel(Check_c, '3')\n"
      ]
    },
    {
      "cell_type": "code",
      "execution_count": null,
      "metadata": {
        "id": "tnwq-QEULIGS"
      },
      "outputs": [],
      "source": [
        "# # Download the file\n",
        "files.download('Check1.xlsx')\n",
        "files.download('Check2.xlsx')\n",
        "files.download('Check3.xlsx')"
      ]
    }
  ],
  "metadata": {
    "colab": {
      "provenance": [],
      "toc_visible": true
    },
    "kernelspec": {
      "display_name": "Python 3",
      "name": "python3"
    },
    "language_info": {
      "name": "python"
    }
  },
  "nbformat": 4,
  "nbformat_minor": 0
}